{
 "cells": [
  {
   "cell_type": "markdown",
   "id": "bb667370",
   "metadata": {},
   "source": [
    "ALS + GB\n",
    "Подобрать другие retrivials"
   ]
  },
  {
   "cell_type": "code",
   "execution_count": 1,
   "id": "ced3b545",
   "metadata": {},
   "outputs": [
    {
     "data": {
      "application/javascript": "IPython.notebook.set_autosave_interval(60000)"
     },
     "metadata": {},
     "output_type": "display_data"
    },
    {
     "name": "stdout",
     "output_type": "stream",
     "text": [
      "Autosaving every 60 seconds\n"
     ]
    }
   ],
   "source": [
    "%autosave 60\n",
    "%reload_ext autoreload\n",
    "%autoreload 2\n",
    "\n",
    "import sys; sys.path.insert(0, '..')  # noqa: E702"
   ]
  },
  {
   "cell_type": "code",
   "execution_count": 25,
   "id": "f4860451",
   "metadata": {},
   "outputs": [],
   "source": [
    "import polars as pl\n",
    "import numpy as np\n",
    "import implicit\n",
    "from scipy.sparse import csr_matrix\n",
    "from pathlib import Path\n",
    "from catboost import CatBoostClassifier\n",
    "from datetime import timedelta\n",
    "\n",
    "from tools.experiment_tracker import ExperimentTracker"
   ]
  },
  {
   "cell_type": "code",
   "execution_count": 20,
   "id": "8bb75a70",
   "metadata": {},
   "outputs": [],
   "source": [
    "DATA_DIR = Path.cwd().parent / \"data\" / \"avito_ml_cup\"\n",
    "EVAL_DAYS_TRESHOLD = 7"
   ]
  },
  {
   "cell_type": "code",
   "execution_count": 21,
   "id": "83e5295a",
   "metadata": {},
   "outputs": [],
   "source": [
    "df_test_users = pl.read_parquet(f'{DATA_DIR}/test_users.pq', n_rows=100_000)\n",
    "df_clickstream = pl.read_parquet(f'{DATA_DIR}/clickstream.pq', n_rows=100_000)\n",
    "\n",
    "df_cat_features = pl.read_parquet(f'{DATA_DIR}/cat_features.pq', n_rows=100_000)\n",
    "df_text_features = pl.read_parquet(f'{DATA_DIR}/text_features.pq', n_rows=100_000)\n",
    "df_event = pl.read_parquet(f'{DATA_DIR}/events.pq')"
   ]
  },
  {
   "cell_type": "code",
   "execution_count": 22,
   "id": "319ef528",
   "metadata": {},
   "outputs": [
    {
     "data": {
      "text/html": [
       "<div><style>\n",
       ".dataframe > thead > tr,\n",
       ".dataframe > tbody > tr {\n",
       "  text-align: right;\n",
       "  white-space: pre-wrap;\n",
       "}\n",
       "</style>\n",
       "<small>shape: (100_000, 7)</small><table border=\"1\" class=\"dataframe\"><thead><tr><th>cookie</th><th>item</th><th>event</th><th>event_date</th><th>platform</th><th>surface</th><th>node</th></tr><tr><td>i64</td><td>i64</td><td>i64</td><td>datetime[ns]</td><td>i64</td><td>i64</td><td>u32</td></tr></thead><tbody><tr><td>0</td><td>19915558</td><td>17</td><td>2025-02-05 02:30:59</td><td>3</td><td>2</td><td>115659</td></tr><tr><td>0</td><td>2680232</td><td>17</td><td>2025-01-24 21:16:57</td><td>3</td><td>2</td><td>115829</td></tr><tr><td>1</td><td>4247649</td><td>17</td><td>2025-01-29 23:00:58</td><td>2</td><td>2</td><td>7</td></tr><tr><td>1</td><td>4247649</td><td>17</td><td>2025-02-17 14:55:17</td><td>2</td><td>2</td><td>7</td></tr><tr><td>1</td><td>2171135</td><td>17</td><td>2025-01-17 19:23:29</td><td>2</td><td>2</td><td>214458</td></tr><tr><td>&hellip;</td><td>&hellip;</td><td>&hellip;</td><td>&hellip;</td><td>&hellip;</td><td>&hellip;</td><td>&hellip;</td></tr><tr><td>10725</td><td>8424390</td><td>17</td><td>2025-02-05 04:20:58</td><td>2</td><td>11</td><td>81455</td></tr><tr><td>10725</td><td>8424390</td><td>17</td><td>2025-01-31 09:30:52</td><td>2</td><td>11</td><td>81455</td></tr><tr><td>10725</td><td>24159200</td><td>17</td><td>2025-02-04 12:49:22</td><td>2</td><td>2</td><td>326790</td></tr><tr><td>10725</td><td>25720480</td><td>17</td><td>2025-01-31 04:23:18</td><td>2</td><td>15</td><td>81452</td></tr><tr><td>10725</td><td>15652401</td><td>17</td><td>2025-02-16 18:56:08</td><td>2</td><td>2</td><td>3987</td></tr></tbody></table></div>"
      ],
      "text/plain": [
       "shape: (100_000, 7)\n",
       "┌────────┬──────────┬───────┬─────────────────────┬──────────┬─────────┬────────┐\n",
       "│ cookie ┆ item     ┆ event ┆ event_date          ┆ platform ┆ surface ┆ node   │\n",
       "│ ---    ┆ ---      ┆ ---   ┆ ---                 ┆ ---      ┆ ---     ┆ ---    │\n",
       "│ i64    ┆ i64      ┆ i64   ┆ datetime[ns]        ┆ i64      ┆ i64     ┆ u32    │\n",
       "╞════════╪══════════╪═══════╪═════════════════════╪══════════╪═════════╪════════╡\n",
       "│ 0      ┆ 19915558 ┆ 17    ┆ 2025-02-05 02:30:59 ┆ 3        ┆ 2       ┆ 115659 │\n",
       "│ 0      ┆ 2680232  ┆ 17    ┆ 2025-01-24 21:16:57 ┆ 3        ┆ 2       ┆ 115829 │\n",
       "│ 1      ┆ 4247649  ┆ 17    ┆ 2025-01-29 23:00:58 ┆ 2        ┆ 2       ┆ 7      │\n",
       "│ 1      ┆ 4247649  ┆ 17    ┆ 2025-02-17 14:55:17 ┆ 2        ┆ 2       ┆ 7      │\n",
       "│ 1      ┆ 2171135  ┆ 17    ┆ 2025-01-17 19:23:29 ┆ 2        ┆ 2       ┆ 214458 │\n",
       "│ …      ┆ …        ┆ …     ┆ …                   ┆ …        ┆ …       ┆ …      │\n",
       "│ 10725  ┆ 8424390  ┆ 17    ┆ 2025-02-05 04:20:58 ┆ 2        ┆ 11      ┆ 81455  │\n",
       "│ 10725  ┆ 8424390  ┆ 17    ┆ 2025-01-31 09:30:52 ┆ 2        ┆ 11      ┆ 81455  │\n",
       "│ 10725  ┆ 24159200 ┆ 17    ┆ 2025-02-04 12:49:22 ┆ 2        ┆ 2       ┆ 326790 │\n",
       "│ 10725  ┆ 25720480 ┆ 17    ┆ 2025-01-31 04:23:18 ┆ 2        ┆ 15      ┆ 81452  │\n",
       "│ 10725  ┆ 15652401 ┆ 17    ┆ 2025-02-16 18:56:08 ┆ 2        ┆ 2       ┆ 3987   │\n",
       "└────────┴──────────┴───────┴─────────────────────┴──────────┴─────────┴────────┘"
      ]
     },
     "execution_count": 22,
     "metadata": {},
     "output_type": "execute_result"
    }
   ],
   "source": [
    "df_clickstream"
   ]
  },
  {
   "cell_type": "code",
   "execution_count": 23,
   "id": "191218bb",
   "metadata": {},
   "outputs": [
    {
     "name": "stderr",
     "output_type": "stream",
     "text": [
      "/tmp/ipykernel_203383/1528941487.py:8: DeprecationWarning: `is_in` with a collection of the same datatype is ambiguous and deprecated.\n",
      "Please use `implode` to return to previous behavior.\n",
      "\n",
      "See https://github.com/pola-rs/polars/issues/22149 for more information.\n",
      "  df_eval = df_eval.filter(\n",
      "/tmp/ipykernel_203383/1528941487.py:14: DeprecationWarning: `is_in` with a collection of the same datatype is ambiguous and deprecated.\n",
      "Please use `implode` to return to previous behavior.\n",
      "\n",
      "See https://github.com/pola-rs/polars/issues/22149 for more information.\n",
      "  df_eval = df_eval.filter(\n",
      "/tmp/ipykernel_203383/1528941487.py:16: DeprecationWarning: `is_in` with a collection of the same datatype is ambiguous and deprecated.\n",
      "Please use `implode` to return to previous behavior.\n",
      "\n",
      "See https://github.com/pola-rs/polars/issues/22149 for more information.\n",
      "  ).filter(\n"
     ]
    }
   ],
   "source": [
    "treshhold = df_clickstream['event_date'].max() - timedelta(days=EVAL_DAYS_TRESHOLD)\n",
    "\n",
    "df_train = df_clickstream.filter(df_clickstream['event_date']<= treshhold)\n",
    "\n",
    "df_eval = df_clickstream.filter(df_clickstream['event_date']> treshhold)[['cookie', 'node', 'event']]\n",
    "df_eval = df_eval.join(df_train, on=['cookie', 'node'], how='anti') # Делаем так, чтобы не предсказывать группы товаров, с которыми уже были взаимодействия\n",
    "\n",
    "df_eval = df_eval.filter(\n",
    "    pl.col('event').is_in(\n",
    "        df_event.filter(pl.col('is_contact')==1)['event'].unique()\n",
    "    )\n",
    ")\n",
    "\n",
    "df_eval = df_eval.filter(\n",
    "        pl.col('cookie').is_in(df_train['cookie'].unique())\n",
    "    ).filter(\n",
    "        pl.col('node').is_in(df_train['node'].unique())\n",
    "    )"
   ]
  },
  {
   "cell_type": "code",
   "execution_count": 24,
   "id": "492269b2",
   "metadata": {},
   "outputs": [],
   "source": [
    "df_eval = df_eval.unique(['cookie', 'node'])"
   ]
  },
  {
   "cell_type": "markdown",
   "id": "ec9eddfc",
   "metadata": {},
   "source": [
    "# Train model"
   ]
  },
  {
   "cell_type": "markdown",
   "id": "c16cd850",
   "metadata": {},
   "source": [
    "## Train ALS"
   ]
  },
  {
   "cell_type": "code",
   "execution_count": 26,
   "id": "c5e72b77",
   "metadata": {},
   "outputs": [],
   "source": [
    "def get_als_pred(users, nodes, user_to_pred):\n",
    "    user_ids = users.unique().to_list()\n",
    "    item_ids = nodes.unique().to_list()\n",
    "        \n",
    "    user_id_to_index = {user_id: idx for idx, user_id in enumerate(user_ids)}\n",
    "    item_id_to_index = {item_id: idx for idx, item_id in enumerate(item_ids)}\n",
    "    index_to_item_id = {v:k for k,v in item_id_to_index.items()}\n",
    "    \n",
    "    rows = users.replace_strict(user_id_to_index).to_list()\n",
    "    cols = nodes.replace_strict(item_id_to_index).to_list()\n",
    "    \n",
    "    values = [1] * len(users)\n",
    "    \n",
    "    sparse_matrix = csr_matrix((values, (rows, cols)), shape=(len(user_ids), len(item_ids)))\n",
    "    \n",
    "    model = implicit.als.AlternatingLeastSquares(iterations=10, factors=60)\n",
    "    model.fit(sparse_matrix, )\n",
    "    \n",
    "    \n",
    "    user4pred = np.array([user_id_to_index[i] for i in user_to_pred])\n",
    "    \n",
    "    recommendations, scores = model.recommend(user4pred, sparse_matrix[user4pred], N=40, filter_already_liked_items=True)\n",
    "    \n",
    "    df_pred = pl.DataFrame(\n",
    "        {\n",
    "            'node': [\n",
    "                [index_to_item_id[i] for i in i] for i in recommendations.tolist()\n",
    "            ], \n",
    "             'cookie': list(user_to_pred),\n",
    "            'scores': scores.tolist()\n",
    "            \n",
    "        }\n",
    "    )\n",
    "    df_pred = df_pred.explode(['node', 'scores'])\n",
    "    return df_pred"
   ]
  },
  {
   "cell_type": "code",
   "execution_count": 28,
   "id": "2a11d8c2",
   "metadata": {},
   "outputs": [
    {
     "name": "stderr",
     "output_type": "stream",
     "text": [
      "/home/silverservicepipe/projects/avito_cup_ml_2025/.venv/lib/python3.11/site-packages/implicit/cpu/als.py:95: RuntimeWarning: OpenBLAS is configured to use 16 threads. It is highly recommended to disable its internal threadpool by setting the environment variable 'OPENBLAS_NUM_THREADS=1' or by calling 'threadpoolctl.threadpool_limits(1, \"blas\")'. Having OpenBLAS use a threadpool can lead to severe performance issues here.\n",
      "  check_blas_config()\n",
      "100%|██████████| 10/10 [00:01<00:00,  8.66it/s]\n"
     ]
    }
   ],
   "source": [
    "users = df_train[\"cookie\"]\n",
    "nodes = df_train[\"node\"]\n",
    "eval_users = df_eval['cookie'].unique().to_list()\n",
    "\n",
    "df_pred = get_als_pred(users, nodes, eval_users)"
   ]
  },
  {
   "cell_type": "code",
   "execution_count": 29,
   "id": "1897a4e6",
   "metadata": {},
   "outputs": [
    {
     "data": {
      "text/html": [
       "<div><style>\n",
       ".dataframe > thead > tr,\n",
       ".dataframe > tbody > tr {\n",
       "  text-align: right;\n",
       "  white-space: pre-wrap;\n",
       "}\n",
       "</style>\n",
       "<small>shape: (7_160, 3)</small><table border=\"1\" class=\"dataframe\"><thead><tr><th>node</th><th>cookie</th><th>scores</th></tr><tr><td>i64</td><td>i64</td><td>f64</td></tr></thead><tbody><tr><td>229346</td><td>55</td><td>0.071387</td></tr><tr><td>229315</td><td>55</td><td>0.035229</td></tr><tr><td>229448</td><td>55</td><td>0.020347</td></tr><tr><td>128928</td><td>55</td><td>0.018957</td></tr><tr><td>229314</td><td>55</td><td>0.018756</td></tr><tr><td>&hellip;</td><td>&hellip;</td><td>&hellip;</td></tr><tr><td>262560</td><td>10721</td><td>0.015918</td></tr><tr><td>214377</td><td>10721</td><td>0.015828</td></tr><tr><td>152008</td><td>10721</td><td>0.015698</td></tr><tr><td>214213</td><td>10721</td><td>0.015138</td></tr><tr><td>229337</td><td>10721</td><td>0.01455</td></tr></tbody></table></div>"
      ],
      "text/plain": [
       "shape: (7_160, 3)\n",
       "┌────────┬────────┬──────────┐\n",
       "│ node   ┆ cookie ┆ scores   │\n",
       "│ ---    ┆ ---    ┆ ---      │\n",
       "│ i64    ┆ i64    ┆ f64      │\n",
       "╞════════╪════════╪══════════╡\n",
       "│ 229346 ┆ 55     ┆ 0.071387 │\n",
       "│ 229315 ┆ 55     ┆ 0.035229 │\n",
       "│ 229448 ┆ 55     ┆ 0.020347 │\n",
       "│ 128928 ┆ 55     ┆ 0.018957 │\n",
       "│ 229314 ┆ 55     ┆ 0.018756 │\n",
       "│ …      ┆ …      ┆ …        │\n",
       "│ 262560 ┆ 10721  ┆ 0.015918 │\n",
       "│ 214377 ┆ 10721  ┆ 0.015828 │\n",
       "│ 152008 ┆ 10721  ┆ 0.015698 │\n",
       "│ 214213 ┆ 10721  ┆ 0.015138 │\n",
       "│ 229337 ┆ 10721  ┆ 0.01455  │\n",
       "└────────┴────────┴──────────┘"
      ]
     },
     "execution_count": 29,
     "metadata": {},
     "output_type": "execute_result"
    }
   ],
   "source": [
    "df_pred"
   ]
  },
  {
   "cell_type": "markdown",
   "id": "01caae35",
   "metadata": {},
   "source": [
    "## Train catboost"
   ]
  },
  {
   "cell_type": "code",
   "execution_count": null,
   "id": "b29e5451",
   "metadata": {},
   "outputs": [],
   "source": []
  },
  {
   "cell_type": "markdown",
   "id": "0bbfad59",
   "metadata": {},
   "source": [
    "### Метрика"
   ]
  },
  {
   "cell_type": "code",
   "execution_count": 30,
   "id": "89f6289f",
   "metadata": {},
   "outputs": [],
   "source": [
    "def recall_at(df_true, df_pred, k=40):\n",
    "    return  df_true[['node', 'cookie']].join(\n",
    "        df_pred.group_by('cookie').head(k).with_columns(value=1)[['node', 'cookie', 'value']], \n",
    "        how='left',\n",
    "        on = ['cookie', 'node']\n",
    "    ).select(\n",
    "        [pl.col('value').fill_null(0), 'cookie']\n",
    "    ).group_by(\n",
    "        'cookie'\n",
    "    ).agg(\n",
    "        [\n",
    "            pl.col('value').sum()/pl.col(\n",
    "                'value'\n",
    "            ).count()\n",
    "        ]\n",
    "    )['value'].mean()\n"
   ]
  },
  {
   "cell_type": "code",
   "execution_count": 31,
   "id": "c2481264",
   "metadata": {},
   "outputs": [
    {
     "data": {
      "text/plain": [
       "0.18435754189944134"
      ]
     },
     "execution_count": 31,
     "metadata": {},
     "output_type": "execute_result"
    }
   ],
   "source": [
    "recall_at(df_eval, df_pred, k=40)"
   ]
  }
 ],
 "metadata": {
  "kernelspec": {
   "display_name": ".venv",
   "language": "python",
   "name": "python3"
  },
  "language_info": {
   "codemirror_mode": {
    "name": "ipython",
    "version": 3
   },
   "file_extension": ".py",
   "mimetype": "text/x-python",
   "name": "python",
   "nbconvert_exporter": "python",
   "pygments_lexer": "ipython3",
   "version": "3.11.11"
  }
 },
 "nbformat": 4,
 "nbformat_minor": 5
}
