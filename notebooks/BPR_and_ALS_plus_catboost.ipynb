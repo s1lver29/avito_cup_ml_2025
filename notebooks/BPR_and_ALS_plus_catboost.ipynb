{
 "cells": [
  {
   "cell_type": "code",
   "execution_count": 30,
   "id": "51b58389",
   "metadata": {},
   "outputs": [
    {
     "data": {
      "application/javascript": "IPython.notebook.set_autosave_interval(60000)"
     },
     "metadata": {},
     "output_type": "display_data"
    },
    {
     "name": "stdout",
     "output_type": "stream",
     "text": [
      "Autosaving every 60 seconds\n"
     ]
    }
   ],
   "source": [
    "%autosave 60\n",
    "%reload_ext autoreload\n",
    "%autoreload 2\n",
    "\n",
    "import sys\n",
    "import gc\n",
    "\n",
    "sys.path.insert(0, \"..\")  # noqa: E702"
   ]
  },
  {
   "cell_type": "code",
   "execution_count": 3,
   "id": "6b6481c2",
   "metadata": {},
   "outputs": [
    {
     "data": {
      "text/plain": [
       "1"
      ]
     },
     "execution_count": 3,
     "metadata": {},
     "output_type": "execute_result"
    }
   ],
   "source": [
    "from catboost.utils import get_gpu_device_count\n",
    "\n",
    "get_gpu_device_count()"
   ]
  },
  {
   "cell_type": "code",
   "execution_count": null,
   "id": "2e066762",
   "metadata": {},
   "outputs": [
    {
     "name": "stderr",
     "output_type": "stream",
     "text": [
      "/home/laptopml/avito_cup_ml_2025/.venv/lib/python3.11/site-packages/tqdm/auto.py:21: TqdmWarning: IProgress not found. Please update jupyter and ipywidgets. See https://ipywidgets.readthedocs.io/en/stable/user_install.html\n",
      "  from .autonotebook import tqdm as notebook_tqdm\n"
     ]
    }
   ],
   "source": [
    "import implicit.gpu\n",
    "import polars as pl\n",
    "import numpy as np\n",
    "import implicit\n",
    "from scipy.sparse import csr_matrix\n",
    "from pathlib import Path\n",
    "from catboost import CatBoostRanker, Pool\n",
    "from datetime import timedelta\n",
    "from hydra import compose, initialize\n",
    "from tqdm import tqdm\n",
    "\n",
    "\n",
    "implicit.gpu.HAS_CUDA\n",
    "from tools.retrievers import PopularItemsRetriever, CFRetriever\n",
    "from tools.experiment_tracker import ExperimentTracker"
   ]
  },
  {
   "cell_type": "code",
   "execution_count": 5,
   "id": "2c64771e",
   "metadata": {},
   "outputs": [],
   "source": [
    "def load_configs(config_path, config_name):\n",
    "    with initialize(config_path=config_path, version_base=None):\n",
    "        cfg = compose(config_name=config_name)\n",
    "\n",
    "        return cfg"
   ]
  },
  {
   "cell_type": "code",
   "execution_count": 6,
   "id": "ae83790b",
   "metadata": {},
   "outputs": [],
   "source": [
    "configs = load_configs(\"../configs\", \"config\")"
   ]
  },
  {
   "cell_type": "code",
   "execution_count": 7,
   "id": "cb965249",
   "metadata": {},
   "outputs": [],
   "source": [
    "# experiment_tracker = ExperimentTracker(**configs.clearml, config=configs)"
   ]
  },
  {
   "cell_type": "code",
   "execution_count": 8,
   "id": "c70456be",
   "metadata": {},
   "outputs": [],
   "source": [
    "# experiment_tracker.close()"
   ]
  },
  {
   "cell_type": "code",
   "execution_count": 9,
   "id": "8325e8dc",
   "metadata": {},
   "outputs": [],
   "source": [
    "from pathlib import Path\n",
    "\n",
    "DATA_DIR = Path.cwd().parent / \"data\" / \"avito_ml_cup\"\n",
    "# Разделение на три части: тренировочную, валидационную и тестовую\n",
    "VALID_DAYS_RETRIEVER = configs.validation.days_retriever\n",
    "VALID_DAYS_RERANKER = configs.validation.days_reranker"
   ]
  },
  {
   "cell_type": "code",
   "execution_count": 10,
   "id": "42014b20",
   "metadata": {},
   "outputs": [],
   "source": [
    "df_test_users = pl.read_parquet(f\"{DATA_DIR}/test_users.pq\")\n",
    "df_clickstream = pl.read_parquet(f\"{DATA_DIR}/clickstream.pq\")\n",
    "\n",
    "df_cat_features = pl.read_parquet(f\"{DATA_DIR}/cat_features.pq\")\n",
    "# df_text_features = pl.read_parquet(f\"{DATA_DIR}/text_features.pq\")\n",
    "df_event = pl.read_parquet(f\"{DATA_DIR}/events.pq\")"
   ]
  },
  {
   "cell_type": "code",
   "execution_count": 11,
   "id": "c78ca684",
   "metadata": {},
   "outputs": [
    {
     "name": "stderr",
     "output_type": "stream",
     "text": [
      "/tmp/ipykernel_26003/655004105.py:23: DeprecationWarning: `is_in` with a collection of the same datatype is ambiguous and deprecated.\n",
      "Please use `implode` to return to previous behavior.\n",
      "\n",
      "See https://github.com/pola-rs/polars/issues/22149 for more information.\n",
      "  df_eval = df_eval.filter(\n",
      "/tmp/ipykernel_26003/655004105.py:30: DeprecationWarning: `is_in` with a collection of the same datatype is ambiguous and deprecated.\n",
      "Please use `implode` to return to previous behavior.\n",
      "\n",
      "See https://github.com/pola-rs/polars/issues/22149 for more information.\n",
      "  df_eval = df_eval.filter(\n",
      "/tmp/ipykernel_26003/655004105.py:32: DeprecationWarning: `is_in` with a collection of the same datatype is ambiguous and deprecated.\n",
      "Please use `implode` to return to previous behavior.\n",
      "\n",
      "See https://github.com/pola-rs/polars/issues/22149 for more information.\n",
      "  ).filter(pl.col(\"node\").is_in(df_train_data[\"node\"].unique()))\n"
     ]
    }
   ],
   "source": [
    "# Определяем границы для разделения данных\n",
    "max_date = df_clickstream[\"event_date\"].max()\n",
    "retrivial_threshold = max_date - timedelta(days=VALID_DAYS_RETRIEVER + VALID_DAYS_RERANKER)\n",
    "reranker_threshold = max_date - timedelta(days=VALID_DAYS_RERANKER)\n",
    "\n",
    "# Разделяем данные\n",
    "df_train_retrivial = df_clickstream.filter(pl.col(\"event_date\") < retrivial_threshold)\n",
    "df_train_reranker = df_clickstream.filter(\n",
    "    pl.col(\"event_date\").is_between(retrivial_threshold, reranker_threshold)\n",
    ")\n",
    "df_valid = df_clickstream.filter(pl.col(\"event_date\") > reranker_threshold)\n",
    "\n",
    "\n",
    "# Создаем оценочные наборы для валидации и тестирования\n",
    "def prepare_eval_set(df_eval_raw, df_train_data):\n",
    "    # Выбираем только нужные колонки\n",
    "    df_eval = df_eval_raw[[\"cookie\", \"node\", \"event\"]]\n",
    "\n",
    "    # Исключаем пары cookie-node, которые уже встречались в тренировочных данных\n",
    "    df_eval = df_eval.join(df_train_data, on=[\"cookie\", \"node\"], how=\"anti\")\n",
    "\n",
    "    # Оставляем только контактные события\n",
    "    df_eval = df_eval.filter(\n",
    "        pl.col(\"event\").is_in(\n",
    "            df_event.filter(pl.col(\"is_contact\") == 1)[\"event\"].unique()\n",
    "        )\n",
    "    )\n",
    "\n",
    "    # Оставляем только существующие в тренировочных данных cookies и nodes\n",
    "    df_eval = df_eval.filter(\n",
    "        pl.col(\"cookie\").is_in(df_train_data[\"cookie\"].unique())\n",
    "    ).filter(pl.col(\"node\").is_in(df_train_data[\"node\"].unique()))\n",
    "\n",
    "    # Оставляем только уникальные пары cookie-node\n",
    "    df_eval = df_eval.unique([\"cookie\", \"node\"])\n",
    "\n",
    "    return df_eval\n",
    "\n",
    "\n",
    "# Подготавливаем валидационный и тестовый наборы\n",
    "df_valid_eval_retrivial = prepare_eval_set(df_train_reranker, df_train_retrivial)\n",
    "df_valid_eval_reranker = prepare_eval_set(\n",
    "    df_valid, pl.concat([df_train_retrivial, df_train_reranker])\n",
    ")\n",
    "\n",
    "df_train_retrivial = df_train_retrivial.join(df_event, on=\"event\")\n",
    "\n",
    "df_train_reranker = df_train_reranker.join(df_event, on=\"event\")\n",
    "\n",
    "df_valid = df_valid.join(df_event, on=\"event\")"
   ]
  },
  {
   "cell_type": "code",
   "execution_count": 12,
   "id": "d8d28dca",
   "metadata": {},
   "outputs": [
    {
     "name": "stdout",
     "output_type": "stream",
     "text": [
      "Размер тренировочного набора retrivial: (45631757, 8)\n",
      "Размер валидационного набора reranker: (11400304, 8)\n",
      "Размер валидационного набора: (11774091, 8)\n",
      "Размер валидационного набора для оценки retrivial: (72271, 3)\n",
      "Размер валидационного набора для оценки reranker: (74771, 3)\n"
     ]
    }
   ],
   "source": [
    "# Выводим информацию о размерах наборов данных\n",
    "print(f\"Размер тренировочного набора retrivial: {df_train_retrivial.shape}\")\n",
    "print(f\"Размер валидационного набора reranker: {df_train_reranker.shape}\")\n",
    "print(f\"Размер валидационного набора: {df_valid.shape}\")\n",
    "print(\n",
    "    f\"Размер валидационного набора для оценки retrivial: {df_valid_eval_retrivial.shape}\"\n",
    ")\n",
    "print(\n",
    "    f\"Размер валидационного набора для оценки reranker: {df_valid_eval_reranker.shape}\"\n",
    ")"
   ]
  },
  {
   "cell_type": "code",
   "execution_count": 13,
   "id": "2fe675e9",
   "metadata": {},
   "outputs": [],
   "source": [
    "eval_users = df_valid_eval_retrivial[\"cookie\"].unique().to_list()"
   ]
  },
  {
   "cell_type": "code",
   "execution_count": 14,
   "id": "ebf632a4",
   "metadata": {},
   "outputs": [],
   "source": [
    "def recall_at(df_true, df_pred, k=40):\n",
    "    \"\"\"Вычисляет метрику Recall@K для рекомендаций\"\"\"\n",
    "    return (\n",
    "        df_true[[\"node\", \"cookie\"]]\n",
    "        .join(\n",
    "            df_pred.group_by(\"cookie\")\n",
    "            .head(k)\n",
    "            .with_columns(value=1)[[\"node\", \"cookie\", \"value\"]],\n",
    "            how=\"left\",\n",
    "            on=[\"cookie\", \"node\"],\n",
    "        )\n",
    "        .select([pl.col(\"value\").fill_null(0), \"cookie\"])\n",
    "        .group_by(\"cookie\")\n",
    "        .agg([pl.col(\"value\").sum() / pl.col(\"value\").count()])[\"value\"]\n",
    "        .mean()\n",
    "    )\n",
    "\n",
    "\n",
    "def evaluate_models(\n",
    "    df_true, df_candidates_pred, df_reranker_pred=None, k_values=[10, 20, 30, 40]\n",
    "):\n",
    "    \"\"\"Сравнивает модели по метрике Recall@K для разных значений K\"\"\"\n",
    "    results = {}\n",
    "\n",
    "    for k in k_values:\n",
    "        results[f\"CF_recall@{k}\"] = recall_at(df_true, df_candidates_pred, k=k)\n",
    "        if df_reranker_pred is not None:\n",
    "            results[f\"Reranker_recall@{k}\"] = recall_at(df_true, df_reranker_pred, k=k)\n",
    "\n",
    "    return results"
   ]
  },
  {
   "cell_type": "markdown",
   "id": "decbe323",
   "metadata": {},
   "source": [
    "# ALS"
   ]
  },
  {
   "cell_type": "code",
   "execution_count": 15,
   "id": "cc396058",
   "metadata": {},
   "outputs": [],
   "source": [
    "als_retriever = CFRetriever(implicit.als.AlternatingLeastSquares, iterations=30, factors=100, regularization=0.7, use_gpu=True, random_state=123)"
   ]
  },
  {
   "cell_type": "code",
   "execution_count": 16,
   "id": "f1fb8f9a",
   "metadata": {},
   "outputs": [
    {
     "name": "stderr",
     "output_type": "stream",
     "text": [
      "/tmp/ipykernel_26003/1562741574.py:9: DeprecationWarning: `pl.count()` is deprecated. Please use `pl.len()` instead.\n",
      "  pl.count().alias(\"total_interactions\"),\n"
     ]
    }
   ],
   "source": [
    "def clean_interactions_for_als(df_clickstream):\n",
    "    \"\"\"\n",
    "    Комплексная очистка для ALS\n",
    "    \"\"\"\n",
    "    # 1. Агрегируем по cookie-node с приоритетом контактных событий\n",
    "    cleaned = df_clickstream.group_by([\"cookie\", \"node\", \"item\"]).agg([\n",
    "        pl.col(\"is_contact\").max().alias(\"is_contact\"),  # Если хоть раз был контакт\n",
    "        pl.col(\"event_date\").max().alias(\"last_interaction\"),\n",
    "        pl.count().alias(\"total_interactions\"),\n",
    "        pl.col(\"is_contact\").sum().alias(\"contact_interactions\")\n",
    "    ]).with_columns([\n",
    "        # Создаем финальный вес для ALS\n",
    "        pl.when(pl.col(\"is_contact\") == 1)\n",
    "        .then(5.0 + pl.col(\"contact_interactions\").log1p())  # Больше контактов = больше уверенности\n",
    "        .otherwise(0.5 + pl.col(\"total_interactions\").log1p() * 0.1)  # Неконтактные получают малый вес\n",
    "        .alias(\"als_weight\")\n",
    "    ])\n",
    "    \n",
    "    return cleaned.select([\"cookie\", \"node\", \"is_contact\", \"als_weight\"])\n",
    "\n",
    "\n",
    "df_clean_retrivial = clean_interactions_for_als(df_train_retrivial)"
   ]
  },
  {
   "cell_type": "code",
   "execution_count": 17,
   "id": "1a3a7c98",
   "metadata": {},
   "outputs": [],
   "source": [
    "users = df_clean_retrivial[\"cookie\"]\n",
    "nodes = df_clean_retrivial[\"node\"]\n",
    "weights_for_als = df_clean_retrivial[\"als_weight\"]\n",
    "\n",
    "del df_clean_retrivial"
   ]
  },
  {
   "cell_type": "code",
   "execution_count": 18,
   "id": "c61dd640",
   "metadata": {},
   "outputs": [
    {
     "name": "stderr",
     "output_type": "stream",
     "text": [
      "100%|██████████| 30/30 [00:52<00:00,  1.74s/it]\n"
     ]
    }
   ],
   "source": [
    "als_retriever.fit(users, nodes, is_contact_col=weights_for_als)\n",
    "df_pred_alt = als_retriever.recommend(eval_users, 300)\n",
    "\n",
    "del users, nodes, weights_for_als\n",
    "# als_retriever"
   ]
  },
  {
   "cell_type": "code",
   "execution_count": 19,
   "id": "f7dc62b7",
   "metadata": {},
   "outputs": [
    {
     "name": "stdout",
     "output_type": "stream",
     "text": [
      "\n",
      "Результаты ALS модели на валидационном наборе:\n",
      "CF_recall@10: 0.0666\n",
      "CF_recall@20: 0.1029\n",
      "CF_recall@30: 0.1312\n",
      "CF_recall@40: 0.1540\n"
     ]
    }
   ],
   "source": [
    "als_results = evaluate_models(\n",
    "    df_valid_eval_retrivial, df_pred_alt, k_values=[10, 20, 30, 40]\n",
    ")\n",
    "print(\"\\nРезультаты ALS модели на валидационном наборе:\")\n",
    "for metric, value in als_results.items():\n",
    "    print(f\"{metric}: {value:.4f}\")"
   ]
  },
  {
   "cell_type": "markdown",
   "id": "21f5a497",
   "metadata": {},
   "source": [
    "# BPR"
   ]
  },
  {
   "cell_type": "code",
   "execution_count": 20,
   "id": "e5d99f3a",
   "metadata": {},
   "outputs": [],
   "source": [
    "bpr_retriever = CFRetriever(implicit.bpr.BayesianPersonalizedRanking, iterations=50, factors=64, regularization=0.001, learning_rate=0.01, use_gpu=True, random_state=123)"
   ]
  },
  {
   "cell_type": "code",
   "execution_count": 21,
   "id": "4036f819",
   "metadata": {},
   "outputs": [],
   "source": [
    "def prepare_temporal_bpr_data(df_clickstream, train_days_back=30):\n",
    "    \"\"\"\n",
    "    Подготавливает данные с учетом временной динамики для BPR\n",
    "    \"\"\"\n",
    "    # Сортируем по времени\n",
    "    df_sorted = df_clickstream.sort(\"event_date\")\n",
    "    \n",
    "    # Берем только последние train_days_back дней для обучения\n",
    "    max_date = df_sorted[\"event_date\"].max()\n",
    "    train_start = max_date - timedelta(days=train_days_back)\n",
    "    \n",
    "    df_recent = df_sorted.filter(pl.col(\"event_date\") >= train_start)\n",
    "    \n",
    "    # Для BPR лучше убрать дубликаты пользователь-товар, оставив последнее взаимодействие\n",
    "    df_deduplicated = df_recent.sort(\"event_date\").group_by(\n",
    "        [\"cookie\", \"node\", \"item\"]\n",
    "    ).agg(\n",
    "        pl.col(\"is_contact\").max()\n",
    "    )\n",
    "\n",
    "    df_deduplicated = df_deduplicated.group_by(\n",
    "        [\"cookie\", \"node\"]\n",
    "    ).last()\n",
    "    \n",
    "    return df_deduplicated\n",
    "\n",
    "df_temporal_bpr = prepare_temporal_bpr_data(df_train_retrivial, train_days_back=21)\n",
    "\n",
    "# def prepare_improved_bpr_data(df_clickstream, min_interactions=3):\n",
    "#     \"\"\"\n",
    "#     Улучшенная подготовка данных для BPR\n",
    "#     \"\"\"\n",
    "#     # Фильтруем активных пользователей и популярные товары\n",
    "#     active_users = df_clickstream.group_by(\"cookie\").len().filter(\n",
    "#         pl.col(\"len\") >= min_interactions\n",
    "#     )[\"cookie\"]\n",
    "    \n",
    "#     popular_items = df_clickstream.group_by(\"node\").len().filter(\n",
    "#         pl.col(\"len\") >= 2  # минимум 5 взаимодействий\n",
    "#     )[\"node\"]\n",
    "    \n",
    "#     df_filtered = df_clickstream.filter(\n",
    "#         pl.col(\"cookie\").is_in(active_users) &\n",
    "#         pl.col(\"node\").is_in(popular_items)\n",
    "#     )\n",
    "    \n",
    "#     # Добавляем временные веса (более свежие взаимодействия важнее)\n",
    "#     max_date = df_filtered[\"event_date\"].max()\n",
    "#     df_filtered = df_filtered.with_columns([\n",
    "#         ((max_date - pl.col(\"event_date\")).dt.total_days() / 30.0).alias(\"days_ago\"),\n",
    "#     ]).with_columns([\n",
    "#         # Временной вес: более свежие = больше вес\n",
    "#         pl.when(pl.col(\"is_contact\") == 1)\n",
    "#         .then(2.0 * (-pl.col(\"days_ago\") * 0.1).exp())  # Контакты с временным весом\n",
    "#         .otherwise(0.5 * (-pl.col(\"days_ago\") * 0.05).exp())  # Просмотры с меньшим весом\n",
    "#         .alias(\"temporal_weight\")\n",
    "#     ])\n",
    "    \n",
    "#     return df_filtered\n",
    "\n",
    "# df_temporal_bpr = prepare_improved_bpr_data(df_train_retrivial)"
   ]
  },
  {
   "cell_type": "code",
   "execution_count": 22,
   "id": "1b074b17",
   "metadata": {},
   "outputs": [],
   "source": [
    "users = df_temporal_bpr[\"cookie\"]\n",
    "nodes = df_temporal_bpr[\"node\"]\n",
    "contact_cols = df_temporal_bpr[\"is_contact\"]\n",
    "\n",
    "del df_temporal_bpr"
   ]
  },
  {
   "cell_type": "code",
   "execution_count": 23,
   "id": "678c9644",
   "metadata": {},
   "outputs": [
    {
     "name": "stderr",
     "output_type": "stream",
     "text": [
      "100%|██████████| 50/50 [00:23<00:00,  2.15it/s, train_auc=94.72%, skipped=4.23%]\n"
     ]
    }
   ],
   "source": [
    "bpr_retriever.fit(users, nodes, is_contact_col=contact_cols)"
   ]
  },
  {
   "cell_type": "code",
   "execution_count": 24,
   "id": "d05c43fe",
   "metadata": {},
   "outputs": [],
   "source": [
    "df_pred_bpr = bpr_retriever.recommend(eval_users, 300)\n",
    "\n",
    "del users, nodes, contact_cols\n",
    "# bpr_retriever"
   ]
  },
  {
   "cell_type": "code",
   "execution_count": 25,
   "id": "f8e0926f",
   "metadata": {},
   "outputs": [
    {
     "name": "stdout",
     "output_type": "stream",
     "text": [
      "\n",
      "Результаты BPR модели на валидационном наборе:\n",
      "CF_recall@10: 0.0387\n",
      "CF_recall@20: 0.0582\n",
      "CF_recall@30: 0.0737\n",
      "CF_recall@40: 0.0858\n"
     ]
    }
   ],
   "source": [
    "bpr_results = evaluate_models(\n",
    "    df_valid_eval_retrivial, df_pred_bpr, k_values=[10, 20, 30, 40]\n",
    ")\n",
    "print(\"\\nРезультаты BPR модели на валидационном наборе:\")\n",
    "for metric, value in bpr_results.items():\n",
    "    print(f\"{metric}: {value:.4f}\")"
   ]
  },
  {
   "cell_type": "code",
   "execution_count": 26,
   "id": "87cfe78c",
   "metadata": {},
   "outputs": [],
   "source": [
    "# df_pred_alt = df_pred_alt.sort([\"cookie\", \"scores\"], descending=[False, True]).with_columns(\n",
    "#     pl.int_range(pl.len()).over(\"cookie\").alias(\"rank_als\")\n",
    "# )"
   ]
  },
  {
   "cell_type": "code",
   "execution_count": 27,
   "id": "4124c115",
   "metadata": {},
   "outputs": [],
   "source": [
    "# df_pred_bpr = df_pred_bpr.sort([\"cookie\", \"scores\"], descending=[False, True]).with_columns(\n",
    "#     pl.int_range(pl.len()).over(\"cookie\").alias(\"rank_bpr\")\n",
    "# )"
   ]
  },
  {
   "cell_type": "code",
   "execution_count": 28,
   "id": "d556b1d7",
   "metadata": {},
   "outputs": [
    {
     "name": "stdout",
     "output_type": "stream",
     "text": [
      "(17628856, 4)\n"
     ]
    },
    {
     "data": {
      "text/html": [
       "<div><style>\n",
       ".dataframe > thead > tr,\n",
       ".dataframe > tbody > tr {\n",
       "  text-align: right;\n",
       "  white-space: pre-wrap;\n",
       "}\n",
       "</style>\n",
       "<small>shape: (5, 4)</small><table border=\"1\" class=\"dataframe\"><thead><tr><th>node</th><th>cookie</th><th>als_score</th><th>bpr_score</th></tr><tr><td>i64</td><td>i64</td><td>f64</td><td>f64</td></tr></thead><tbody><tr><td>115834</td><td>0</td><td>0.844753</td><td>4.974972</td></tr><tr><td>214235</td><td>0</td><td>0.75322</td><td>null</td></tr><tr><td>1923</td><td>0</td><td>0.719228</td><td>4.060912</td></tr><tr><td>214234</td><td>0</td><td>0.688234</td><td>null</td></tr><tr><td>115713</td><td>0</td><td>0.676143</td><td>3.813639</td></tr></tbody></table></div>"
      ],
      "text/plain": [
       "shape: (5, 4)\n",
       "┌────────┬────────┬───────────┬───────────┐\n",
       "│ node   ┆ cookie ┆ als_score ┆ bpr_score │\n",
       "│ ---    ┆ ---    ┆ ---       ┆ ---       │\n",
       "│ i64    ┆ i64    ┆ f64       ┆ f64       │\n",
       "╞════════╪════════╪═══════════╪═══════════╡\n",
       "│ 115834 ┆ 0      ┆ 0.844753  ┆ 4.974972  │\n",
       "│ 214235 ┆ 0      ┆ 0.75322   ┆ null      │\n",
       "│ 1923   ┆ 0      ┆ 0.719228  ┆ 4.060912  │\n",
       "│ 214234 ┆ 0      ┆ 0.688234  ┆ null      │\n",
       "│ 115713 ┆ 0      ┆ 0.676143  ┆ 3.813639  │\n",
       "└────────┴────────┴───────────┴───────────┘"
      ]
     },
     "execution_count": 28,
     "metadata": {},
     "output_type": "execute_result"
    }
   ],
   "source": [
    "cadidates_df = df_pred_alt.rename({\"scores\": \"als_score\"}).join(\n",
    "    df_pred_bpr.rename({\"scores\": \"bpr_score\"}),\n",
    "    on=[\"node\", \"cookie\"],\n",
    "    how=\"full\",\n",
    "    coalesce=True)\n",
    "# ).with_columns([\n",
    "#     # Добавляем флаги наличия рекомендаций\n",
    "#     pl.col(\"als_score\").is_not_null().alias(\"has_als_rec\"),\n",
    "#     pl.col(\"bpr_score\").is_not_null().alias(\"has_bpr_rec\"),\n",
    "    \n",
    "#     pl.col(\"als_score\").fill_null(pl.col(\"als_score\").min()),\n",
    "#     pl.col(\"bpr_score\").fill_null(pl.col(\"bpr_score\").min())\n",
    "# ]).with_columns([\n",
    "#     # Считаем количество моделей, рекомендовавших товар\n",
    "#     (pl.col(\"has_als_rec\").cast(pl.Int32) + \n",
    "#      pl.col(\"has_bpr_rec\").cast(pl.Int32)).alias(\"recommendation_count\")\n",
    "# ])\n",
    "\n",
    "print(cadidates_df.shape)\n",
    "cadidates_df.head()"
   ]
  },
  {
   "cell_type": "code",
   "execution_count": 29,
   "id": "f591e424",
   "metadata": {},
   "outputs": [],
   "source": [
    "def get_missing_scores(df_candidates, model, model_name=\"als\"):\n",
    "    \"\"\"Получает скоры для кандидатов, которых нет в рекомендациях модели\"\"\"\n",
    "    \n",
    "    # Находим пары (user, item) без скоров\n",
    "    missing_scores = df_candidates.filter(\n",
    "        pl.col(f\"{model_name}_score\").is_null()\n",
    "    )\n",
    "    \n",
    "    if len(missing_scores) == 0:\n",
    "        return df_candidates\n",
    "    \n",
    "    # Получаем скоры напрямую от модели\n",
    "    users = missing_scores[\"cookie\"].unique().to_list()\n",
    "\n",
    "    df_pred = pl.DataFrame(schema={\"cookie\": pl.Int64, \"node\": pl.Int64, f\"{model_name}_score\": pl.Float64})\n",
    "    for user_id in tqdm(users):\n",
    "        if user_id in model._user_id_to_index:\n",
    "            user_idx = model._user_id_to_index[user_id]\n",
    "            user_items = missing_scores.filter(pl.col(\"cookie\") == user_id)[\"node\"].to_list()\n",
    "\n",
    "            item_idx = [model._item_id_to_index[i] for i in user_items]\n",
    "            reccommends, scores = model.model.recommend(user_idx, model._sparse_matrix[user_idx], N=len(item_idx), filter_already_liked_items=False, items=item_idx)\n",
    "            node_list = [model._index_to_item_id[i] for i in reccommends]\n",
    "\n",
    "            df_pred = pl.concat([df_pred, \n",
    "                                pl.DataFrame({\"cookie\": user_id, \"node\": node_list, f\"{model_name}_score\": scores.tolist()},\n",
    "                                             schema={\"cookie\": pl.Int64, \"node\": pl.Int64, f\"{model_name}_score\": pl.Float64})])\n",
    "            \n",
    "    df_candidates = df_candidates.join(\n",
    "        df_pred,\n",
    "        on=[\"cookie\", \"node\"],\n",
    "        how=\"left\",\n",
    "        suffix=\"_new\"\n",
    "    ).with_columns(\n",
    "        pl.coalesce([\n",
    "            pl.col(f\"{model_name}_score\"),\n",
    "            pl.col(f\"{model_name}_score_new\")\n",
    "        ]).alias(f\"{model_name}_score\")\n",
    "    ).drop(f\"{model_name}_score_new\")\n",
    "    \n",
    "    return df_candidates"
   ]
  },
  {
   "cell_type": "code",
   "execution_count": null,
   "id": "e7808416",
   "metadata": {},
   "outputs": [
    {
     "name": "stderr",
     "output_type": "stream",
     "text": [
      "100%|██████████| 33463/33463 [07:29<00:00, 74.48it/s]\n",
      "100%|██████████| 33758/33758 [07:34<00:00, 74.35it/s]\n"
     ]
    },
    {
     "data": {
      "text/plain": [
       "7"
      ]
     },
     "execution_count": 31,
     "metadata": {},
     "output_type": "execute_result"
    }
   ],
   "source": [
    "# Использование\n",
    "df_candidates_with_scores = get_missing_scores(cadidates_df, als_retriever, \"als\")\n",
    "df_candidates_with_scores = get_missing_scores(df_candidates_with_scores, bpr_retriever, \"bpr\")\n",
    "\n",
    "del als_retriever, bpr_retriever, cadidates_df\n",
    "gc.collect()"
   ]
  },
  {
   "cell_type": "markdown",
   "id": "ddf51be3",
   "metadata": {},
   "source": [
    "# Catboost"
   ]
  },
  {
   "cell_type": "code",
   "execution_count": null,
   "id": "bb386f7e",
   "metadata": {},
   "outputs": [],
   "source": [
    "df_candidates_train = df_candidates_with_scores.join(\n",
    "    df_train_reranker[\"node\", \"cookie\", \"is_contact\"]\n",
    "    .sort(\"is_contact\", descending=True)\n",
    "    .unique([\"cookie\", \"node\"]),\n",
    "    on=[\"cookie\", \"node\"],\n",
    "    how=\"left\",\n",
    ").fill_null(0)\n",
    "\n",
    "del df_candidates_with_scores"
   ]
  },
  {
   "cell_type": "code",
   "execution_count": null,
   "id": "0ed1bcb9",
   "metadata": {},
   "outputs": [
    {
     "name": "stdout",
     "output_type": "stream",
     "text": [
      "Позитивных примеров (только контакты): 30494\n",
      "['node', 'cookie', 'als_score', 'bpr_score', 'is_contact']\n"
     ]
    },
    {
     "name": "stderr",
     "output_type": "stream",
     "text": [
      "100%|██████████| 19151/19151 [03:47<00:00, 84.03it/s]\n"
     ]
    },
    {
     "name": "stdout",
     "output_type": "stream",
     "text": [
      "['node', 'cookie', 'als_score', 'bpr_score', 'is_contact']\n",
      "Негативных примеров: 152470\n",
      "Итоговый размер: 182964\n",
      "Доля позитивных: 0.167\n"
     ]
    }
   ],
   "source": [
    "def improved_frequency_based_negative_sampling(df_candidates, df_reranker_data, negative_ratio=3):\n",
    "    \"\"\"\n",
    "    Улучшенная версия с корректным определением позитивных примеров\n",
    "    \"\"\"\n",
    "    # 1. ТОЛЬКО контактные события как позитивные примеры\n",
    "    df_positive = df_candidates.join(\n",
    "        df_reranker_data.filter(pl.col(\"is_contact\") == 1)  # ТОЛЬКО контакты!\n",
    "        [[\"cookie\", \"node\"]]\n",
    "        .unique([\"cookie\", \"node\"]),\n",
    "        on=[\"cookie\", \"node\"],\n",
    "        how=\"inner\"\n",
    "    ).with_columns(pl.lit(1).alias(\"is_contact\"))  # Явно помечаем как позитивные\n",
    "    \n",
    "    print(f\"Позитивных примеров (только контакты): {df_positive.shape[0]}\")\n",
    "    print(df_positive.columns)\n",
    "    \n",
    "    # 2. Все остальные кандидаты - негативные\n",
    "    df_negative_pool = df_candidates.join(\n",
    "        df_positive[[\"cookie\", \"node\"]],\n",
    "        on=[\"cookie\", \"node\"],\n",
    "        how=\"anti\"\n",
    "    ).with_columns(pl.lit(0).alias(\"is_contact\"))\n",
    "    \n",
    "    # 3. Добавляем частоты для взвешенного сэмплирования\n",
    "    node_frequencies = df_reranker_data.group_by(\"node\").len().rename({\"len\": \"frequency\"})\n",
    "    df_negative_pool = df_negative_pool.join(node_frequencies, on=\"node\", how=\"left\").with_columns(\n",
    "        pl.col(\"frequency\").fill_null(1)\n",
    "    )\n",
    "    \n",
    "    negative_samples = []\n",
    "    \n",
    "    for user in tqdm(df_positive[\"cookie\"].unique()):\n",
    "        user_positives_count = len(df_positive.filter(pl.col(\"cookie\") == user))\n",
    "        needed_negatives = user_positives_count * negative_ratio\n",
    "        \n",
    "        user_negative_pool = df_negative_pool.filter(pl.col(\"cookie\") == user)\n",
    "        \n",
    "        if len(user_negative_pool) == 0:\n",
    "            continue\n",
    "            \n",
    "        # Взвешенное сэмплирование\n",
    "        user_negative_pool = user_negative_pool.with_columns([\n",
    "            (pl.col(\"frequency\").log1p() * 0.3 +\n",
    "             pl.col(\"als_score\").rank(descending=True) * 0.5 +\n",
    "             pl.col(\"bpr_score\").rank(descending=True) * 0.2\n",
    "            ).alias(\"sampling_weight\")\n",
    "        ])\n",
    "        \n",
    "        if len(user_negative_pool) <= needed_negatives:\n",
    "            user_negatives = user_negative_pool\n",
    "        else:\n",
    "            total_weight = user_negative_pool[\"sampling_weight\"].sum()\n",
    "            sampling_probs = (user_negative_pool[\"sampling_weight\"] / total_weight).to_list()\n",
    "            \n",
    "            selected_indices = np.random.choice(\n",
    "                len(user_negative_pool),\n",
    "                size=needed_negatives,\n",
    "                replace=False,\n",
    "                p=sampling_probs\n",
    "            )\n",
    "            \n",
    "            user_negatives = user_negative_pool[selected_indices]\n",
    "        \n",
    "        negative_samples.append(user_negatives.drop([\"frequency\", \"sampling_weight\"]))\n",
    "    \n",
    "    if negative_samples:\n",
    "        df_negatives = pl.concat(negative_samples)\n",
    "        print(df_negatives.columns)\n",
    "        df_result = pl.concat([df_positive, df_negatives])\n",
    "    else:\n",
    "        df_result = df_positive\n",
    "    \n",
    "    print(f\"Негативных примеров: {len(df_negatives) if negative_samples else 0}\")\n",
    "    print(f\"Итоговый размер: {df_result.shape[0]}\")\n",
    "    print(f\"Доля позитивных: {df_positive.shape[0] / df_result.shape[0]:.3f}\")\n",
    "    \n",
    "    return df_result\n",
    "\n",
    "# Используем улучшенную версию\n",
    "df_candidates_train_improved = improved_frequency_based_negative_sampling(\n",
    "    df_candidates_train,\n",
    "    df_train_reranker,\n",
    "    negative_ratio=5\n",
    ")\n",
    "\n",
    "del df_candidates_train"
   ]
  },
  {
   "cell_type": "code",
   "execution_count": 35,
   "id": "589cd576",
   "metadata": {},
   "outputs": [
    {
     "data": {
      "text/html": [
       "<div><style>\n",
       ".dataframe > thead > tr,\n",
       ".dataframe > tbody > tr {\n",
       "  text-align: right;\n",
       "  white-space: pre-wrap;\n",
       "}\n",
       "</style>\n",
       "<small>shape: (182_964, 5)</small><table border=\"1\" class=\"dataframe\"><thead><tr><th>node</th><th>cookie</th><th>als_score</th><th>bpr_score</th><th>is_contact</th></tr><tr><td>i64</td><td>i64</td><td>f64</td><td>f64</td><td>i32</td></tr></thead><tbody><tr><td>214261</td><td>1</td><td>0.312046</td><td>1.444052</td><td>1</td></tr><tr><td>151577</td><td>2</td><td>0.851258</td><td>3.826634</td><td>1</td></tr><tr><td>214377</td><td>3</td><td>0.501293</td><td>4.378954</td><td>1</td></tr><tr><td>194770</td><td>7</td><td>0.039922</td><td>2.252387</td><td>1</td></tr><tr><td>214239</td><td>16</td><td>0.01188</td><td>0.486548</td><td>1</td></tr><tr><td>&hellip;</td><td>&hellip;</td><td>&hellip;</td><td>&hellip;</td><td>&hellip;</td></tr><tr><td>261641</td><td>149998</td><td>0.013189</td><td>3.145392</td><td>0</td></tr><tr><td>170555</td><td>149998</td><td>0.068307</td><td>0.169966</td><td>0</td></tr><tr><td>152950</td><td>149998</td><td>0.018514</td><td>3.475289</td><td>0</td></tr><tr><td>115826</td><td>149998</td><td>0.065343</td><td>-0.71774</td><td>0</td></tr><tr><td>152994</td><td>149998</td><td>0.066258</td><td>2.979696</td><td>0</td></tr></tbody></table></div>"
      ],
      "text/plain": [
       "shape: (182_964, 5)\n",
       "┌────────┬────────┬───────────┬───────────┬────────────┐\n",
       "│ node   ┆ cookie ┆ als_score ┆ bpr_score ┆ is_contact │\n",
       "│ ---    ┆ ---    ┆ ---       ┆ ---       ┆ ---        │\n",
       "│ i64    ┆ i64    ┆ f64       ┆ f64       ┆ i32        │\n",
       "╞════════╪════════╪═══════════╪═══════════╪════════════╡\n",
       "│ 214261 ┆ 1      ┆ 0.312046  ┆ 1.444052  ┆ 1          │\n",
       "│ 151577 ┆ 2      ┆ 0.851258  ┆ 3.826634  ┆ 1          │\n",
       "│ 214377 ┆ 3      ┆ 0.501293  ┆ 4.378954  ┆ 1          │\n",
       "│ 194770 ┆ 7      ┆ 0.039922  ┆ 2.252387  ┆ 1          │\n",
       "│ 214239 ┆ 16     ┆ 0.01188   ┆ 0.486548  ┆ 1          │\n",
       "│ …      ┆ …      ┆ …         ┆ …         ┆ …          │\n",
       "│ 261641 ┆ 149998 ┆ 0.013189  ┆ 3.145392  ┆ 0          │\n",
       "│ 170555 ┆ 149998 ┆ 0.068307  ┆ 0.169966  ┆ 0          │\n",
       "│ 152950 ┆ 149998 ┆ 0.018514  ┆ 3.475289  ┆ 0          │\n",
       "│ 115826 ┆ 149998 ┆ 0.065343  ┆ -0.71774  ┆ 0          │\n",
       "│ 152994 ┆ 149998 ┆ 0.066258  ┆ 2.979696  ┆ 0          │\n",
       "└────────┴────────┴───────────┴───────────┴────────────┘"
      ]
     },
     "execution_count": 35,
     "metadata": {},
     "output_type": "execute_result"
    }
   ],
   "source": [
    "df_candidates_train_improved"
   ]
  },
  {
   "cell_type": "code",
   "execution_count": null,
   "id": "83863c00",
   "metadata": {},
   "outputs": [
    {
     "name": "stdout",
     "output_type": "stream",
     "text": [
      "(182964, 42)\n"
     ]
    },
    {
     "data": {
      "text/html": [
       "<div><style>\n",
       ".dataframe > thead > tr,\n",
       ".dataframe > tbody > tr {\n",
       "  text-align: right;\n",
       "  white-space: pre-wrap;\n",
       "}\n",
       "</style>\n",
       "<small>shape: (182_964, 42)</small><table border=\"1\" class=\"dataframe\"><thead><tr><th>node</th><th>cookie</th><th>als_score</th><th>bpr_score</th><th>is_contact</th><th>category</th><th>user_total_interactions</th><th>user_unique_nodes</th><th>user_unique_events</th><th>user_total_contacts</th><th>user_contact_ratio</th><th>user_activity_span_days</th><th>days_since_user_last_activity</th><th>user_account_age_days</th><th>user_interactions_last_3d</th><th>user_unique_nodes_last_3d</th><th>user_contacts_last_3d</th><th>user_interactions_last_7d</th><th>user_unique_nodes_last_7d</th><th>user_contacts_last_7d</th><th>user_interactions_last_14d</th><th>user_unique_nodes_last_14d</th><th>user_contacts_last_14d</th><th>user_interactions_last_30d</th><th>user_unique_nodes_last_30d</th><th>user_contacts_last_30d</th><th>item_total_interactions</th><th>item_unique_users</th><th>item_total_contacts</th><th>item_contact_ratio</th><th>item_age_days</th><th>days_since_item_last_interaction</th><th>category_total_interactions</th><th>category_unique_items</th><th>category_unique_users</th><th>category_total_contacts</th><th>category_contact_ratio</th><th>item_user_interaction_product</th><th>user_item_contact_affinity</th><th>is_new_item</th><th>is_recently_active_user</th><th>item_category_popularity_ratio</th></tr><tr><td>i64</td><td>i64</td><td>f64</td><td>f64</td><td>i32</td><td>i64</td><td>i64</td><td>i64</td><td>i64</td><td>i64</td><td>f64</td><td>i64</td><td>i64</td><td>i64</td><td>i64</td><td>i64</td><td>i64</td><td>i64</td><td>i64</td><td>i64</td><td>i64</td><td>i64</td><td>i64</td><td>i64</td><td>i64</td><td>i64</td><td>i64</td><td>i64</td><td>i64</td><td>f64</td><td>i64</td><td>i64</td><td>i64</td><td>i64</td><td>i64</td><td>i64</td><td>f64</td><td>f64</td><td>f64</td><td>i32</td><td>i32</td><td>f64</td></tr></thead><tbody><tr><td>214261</td><td>1</td><td>0.312046</td><td>1.444052</td><td>1</td><td>37</td><td>3266</td><td>911</td><td>10</td><td>53</td><td>0.016228</td><td>29</td><td>0</td><td>29</td><td>353</td><td>206</td><td>11</td><td>691</td><td>331</td><td>16</td><td>1243</td><td>513</td><td>24</td><td>3266</td><td>911</td><td>53</td><td>15495</td><td>4567</td><td>1734</td><td>0.111907</td><td>29</td><td>0</td><td>1873464</td><td>258</td><td>81384</td><td>120806</td><td>0.064483</td><td>78.07075</td><td>0.001816</td><td>0</td><td>1</td><td>0.008271</td></tr><tr><td>151577</td><td>2</td><td>0.851258</td><td>3.826634</td><td>1</td><td>40</td><td>903</td><td>159</td><td>8</td><td>26</td><td>0.028793</td><td>28</td><td>0</td><td>29</td><td>162</td><td>32</td><td>13</td><td>324</td><td>54</td><td>13</td><td>512</td><td>82</td><td>22</td><td>903</td><td>159</td><td>26</td><td>44427</td><td>7737</td><td>329</td><td>0.007405</td><td>29</td><td>0</td><td>5897889</td><td>2061</td><td>58039</td><td>70364</td><td>0.01193</td><td>72.844136</td><td>0.000213</td><td>0</td><td>1</td><td>0.007533</td></tr><tr><td>214377</td><td>3</td><td>0.501293</td><td>4.378954</td><td>1</td><td>37</td><td>537</td><td>65</td><td>2</td><td>23</td><td>0.042831</td><td>27</td><td>1</td><td>28</td><td>17</td><td>11</td><td>0</td><td>31</td><td>14</td><td>0</td><td>430</td><td>35</td><td>19</td><td>537</td><td>65</td><td>23</td><td>29913</td><td>3722</td><td>2199</td><td>0.073513</td><td>29</td><td>0</td><td>1873464</td><td>258</td><td>81384</td><td>120806</td><td>0.064483</td><td>64.803185</td><td>0.003149</td><td>0</td><td>1</td><td>0.015967</td></tr><tr><td>194770</td><td>7</td><td>0.039922</td><td>2.252387</td><td>1</td><td>57</td><td>96</td><td>4</td><td>4</td><td>2</td><td>0.020833</td><td>20</td><td>0</td><td>20</td><td>75</td><td>4</td><td>2</td><td>94</td><td>4</td><td>2</td><td>95</td><td>4</td><td>2</td><td>96</td><td>4</td><td>2</td><td>4652</td><td>2047</td><td>243</td><td>0.052236</td><td>29</td><td>0</td><td>2329176</td><td>8186</td><td>41469</td><td>152207</td><td>0.065348</td><td>38.634658</td><td>0.001088</td><td>0</td><td>1</td><td>0.001997</td></tr><tr><td>214239</td><td>16</td><td>0.01188</td><td>0.486548</td><td>1</td><td>37</td><td>3</td><td>2</td><td>1</td><td>0</td><td>0.0</td><td>2</td><td>2</td><td>5</td><td>2</td><td>1</td><td>0</td><td>3</td><td>2</td><td>0</td><td>3</td><td>2</td><td>0</td><td>3</td><td>2</td><td>0</td><td>110281</td><td>20389</td><td>4147</td><td>0.037604</td><td>29</td><td>0</td><td>1873464</td><td>258</td><td>81384</td><td>120806</td><td>0.064483</td><td>16.095981</td><td>0.0</td><td>0</td><td>1</td><td>0.058865</td></tr><tr><td>&hellip;</td><td>&hellip;</td><td>&hellip;</td><td>&hellip;</td><td>&hellip;</td><td>&hellip;</td><td>&hellip;</td><td>&hellip;</td><td>&hellip;</td><td>&hellip;</td><td>&hellip;</td><td>&hellip;</td><td>&hellip;</td><td>&hellip;</td><td>&hellip;</td><td>&hellip;</td><td>&hellip;</td><td>&hellip;</td><td>&hellip;</td><td>&hellip;</td><td>&hellip;</td><td>&hellip;</td><td>&hellip;</td><td>&hellip;</td><td>&hellip;</td><td>&hellip;</td><td>&hellip;</td><td>&hellip;</td><td>&hellip;</td><td>&hellip;</td><td>&hellip;</td><td>&hellip;</td><td>&hellip;</td><td>&hellip;</td><td>&hellip;</td><td>&hellip;</td><td>&hellip;</td><td>&hellip;</td><td>&hellip;</td><td>&hellip;</td><td>&hellip;</td><td>&hellip;</td></tr><tr><td>261641</td><td>149998</td><td>0.013189</td><td>3.145392</td><td>0</td><td>51</td><td>308</td><td>62</td><td>5</td><td>4</td><td>0.012987</td><td>27</td><td>1</td><td>29</td><td>5</td><td>5</td><td>0</td><td>20</td><td>9</td><td>1</td><td>110</td><td>25</td><td>2</td><td>308</td><td>62</td><td>4</td><td>435</td><td>264</td><td>11</td><td>0.025287</td><td>29</td><td>0</td><td>3946889</td><td>113371</td><td>52231</td><td>126682</td><td>0.032097</td><td>34.845197</td><td>0.000328</td><td>0</td><td>1</td><td>0.00011</td></tr><tr><td>170555</td><td>149998</td><td>0.068307</td><td>0.169966</td><td>0</td><td>52</td><td>308</td><td>62</td><td>5</td><td>4</td><td>0.012987</td><td>27</td><td>1</td><td>29</td><td>5</td><td>5</td><td>0</td><td>20</td><td>9</td><td>1</td><td>110</td><td>25</td><td>2</td><td>308</td><td>62</td><td>4</td><td>5751</td><td>2520</td><td>52</td><td>0.009042</td><td>29</td><td>0</td><td>1267216</td><td>2853</td><td>38770</td><td>30082</td><td>0.023739</td><td>49.635272</td><td>0.000117</td><td>0</td><td>1</td><td>0.004538</td></tr><tr><td>152950</td><td>149998</td><td>0.018514</td><td>3.475289</td><td>0</td><td>40</td><td>308</td><td>62</td><td>5</td><td>4</td><td>0.012987</td><td>27</td><td>1</td><td>29</td><td>5</td><td>5</td><td>0</td><td>20</td><td>9</td><td>1</td><td>110</td><td>25</td><td>2</td><td>308</td><td>62</td><td>4</td><td>269</td><td>159</td><td>3</td><td>0.011152</td><td>29</td><td>0</td><td>5897889</td><td>2061</td><td>58039</td><td>70364</td><td>0.01193</td><td>32.097664</td><td>0.000145</td><td>0</td><td>1</td><td>0.000046</td></tr><tr><td>115826</td><td>149998</td><td>0.065343</td><td>-0.71774</td><td>0</td><td>19</td><td>308</td><td>62</td><td>5</td><td>4</td><td>0.012987</td><td>27</td><td>1</td><td>29</td><td>5</td><td>5</td><td>0</td><td>20</td><td>9</td><td>1</td><td>110</td><td>25</td><td>2</td><td>308</td><td>62</td><td>4</td><td>25734</td><td>4581</td><td>448</td><td>0.017409</td><td>29</td><td>0</td><td>2173922</td><td>4150</td><td>54731</td><td>50632</td><td>0.023291</td><td>58.225562</td><td>0.000226</td><td>0</td><td>1</td><td>0.011838</td></tr><tr><td>152994</td><td>149998</td><td>0.066258</td><td>2.979696</td><td>0</td><td>40</td><td>308</td><td>62</td><td>5</td><td>4</td><td>0.012987</td><td>27</td><td>1</td><td>29</td><td>5</td><td>5</td><td>0</td><td>20</td><td>9</td><td>1</td><td>110</td><td>25</td><td>2</td><td>308</td><td>62</td><td>4</td><td>2494</td><td>609</td><td>26</td><td>0.010425</td><td>29</td><td>0</td><td>5897889</td><td>2061</td><td>58039</td><td>70364</td><td>0.01193</td><td>44.846448</td><td>0.000135</td><td>0</td><td>1</td><td>0.000423</td></tr></tbody></table></div>"
      ],
      "text/plain": [
       "shape: (182_964, 42)\n",
       "┌────────┬────────┬───────────┬───────────┬───┬─────────────┬────────────┬────────────┬────────────┐\n",
       "│ node   ┆ cookie ┆ als_score ┆ bpr_score ┆ … ┆ user_item_c ┆ is_new_ite ┆ is_recentl ┆ item_categ │\n",
       "│ ---    ┆ ---    ┆ ---       ┆ ---       ┆   ┆ ontact_affi ┆ m          ┆ y_active_u ┆ ory_popula │\n",
       "│ i64    ┆ i64    ┆ f64       ┆ f64       ┆   ┆ nity        ┆ ---        ┆ ser        ┆ rity_ratio │\n",
       "│        ┆        ┆           ┆           ┆   ┆ ---         ┆ i32        ┆ ---        ┆ ---        │\n",
       "│        ┆        ┆           ┆           ┆   ┆ f64         ┆            ┆ i32        ┆ f64        │\n",
       "╞════════╪════════╪═══════════╪═══════════╪═══╪═════════════╪════════════╪════════════╪════════════╡\n",
       "│ 214261 ┆ 1      ┆ 0.312046  ┆ 1.444052  ┆ … ┆ 0.001816    ┆ 0          ┆ 1          ┆ 0.008271   │\n",
       "│ 151577 ┆ 2      ┆ 0.851258  ┆ 3.826634  ┆ … ┆ 0.000213    ┆ 0          ┆ 1          ┆ 0.007533   │\n",
       "│ 214377 ┆ 3      ┆ 0.501293  ┆ 4.378954  ┆ … ┆ 0.003149    ┆ 0          ┆ 1          ┆ 0.015967   │\n",
       "│ 194770 ┆ 7      ┆ 0.039922  ┆ 2.252387  ┆ … ┆ 0.001088    ┆ 0          ┆ 1          ┆ 0.001997   │\n",
       "│ 214239 ┆ 16     ┆ 0.01188   ┆ 0.486548  ┆ … ┆ 0.0         ┆ 0          ┆ 1          ┆ 0.058865   │\n",
       "│ …      ┆ …      ┆ …         ┆ …         ┆ … ┆ …           ┆ …          ┆ …          ┆ …          │\n",
       "│ 261641 ┆ 149998 ┆ 0.013189  ┆ 3.145392  ┆ … ┆ 0.000328    ┆ 0          ┆ 1          ┆ 0.00011    │\n",
       "│ 170555 ┆ 149998 ┆ 0.068307  ┆ 0.169966  ┆ … ┆ 0.000117    ┆ 0          ┆ 1          ┆ 0.004538   │\n",
       "│ 152950 ┆ 149998 ┆ 0.018514  ┆ 3.475289  ┆ … ┆ 0.000145    ┆ 0          ┆ 1          ┆ 0.000046   │\n",
       "│ 115826 ┆ 149998 ┆ 0.065343  ┆ -0.71774  ┆ … ┆ 0.000226    ┆ 0          ┆ 1          ┆ 0.011838   │\n",
       "│ 152994 ┆ 149998 ┆ 0.066258  ┆ 2.979696  ┆ … ┆ 0.000135    ┆ 0          ┆ 1          ┆ 0.000423   │\n",
       "└────────┴────────┴───────────┴───────────┴───┴─────────────┴────────────┴────────────┴────────────┘"
      ]
     },
     "execution_count": 36,
     "metadata": {},
     "output_type": "execute_result"
    }
   ],
   "source": [
    "def prepare_features_for_boosting(\n",
    "    df_retrievals,\n",
    "    df_clickstream,\n",
    "    df_cat_features,\n",
    "    **kwargs\n",
    "):\n",
    "    \"\"\"Подготавливает признаки для обучения бустинга на основе результатов ALS\"\"\"\n",
    "    # Добавляем информацию о рейтинге ALS\n",
    "    features = df_retrievals.join(\n",
    "        df_cat_features.select([\"node\", \"category\"]).unique(),\n",
    "        on=\"node\",\n",
    "        how=\"left\",\n",
    "    ).fill_null(-1)\n",
    "\n",
    "\n",
    "    max_date = df_clickstream[\"event_date\"].max()\n",
    "    # === ПОЛЬЗОВАТЕЛЬСКИЕ ПРИЗНАКИ ===\n",
    "    user_features = df_clickstream.group_by(\"cookie\").agg([\n",
    "        pl.len().alias(\"user_total_interactions\"),\n",
    "        pl.n_unique(\"node\").alias(\"user_unique_nodes\"),\n",
    "        pl.n_unique(\"event\").alias(\"user_unique_events\"),\n",
    "        pl.col(\"is_contact\").sum().alias(\"user_total_contacts\"),\n",
    "        (pl.col(\"is_contact\").sum() / pl.len()).alias(\"user_contact_ratio\"),\n",
    "        pl.col(\"event_date\").min().alias(\"user_first_interaction\"),\n",
    "        pl.col(\"event_date\").max().alias(\"user_last_interaction\"),\n",
    "    ]).with_columns([\n",
    "        # ОТНОСИТЕЛЬНЫЕ временные признаки\n",
    "        (pl.col(\"user_last_interaction\") - pl.col(\"user_first_interaction\")).dt.total_days().alias(\"user_activity_span_days\"),\n",
    "        (max_date - pl.col(\"user_last_interaction\")).dt.total_days().alias(\"days_since_user_last_activity\"),\n",
    "        (max_date - pl.col(\"user_first_interaction\")).dt.total_days().alias(\"user_account_age_days\"),\n",
    "        # Интенсивность активности\n",
    "        # (pl.col(\"user_total_interactions\") / \n",
    "        #  (pl.col(\"user_last_interaction\") - pl.col(\"user_first_interaction\")).dt.total_days().clip(1, None)\n",
    "        # ).alias(\"user_activity_intensity\")\n",
    "    ]).drop([\"user_first_interaction\", \"user_last_interaction\"])\n",
    "\n",
    "    features = features.join(user_features, on=\"cookie\", how=\"left\").fill_null(0)\n",
    "    del user_features\n",
    "\n",
    "    for days in [3, 7, 14, 30]:\n",
    "        recent_threshold = max_date - timedelta(days=days)\n",
    "        recent_user_activity = df_clickstream.filter(\n",
    "            pl.col(\"event_date\") > recent_threshold\n",
    "        ).group_by(\"cookie\").agg([\n",
    "            pl.len().alias(f\"user_interactions_last_{days}d\"),\n",
    "            pl.n_unique(\"node\").alias(f\"user_unique_nodes_last_{days}d\"),\n",
    "            pl.col(\"is_contact\").sum().alias(f\"user_contacts_last_{days}d\"),\n",
    "        ])\n",
    "        features = features.join(recent_user_activity, on=\"cookie\", how=\"left\").fill_null(0)\n",
    "        del recent_user_activity\n",
    "\n",
    "    item_features = df_clickstream.group_by(\"node\").agg([\n",
    "        pl.len().alias(\"item_total_interactions\"),\n",
    "        pl.n_unique(\"cookie\").alias(\"item_unique_users\"),\n",
    "        pl.col(\"is_contact\").sum().alias(\"item_total_contacts\"),\n",
    "        (pl.col(\"is_contact\").sum() / pl.len()).alias(\"item_contact_ratio\"),\n",
    "        pl.col(\"event_date\").min().alias(\"item_first_seen\"),\n",
    "        pl.col(\"event_date\").max().alias(\"item_last_seen\"),\n",
    "    ]).with_columns([\n",
    "        # ОТНОСИТЕЛЬНЫЕ временные признаки\n",
    "        (max_date - pl.col(\"item_first_seen\")).dt.total_days().alias(\"item_age_days\"),\n",
    "        (max_date - pl.col(\"item_last_seen\")).dt.total_days().alias(\"days_since_item_last_interaction\"),\n",
    "        # Активный период товара\n",
    "        # (pl.col(\"item_last_seen\") - pl.col(\"item_first_seen\")).dt.total_days().alias(\"item_active_period_days\")\n",
    "    ]).drop([\"item_first_seen\", \"item_last_seen\"])  # Убираем абсолютные даты\n",
    "\n",
    "    features = features.join(item_features, on=\"node\", how=\"left\").fill_null(0)\n",
    "    del item_features\n",
    "\n",
    "    category_features = df_clickstream.join(\n",
    "        df_cat_features.select([\"node\", \"category\"]).unique(), on=\"node\", how=\"left\"\n",
    "    ).group_by(\"category\").agg([\n",
    "        pl.len().alias(\"category_total_interactions\"),\n",
    "        pl.n_unique(\"node\").alias(\"category_unique_items\"),\n",
    "        pl.n_unique(\"cookie\").alias(\"category_unique_users\"),\n",
    "        pl.col(\"is_contact\").sum().alias(\"category_total_contacts\"),\n",
    "        (pl.col(\"is_contact\").sum() / pl.len()).alias(\"category_contact_ratio\"),\n",
    "    ])\n",
    "\n",
    "    features = features.join(category_features, on=[\"category\"], how=\"left\").fill_null(-1)\n",
    "    del category_features\n",
    "\n",
    "    # === КРОСС-ПРИЗНАКИ ===\n",
    "    features = features.with_columns([\n",
    "        # Взаимодействие популярности товара и активности пользователя\n",
    "        (pl.col(\"item_total_interactions\").log1p() * pl.col(\"user_total_interactions\").log1p()).alias(\"item_user_interaction_product\"),\n",
    "        # Соответствие предпочтений пользователя и товара\n",
    "        (pl.col(\"user_contact_ratio\") * pl.col(\"item_contact_ratio\")).alias(\"user_item_contact_affinity\"),\n",
    "        # Новизна товара (бинарный признак)\n",
    "        pl.when(pl.col(\"item_age_days\") < 7).then(1).otherwise(0).alias(\"is_new_item\"),\n",
    "        # Активный ли пользователь в последнее время\n",
    "        pl.when(pl.col(\"days_since_user_last_activity\") < 3).then(1).otherwise(0).alias(\"is_recently_active_user\"),\n",
    "        # Популярный ли товар в категории\n",
    "        (pl.col(\"item_total_interactions\") / pl.col(\"category_total_interactions\")).alias(\"item_category_popularity_ratio\"),\n",
    "        # Специализированность пользователя в категории\n",
    "        # (pl.col(\"user_cat_interactions\") / pl.col(\"user_total_interactions\")).alias(\"user_category_specialization\")\n",
    "    ])\n",
    "\n",
    "    return features\n",
    "\n",
    "# Готовим данные для CatBoost\n",
    "train_data_for_boosting = prepare_features_for_boosting(\n",
    "    df_candidates_train_improved,\n",
    "    df_train_retrivial,\n",
    "    df_cat_features,\n",
    "    # popular_count_week=popular_count_week,\n",
    "    # popular_count_month=popular_count_month,\n",
    "    # trending_count_week=trending_count_week,\n",
    ")\n",
    "\n",
    "\n",
    "del df_candidates_train_improved\n",
    "print(train_data_for_boosting.shape)\n",
    "train_data_for_boosting"
   ]
  },
  {
   "cell_type": "code",
   "execution_count": 37,
   "id": "1da531b7",
   "metadata": {},
   "outputs": [
    {
     "data": {
      "text/plain": [
       "['node',\n",
       " 'cookie',\n",
       " 'als_score',\n",
       " 'bpr_score',\n",
       " 'is_contact',\n",
       " 'category',\n",
       " 'user_total_interactions',\n",
       " 'user_unique_nodes',\n",
       " 'user_unique_events',\n",
       " 'user_total_contacts',\n",
       " 'user_contact_ratio',\n",
       " 'user_activity_span_days',\n",
       " 'days_since_user_last_activity',\n",
       " 'user_account_age_days',\n",
       " 'user_interactions_last_3d',\n",
       " 'user_unique_nodes_last_3d',\n",
       " 'user_contacts_last_3d',\n",
       " 'user_interactions_last_7d',\n",
       " 'user_unique_nodes_last_7d',\n",
       " 'user_contacts_last_7d',\n",
       " 'user_interactions_last_14d',\n",
       " 'user_unique_nodes_last_14d',\n",
       " 'user_contacts_last_14d',\n",
       " 'user_interactions_last_30d',\n",
       " 'user_unique_nodes_last_30d',\n",
       " 'user_contacts_last_30d',\n",
       " 'item_total_interactions',\n",
       " 'item_unique_users',\n",
       " 'item_total_contacts',\n",
       " 'item_contact_ratio',\n",
       " 'item_age_days',\n",
       " 'days_since_item_last_interaction',\n",
       " 'category_total_interactions',\n",
       " 'category_unique_items',\n",
       " 'category_unique_users',\n",
       " 'category_total_contacts',\n",
       " 'category_contact_ratio',\n",
       " 'item_user_interaction_product',\n",
       " 'user_item_contact_affinity',\n",
       " 'is_new_item',\n",
       " 'is_recently_active_user',\n",
       " 'item_category_popularity_ratio']"
      ]
     },
     "execution_count": 37,
     "metadata": {},
     "output_type": "execute_result"
    }
   ],
   "source": [
    "train_data_for_boosting.columns"
   ]
  },
  {
   "cell_type": "code",
   "execution_count": 38,
   "id": "a859fcbd",
   "metadata": {},
   "outputs": [],
   "source": [
    "feature_cols = [\n",
    "    'node',\n",
    "    'als_score',\n",
    "    'bpr_score',\n",
    "    'category',\n",
    "    'user_total_interactions',\n",
    "    'user_unique_nodes',\n",
    "    'user_unique_events',\n",
    "    'user_total_contacts',\n",
    "    'user_contact_ratio',\n",
    "    'user_activity_span_days',\n",
    "    'days_since_user_last_activity',\n",
    "    'user_account_age_days',\n",
    "    'user_interactions_last_3d',\n",
    "    'user_unique_nodes_last_3d',\n",
    "    'user_contacts_last_3d',\n",
    "    'user_interactions_last_7d',\n",
    "    'user_unique_nodes_last_7d',\n",
    "    'user_contacts_last_7d',\n",
    "    'user_interactions_last_14d',\n",
    "    'user_unique_nodes_last_14d',\n",
    "    'user_contacts_last_14d',\n",
    "    'user_interactions_last_30d',\n",
    "    'user_unique_nodes_last_30d',\n",
    "    'user_contacts_last_30d',\n",
    "    'item_total_interactions',\n",
    "    'item_unique_users',\n",
    "    'item_total_contacts',\n",
    "    'item_contact_ratio',\n",
    "    'item_age_days',\n",
    "    'days_since_item_last_interaction',\n",
    "    'category_total_interactions',\n",
    "    'category_unique_items',\n",
    "    'category_unique_users',\n",
    "    'category_total_contacts',\n",
    "    'category_contact_ratio',\n",
    "    'item_user_interaction_product',\n",
    "    'user_item_contact_affinity',\n",
    "    'is_new_item',\n",
    "    'is_recently_active_user',\n",
    "    'item_category_popularity_ratio'\n",
    "]\n",
    "\n",
    "cat_cols = [\"category\"]\n",
    "\n",
    "target_col = \"is_contact\""
   ]
  },
  {
   "cell_type": "code",
   "execution_count": 39,
   "id": "1e3a060b",
   "metadata": {},
   "outputs": [],
   "source": [
    "model = CatBoostRanker(\n",
    "    boosting_type=\"Plain\",\n",
    "    iterations=300,\n",
    "    learning_rate=0.05,\n",
    "    depth=8,\n",
    "    objective=\"YetiRankPairwise:top=40,permutations=10\",\n",
    "    bagging_temperature=0.8,\n",
    "    bootstrap_type=\"Bayesian\",\n",
    "    random_seed=42,\n",
    "    eval_metric=\"RecallAt:top=40\",\n",
    "    verbose=10,\n",
    "    nan_mode=\"Min\",\n",
    "    task_type=\"GPU\"\n",
    ")"
   ]
  },
  {
   "cell_type": "code",
   "execution_count": 40,
   "id": "8f7c7263",
   "metadata": {},
   "outputs": [],
   "source": [
    "train_data_boosting = train_data_for_boosting.sample(fraction=0.8, seed=123).sort(\"cookie\")\n",
    "\n",
    "valid_data_boosting = train_data_for_boosting.join(train_data_boosting, on=train_data_boosting.columns, how=\"anti\").sort(\"cookie\")"
   ]
  },
  {
   "cell_type": "code",
   "execution_count": 41,
   "id": "f861161c",
   "metadata": {},
   "outputs": [],
   "source": [
    "train_data_boosting = Pool(train_data_boosting.select(feature_cols).to_pandas(), train_data_boosting.select(target_col).to_pandas(), cat_features=cat_cols, group_id=train_data_boosting[\"cookie\"].to_list())\n",
    "\n",
    "valid_data_boosting = Pool(valid_data_boosting.select(feature_cols).to_pandas(), valid_data_boosting.select(target_col).to_pandas(), cat_features=cat_cols, group_id=valid_data_boosting[\"cookie\"].to_list())"
   ]
  },
  {
   "cell_type": "code",
   "execution_count": 42,
   "id": "f5635e34",
   "metadata": {},
   "outputs": [
    {
     "name": "stdout",
     "output_type": "stream",
     "text": [
      "Groupwise loss function. OneHotMaxSize set to 10\n"
     ]
    },
    {
     "name": "stderr",
     "output_type": "stream",
     "text": [
      "Default metric period is 5 because PFound, RecallAt is/are not implemented for GPU\n",
      "Metric PFound is not implemented on GPU. Will use CPU for metric computation, this could significantly affect learning time\n",
      "Metric RecallAt:top=40 is not implemented on GPU. Will use CPU for metric computation, this could significantly affect learning time\n"
     ]
    },
    {
     "name": "stdout",
     "output_type": "stream",
     "text": [
      "0:\tlearn: 0.9995886\ttest: 1.0000000\tbest: 1.0000000 (0)\ttotal: 1.51s\tremaining: 7m 32s\n",
      "10:\tlearn: 0.9997752\ttest: 1.0000000\tbest: 1.0000000 (0)\ttotal: 16.1s\tremaining: 7m 2s\n",
      "20:\tlearn: 0.9998176\ttest: 1.0000000\tbest: 1.0000000 (0)\ttotal: 30.2s\tremaining: 6m 41s\n",
      "30:\tlearn: 0.9998388\ttest: 1.0000000\tbest: 1.0000000 (0)\ttotal: 44.4s\tremaining: 6m 24s\n",
      "40:\tlearn: 0.9998388\ttest: 1.0000000\tbest: 1.0000000 (0)\ttotal: 58.5s\tremaining: 6m 9s\n",
      "50:\tlearn: 0.9998486\ttest: 1.0000000\tbest: 1.0000000 (0)\ttotal: 1m 12s\tremaining: 5m 54s\n",
      "60:\tlearn: 0.9998511\ttest: 1.0000000\tbest: 1.0000000 (0)\ttotal: 1m 26s\tremaining: 5m 40s\n",
      "70:\tlearn: 0.9998511\ttest: 1.0000000\tbest: 1.0000000 (0)\ttotal: 1m 40s\tremaining: 5m 25s\n",
      "80:\tlearn: 0.9998536\ttest: 1.0000000\tbest: 1.0000000 (0)\ttotal: 1m 55s\tremaining: 5m 10s\n",
      "90:\tlearn: 0.9998594\ttest: 1.0000000\tbest: 1.0000000 (0)\ttotal: 2m 9s\tremaining: 4m 56s\n",
      "100:\tlearn: 0.9998626\ttest: 1.0000000\tbest: 1.0000000 (0)\ttotal: 2m 23s\tremaining: 4m 42s\n",
      "110:\tlearn: 0.9998626\ttest: 1.0000000\tbest: 1.0000000 (0)\ttotal: 2m 37s\tremaining: 4m 28s\n",
      "120:\tlearn: 0.9998674\ttest: 1.0000000\tbest: 1.0000000 (0)\ttotal: 2m 51s\tremaining: 4m 14s\n",
      "130:\tlearn: 0.9998797\ttest: 1.0000000\tbest: 1.0000000 (0)\ttotal: 3m 5s\tremaining: 3m 59s\n",
      "140:\tlearn: 0.9998822\ttest: 1.0000000\tbest: 1.0000000 (0)\ttotal: 3m 19s\tremaining: 3m 45s\n",
      "150:\tlearn: 0.9998869\ttest: 1.0000000\tbest: 1.0000000 (0)\ttotal: 3m 34s\tremaining: 3m 31s\n",
      "160:\tlearn: 0.9998993\ttest: 1.0000000\tbest: 1.0000000 (0)\ttotal: 3m 48s\tremaining: 3m 17s\n",
      "170:\tlearn: 0.9998993\ttest: 1.0000000\tbest: 1.0000000 (0)\ttotal: 4m 2s\tremaining: 3m 2s\n",
      "180:\tlearn: 0.9999040\ttest: 1.0000000\tbest: 1.0000000 (0)\ttotal: 4m 16s\tremaining: 2m 48s\n",
      "190:\tlearn: 0.9998993\ttest: 1.0000000\tbest: 1.0000000 (0)\ttotal: 4m 30s\tremaining: 2m 34s\n",
      "200:\tlearn: 0.9998993\ttest: 1.0000000\tbest: 1.0000000 (0)\ttotal: 4m 44s\tremaining: 2m 20s\n",
      "210:\tlearn: 0.9998993\ttest: 1.0000000\tbest: 1.0000000 (0)\ttotal: 4m 58s\tremaining: 2m 5s\n",
      "220:\tlearn: 0.9999040\ttest: 1.0000000\tbest: 1.0000000 (0)\ttotal: 5m 12s\tremaining: 1m 51s\n",
      "230:\tlearn: 0.9999040\ttest: 1.0000000\tbest: 1.0000000 (0)\ttotal: 5m 26s\tremaining: 1m 37s\n",
      "240:\tlearn: 0.9999040\ttest: 1.0000000\tbest: 1.0000000 (0)\ttotal: 5m 40s\tremaining: 1m 23s\n",
      "250:\tlearn: 0.9999040\ttest: 1.0000000\tbest: 1.0000000 (0)\ttotal: 5m 54s\tremaining: 1m 9s\n",
      "260:\tlearn: 0.9999040\ttest: 1.0000000\tbest: 1.0000000 (0)\ttotal: 6m 9s\tremaining: 55.2s\n",
      "270:\tlearn: 0.9999040\ttest: 1.0000000\tbest: 1.0000000 (0)\ttotal: 6m 23s\tremaining: 41.1s\n",
      "280:\tlearn: 0.9999040\ttest: 1.0000000\tbest: 1.0000000 (0)\ttotal: 6m 38s\tremaining: 26.9s\n",
      "290:\tlearn: 0.9999040\ttest: 1.0000000\tbest: 1.0000000 (0)\ttotal: 6m 52s\tremaining: 12.8s\n",
      "299:\tlearn: 0.9999088\ttest: 1.0000000\tbest: 1.0000000 (0)\ttotal: 7m 5s\tremaining: 0us\n",
      "bestTest = 1\n",
      "bestIteration = 0\n",
      "Shrink model to first 1 iterations.\n"
     ]
    },
    {
     "data": {
      "text/plain": [
       "<catboost.core.CatBoostRanker at 0x7f5a52f78590>"
      ]
     },
     "execution_count": 42,
     "metadata": {},
     "output_type": "execute_result"
    }
   ],
   "source": [
    "model.fit(\n",
    "    train_data_boosting,\n",
    "    eval_set=valid_data_boosting\n",
    ")"
   ]
  },
  {
   "cell_type": "code",
   "execution_count": 43,
   "id": "87392ee1",
   "metadata": {},
   "outputs": [],
   "source": [
    "model = CatBoostRanker(\n",
    "    boosting_type=\"Plain\",\n",
    "    iterations=250,\n",
    "    learning_rate=0.05,\n",
    "    depth=8,\n",
    "    objective=\"YetiRankPairwise:top=40,permutations=10\",\n",
    "    bagging_temperature=0.8,\n",
    "    bootstrap_type=\"Bayesian\",\n",
    "    random_seed=42,\n",
    "    eval_metric=\"RecallAt:top=40\",\n",
    "    verbose=10,\n",
    "    nan_mode=\"Min\",\n",
    "    task_type=\"GPU\"\n",
    ")"
   ]
  },
  {
   "cell_type": "code",
   "execution_count": 44,
   "id": "cdf7d1b6",
   "metadata": {},
   "outputs": [],
   "source": [
    "train_data_for_boosting = train_data_for_boosting.sort(\"cookie\")\n",
    "train_data_boosting = Pool(train_data_for_boosting.select(feature_cols).to_pandas(), train_data_for_boosting.select(target_col).to_pandas(), cat_features=cat_cols, group_id=train_data_for_boosting[\"cookie\"].to_list())"
   ]
  },
  {
   "cell_type": "code",
   "execution_count": 45,
   "id": "512bda56",
   "metadata": {},
   "outputs": [
    {
     "name": "stdout",
     "output_type": "stream",
     "text": [
      "Groupwise loss function. OneHotMaxSize set to 10\n"
     ]
    },
    {
     "name": "stderr",
     "output_type": "stream",
     "text": [
      "Default metric period is 5 because PFound, RecallAt is/are not implemented for GPU\n",
      "Metric PFound is not implemented on GPU. Will use CPU for metric computation, this could significantly affect learning time\n",
      "Metric RecallAt:top=40 is not implemented on GPU. Will use CPU for metric computation, this could significantly affect learning time\n"
     ]
    },
    {
     "name": "stdout",
     "output_type": "stream",
     "text": [
      "0:\tlearn: 0.9990336\ttotal: 1.49s\tremaining: 6m 10s\n",
      "10:\tlearn: 0.9994179\ttotal: 16.4s\tremaining: 5m 56s\n",
      "20:\tlearn: 0.9995694\ttotal: 31.5s\tremaining: 5m 43s\n",
      "30:\tlearn: 0.9995912\ttotal: 46.7s\tremaining: 5m 29s\n",
      "40:\tlearn: 0.9996288\ttotal: 1m 1s\tremaining: 5m 12s\n",
      "50:\tlearn: 0.9996258\ttotal: 1m 16s\tremaining: 4m 57s\n",
      "60:\tlearn: 0.9996617\ttotal: 1m 31s\tremaining: 4m 42s\n",
      "70:\tlearn: 0.9996617\ttotal: 1m 45s\tremaining: 4m 26s\n",
      "80:\tlearn: 0.9996670\ttotal: 1m 59s\tremaining: 4m 10s\n",
      "90:\tlearn: 0.9996674\ttotal: 2m 14s\tremaining: 3m 55s\n",
      "100:\tlearn: 0.9996730\ttotal: 2m 29s\tremaining: 3m 40s\n",
      "110:\tlearn: 0.9996946\ttotal: 2m 44s\tremaining: 3m 26s\n",
      "120:\tlearn: 0.9996943\ttotal: 2m 59s\tremaining: 3m 11s\n",
      "130:\tlearn: 0.9996966\ttotal: 3m 14s\tremaining: 2m 56s\n",
      "140:\tlearn: 0.9997149\ttotal: 3m 28s\tremaining: 2m 40s\n",
      "150:\tlearn: 0.9997206\ttotal: 3m 42s\tremaining: 2m 25s\n",
      "160:\tlearn: 0.9997192\ttotal: 3m 56s\tremaining: 2m 10s\n",
      "170:\tlearn: 0.9997354\ttotal: 4m 10s\tremaining: 1m 55s\n",
      "180:\tlearn: 0.9997302\ttotal: 4m 25s\tremaining: 1m 41s\n",
      "190:\tlearn: 0.9997244\ttotal: 4m 39s\tremaining: 1m 26s\n",
      "200:\tlearn: 0.9997340\ttotal: 4m 54s\tremaining: 1m 11s\n",
      "210:\tlearn: 0.9997340\ttotal: 5m 8s\tremaining: 57.1s\n",
      "220:\tlearn: 0.9997480\ttotal: 5m 23s\tremaining: 42.5s\n",
      "230:\tlearn: 0.9997402\ttotal: 5m 38s\tremaining: 27.9s\n",
      "240:\tlearn: 0.9997529\ttotal: 5m 52s\tremaining: 13.2s\n",
      "249:\tlearn: 0.9997454\ttotal: 6m 5s\tremaining: 0us\n"
     ]
    },
    {
     "data": {
      "text/plain": [
       "<catboost.core.CatBoostRanker at 0x7f5a84f5a3d0>"
      ]
     },
     "execution_count": 45,
     "metadata": {},
     "output_type": "execute_result"
    }
   ],
   "source": [
    "model.fit(\n",
    "    train_data_boosting\n",
    ")"
   ]
  },
  {
   "cell_type": "code",
   "execution_count": 49,
   "id": "f90b7cee",
   "metadata": {},
   "outputs": [],
   "source": [
    "del df_clickstream"
   ]
  },
  {
   "cell_type": "markdown",
   "id": "2d754d6c",
   "metadata": {},
   "source": [
    "# Оценка на тесте"
   ]
  },
  {
   "cell_type": "code",
   "execution_count": 46,
   "id": "7d18d394",
   "metadata": {},
   "outputs": [],
   "source": [
    "df_train_retriever_and_reranker = pl.concat([df_train_retrivial, df_train_reranker])\n",
    "\n",
    "if not df_valid_eval_reranker.is_empty():\n",
    "    test_users = df_valid_eval_reranker[\"cookie\"].unique().to_list()\n",
    "else:\n",
    "    test_users = df_test_users[\"cookie\"].unique().to_list()"
   ]
  },
  {
   "cell_type": "code",
   "execution_count": 50,
   "id": "ec61fb37",
   "metadata": {},
   "outputs": [
    {
     "name": "stderr",
     "output_type": "stream",
     "text": [
      "/tmp/ipykernel_26003/1562741574.py:9: DeprecationWarning: `pl.count()` is deprecated. Please use `pl.len()` instead.\n",
      "  pl.count().alias(\"total_interactions\"),\n"
     ]
    }
   ],
   "source": [
    "df_clean_retrivial_and_reranker = clean_interactions_for_als(df_train_retriever_and_reranker)\n",
    "full_train_users = df_clean_retrivial_and_reranker[\"cookie\"]\n",
    "full_train_nodes = df_clean_retrivial_and_reranker[\"node\"]\n",
    "full_weight_for_als = df_clean_retrivial_and_reranker[\"als_weight\"]\n",
    "\n",
    "del df_clean_retrivial_and_reranker"
   ]
  },
  {
   "cell_type": "code",
   "execution_count": 51,
   "id": "fb9ea2f6",
   "metadata": {},
   "outputs": [
    {
     "name": "stderr",
     "output_type": "stream",
     "text": [
      "100%|██████████| 30/30 [01:03<00:00,  2.11s/it]\n"
     ]
    }
   ],
   "source": [
    "als_retriever = CFRetriever(implicit.als.AlternatingLeastSquares, iterations=30, factors=100, regularization=0.7, use_gpu=True, random_state=123)\n",
    "\n",
    "als_retriever.fit(full_train_users, full_train_nodes, is_contact_col=full_weight_for_als)\n",
    "\n",
    "test_als_pred = als_retriever.recommend(test_users, 300)\n",
    "\n",
    "del full_train_users, full_train_nodes, full_weight_for_als"
   ]
  },
  {
   "cell_type": "code",
   "execution_count": 52,
   "id": "0e298803",
   "metadata": {},
   "outputs": [],
   "source": [
    "df_temporal_bpr_retriever_and_reranker = prepare_temporal_bpr_data(df_train_retriever_and_reranker, train_days_back=21)\n",
    "\n",
    "full_train_users = df_temporal_bpr_retriever_and_reranker[\"cookie\"]\n",
    "full_train_nodes = df_temporal_bpr_retriever_and_reranker[\"node\"]\n",
    "full_contact_cols = df_temporal_bpr_retriever_and_reranker[\"is_contact\"]\n",
    "\n",
    "del df_temporal_bpr_retriever_and_reranker"
   ]
  },
  {
   "cell_type": "code",
   "execution_count": 53,
   "id": "f6017fce",
   "metadata": {},
   "outputs": [
    {
     "name": "stderr",
     "output_type": "stream",
     "text": [
      "100%|██████████| 50/50 [00:24<00:00,  2.06it/s, train_auc=94.76%, skipped=4.17%]\n"
     ]
    }
   ],
   "source": [
    "bpr_retriever = CFRetriever(implicit.bpr.BayesianPersonalizedRanking, iterations=50, factors=64, regularization=0.001, learning_rate=0.01, use_gpu=True, random_state=123)\n",
    "\n",
    "bpr_retriever.fit(full_train_users, full_train_nodes, is_contact_col=full_contact_cols)\n",
    "\n",
    "test_bpr_pred = bpr_retriever.recommend(test_users, 300)\n",
    "\n",
    "del full_train_users, full_train_nodes, full_contact_cols"
   ]
  },
  {
   "cell_type": "code",
   "execution_count": 54,
   "id": "769bece9",
   "metadata": {},
   "outputs": [],
   "source": [
    "cadidates_df_full = test_als_pred.rename({\"scores\": \"als_score\"}).join(\n",
    "    test_bpr_pred.rename({\"scores\": \"bpr_score\"}),\n",
    "    on=[\"node\", \"cookie\"],\n",
    "    how=\"full\",\n",
    "    coalesce=True\n",
    ")\n",
    "# ).with_columns([\n",
    "#     # Добавляем флаги наличия рекомендаций\n",
    "#     pl.col(\"als_score\").is_not_null().alias(\"has_als_rec\"),\n",
    "#     pl.col(\"bpr_score\").is_not_null().alias(\"has_bpr_rec\"),\n",
    "    \n",
    "#     # Заполляем отсутствующие значения\n",
    "#     pl.col(\"als_score\").fill_null(pl.col(\"als_score\").min()),\n",
    "#     pl.col(\"bpr_score\").fill_null(pl.col(\"bpr_score\").min())\n",
    "# ]).with_columns([\n",
    "#     # Считаем количество моделей, рекомендовавших товар\n",
    "#     (pl.col(\"has_als_rec\").cast(pl.Int32) + \n",
    "#      pl.col(\"has_bpr_rec\").cast(pl.Int32)).alias(\"recommendation_count\")\n",
    "# ])"
   ]
  },
  {
   "cell_type": "code",
   "execution_count": 55,
   "id": "862148aa",
   "metadata": {},
   "outputs": [
    {
     "name": "stderr",
     "output_type": "stream",
     "text": [
      "100%|██████████| 34644/34644 [08:28<00:00, 68.13it/s]\n",
      "100%|██████████| 35137/35137 [08:20<00:00, 70.20it/s]\n"
     ]
    },
    {
     "data": {
      "text/plain": [
       "0"
      ]
     },
     "execution_count": 55,
     "metadata": {},
     "output_type": "execute_result"
    }
   ],
   "source": [
    "# Использование\n",
    "df_candidates_with_scores_full = get_missing_scores(cadidates_df_full, als_retriever, \"als\")\n",
    "df_candidates_with_scores_full = get_missing_scores(df_candidates_with_scores_full, bpr_retriever, \"bpr\")\n",
    "\n",
    "del als_retriever, bpr_retriever\n",
    "gc.collect()"
   ]
  },
  {
   "cell_type": "code",
   "execution_count": 56,
   "id": "53517944",
   "metadata": {},
   "outputs": [
    {
     "data": {
      "text/html": [
       "<div><style>\n",
       ".dataframe > thead > tr,\n",
       ".dataframe > tbody > tr {\n",
       "  text-align: right;\n",
       "  white-space: pre-wrap;\n",
       "}\n",
       "</style>\n",
       "<small>shape: (5, 41)</small><table border=\"1\" class=\"dataframe\"><thead><tr><th>node</th><th>cookie</th><th>als_score</th><th>bpr_score</th><th>category</th><th>user_total_interactions</th><th>user_unique_nodes</th><th>user_unique_events</th><th>user_total_contacts</th><th>user_contact_ratio</th><th>user_activity_span_days</th><th>days_since_user_last_activity</th><th>user_account_age_days</th><th>user_interactions_last_3d</th><th>user_unique_nodes_last_3d</th><th>user_contacts_last_3d</th><th>user_interactions_last_7d</th><th>user_unique_nodes_last_7d</th><th>user_contacts_last_7d</th><th>user_interactions_last_14d</th><th>user_unique_nodes_last_14d</th><th>user_contacts_last_14d</th><th>user_interactions_last_30d</th><th>user_unique_nodes_last_30d</th><th>user_contacts_last_30d</th><th>item_total_interactions</th><th>item_unique_users</th><th>item_total_contacts</th><th>item_contact_ratio</th><th>item_age_days</th><th>days_since_item_last_interaction</th><th>category_total_interactions</th><th>category_unique_items</th><th>category_unique_users</th><th>category_total_contacts</th><th>category_contact_ratio</th><th>item_user_interaction_product</th><th>user_item_contact_affinity</th><th>is_new_item</th><th>is_recently_active_user</th><th>item_category_popularity_ratio</th></tr><tr><td>i64</td><td>i64</td><td>f64</td><td>f64</td><td>i64</td><td>i64</td><td>i64</td><td>i64</td><td>i64</td><td>f64</td><td>i64</td><td>i64</td><td>i64</td><td>i64</td><td>i64</td><td>i64</td><td>i64</td><td>i64</td><td>i64</td><td>i64</td><td>i64</td><td>i64</td><td>i64</td><td>i64</td><td>i64</td><td>i64</td><td>i64</td><td>i64</td><td>f64</td><td>i64</td><td>i64</td><td>i64</td><td>i64</td><td>i64</td><td>i64</td><td>f64</td><td>f64</td><td>f64</td><td>i32</td><td>i32</td><td>f64</td></tr></thead><tbody><tr><td>115834</td><td>0</td><td>0.860947</td><td>5.187847</td><td>19</td><td>258</td><td>83</td><td>10</td><td>16</td><td>0.062016</td><td>33</td><td>2</td><td>35</td><td>14</td><td>8</td><td>1</td><td>33</td><td>16</td><td>1</td><td>140</td><td>55</td><td>11</td><td>244</td><td>80</td><td>16</td><td>45120</td><td>7435</td><td>994</td><td>0.02203</td><td>36</td><td>0</td><td>2715706</td><td>4319</td><td>59853</td><td>64080</td><td>0.023596</td><td>59.553099</td><td>0.001366</td><td>0</td><td>1</td><td>0.016614</td></tr><tr><td>214235</td><td>0</td><td>0.748261</td><td>1.527505</td><td>37</td><td>258</td><td>83</td><td>10</td><td>16</td><td>0.062016</td><td>33</td><td>2</td><td>35</td><td>14</td><td>8</td><td>1</td><td>33</td><td>16</td><td>1</td><td>140</td><td>55</td><td>11</td><td>244</td><td>80</td><td>16</td><td>31742</td><td>10194</td><td>887</td><td>0.027944</td><td>36</td><td>0</td><td>2337661</td><td>258</td><td>87615</td><td>151546</td><td>0.064828</td><td>57.598898</td><td>0.001733</td><td>0</td><td>1</td><td>0.013579</td></tr><tr><td>115713</td><td>0</td><td>0.733352</td><td>3.348838</td><td>19</td><td>258</td><td>83</td><td>10</td><td>16</td><td>0.062016</td><td>33</td><td>2</td><td>35</td><td>14</td><td>8</td><td>1</td><td>33</td><td>16</td><td>1</td><td>140</td><td>55</td><td>11</td><td>244</td><td>80</td><td>16</td><td>42843</td><td>6326</td><td>1761</td><td>0.041104</td><td>36</td><td>0</td><td>2715706</td><td>4319</td><td>59853</td><td>64080</td><td>0.023596</td><td>59.265354</td><td>0.002549</td><td>0</td><td>1</td><td>0.015776</td></tr><tr><td>214234</td><td>0</td><td>0.72971</td><td>1.973447</td><td>37</td><td>258</td><td>83</td><td>10</td><td>16</td><td>0.062016</td><td>33</td><td>2</td><td>35</td><td>14</td><td>8</td><td>1</td><td>33</td><td>16</td><td>1</td><td>140</td><td>55</td><td>11</td><td>244</td><td>80</td><td>16</td><td>51690</td><td>17314</td><td>974</td><td>0.018843</td><td>36</td><td>0</td><td>2337661</td><td>258</td><td>87615</td><td>151546</td><td>0.064828</td><td>60.308471</td><td>0.001169</td><td>0</td><td>1</td><td>0.022112</td></tr><tr><td>1923</td><td>0</td><td>0.665244</td><td>3.484149</td><td>61</td><td>258</td><td>83</td><td>10</td><td>16</td><td>0.062016</td><td>33</td><td>2</td><td>35</td><td>14</td><td>8</td><td>1</td><td>33</td><td>16</td><td>1</td><td>140</td><td>55</td><td>11</td><td>244</td><td>80</td><td>16</td><td>108941</td><td>10782</td><td>4094</td><td>0.03758</td><td>36</td><td>0</td><td>316015</td><td>3</td><td>16557</td><td>13146</td><td>0.041599</td><td>64.451264</td><td>0.002331</td><td>0</td><td>1</td><td>0.344734</td></tr></tbody></table></div>"
      ],
      "text/plain": [
       "shape: (5, 41)\n",
       "┌────────┬────────┬───────────┬───────────┬───┬─────────────┬────────────┬────────────┬────────────┐\n",
       "│ node   ┆ cookie ┆ als_score ┆ bpr_score ┆ … ┆ user_item_c ┆ is_new_ite ┆ is_recentl ┆ item_categ │\n",
       "│ ---    ┆ ---    ┆ ---       ┆ ---       ┆   ┆ ontact_affi ┆ m          ┆ y_active_u ┆ ory_popula │\n",
       "│ i64    ┆ i64    ┆ f64       ┆ f64       ┆   ┆ nity        ┆ ---        ┆ ser        ┆ rity_ratio │\n",
       "│        ┆        ┆           ┆           ┆   ┆ ---         ┆ i32        ┆ ---        ┆ ---        │\n",
       "│        ┆        ┆           ┆           ┆   ┆ f64         ┆            ┆ i32        ┆ f64        │\n",
       "╞════════╪════════╪═══════════╪═══════════╪═══╪═════════════╪════════════╪════════════╪════════════╡\n",
       "│ 115834 ┆ 0      ┆ 0.860947  ┆ 5.187847  ┆ … ┆ 0.001366    ┆ 0          ┆ 1          ┆ 0.016614   │\n",
       "│ 214235 ┆ 0      ┆ 0.748261  ┆ 1.527505  ┆ … ┆ 0.001733    ┆ 0          ┆ 1          ┆ 0.013579   │\n",
       "│ 115713 ┆ 0      ┆ 0.733352  ┆ 3.348838  ┆ … ┆ 0.002549    ┆ 0          ┆ 1          ┆ 0.015776   │\n",
       "│ 214234 ┆ 0      ┆ 0.72971   ┆ 1.973447  ┆ … ┆ 0.001169    ┆ 0          ┆ 1          ┆ 0.022112   │\n",
       "│ 1923   ┆ 0      ┆ 0.665244  ┆ 3.484149  ┆ … ┆ 0.002331    ┆ 0          ┆ 1          ┆ 0.344734   │\n",
       "└────────┴────────┴───────────┴───────────┴───┴─────────────┴────────────┴────────────┴────────────┘"
      ]
     },
     "execution_count": 56,
     "metadata": {},
     "output_type": "execute_result"
    }
   ],
   "source": [
    "test_data_for_boosting = prepare_features_for_boosting(\n",
    "    df_candidates_with_scores_full,\n",
    "    df_train_retriever_and_reranker,\n",
    "    df_cat_features,\n",
    "    # popular_count_week=popular_count_week,\n",
    "    # popular_count_month=popular_count_month,\n",
    "    # trending_count_week=trending_count_week,\n",
    ").sort(\"cookie\")\n",
    "\n",
    "test_data_for_boosting.head()"
   ]
  },
  {
   "cell_type": "code",
   "execution_count": 57,
   "id": "fb044d3e",
   "metadata": {},
   "outputs": [],
   "source": [
    "test_data = Pool(test_data_for_boosting.select(feature_cols).to_pandas(), cat_features=cat_cols, group_id=test_data_for_boosting[\"cookie\"].to_list())"
   ]
  },
  {
   "cell_type": "code",
   "execution_count": 58,
   "id": "d8f4c550",
   "metadata": {},
   "outputs": [],
   "source": [
    "df_pred_catboost = (\n",
    "    pl.DataFrame(\n",
    "        {\n",
    "            \"node\": test_data_for_boosting[\"node\"],\n",
    "            \"cookie\": test_data_for_boosting[\"cookie\"],\n",
    "            \"catboost_score\": model.predict(test_data),\n",
    "        }\n",
    "    )\n",
    "    .sort(by=[\"cookie\", \"catboost_score\"], descending=[False, True])\n",
    "    .group_by(\"cookie\")\n",
    "    .head(200)\n",
    ")"
   ]
  },
  {
   "cell_type": "code",
   "execution_count": null,
   "id": "8ceb8d02",
   "metadata": {},
   "outputs": [],
   "source": [
    "# df_pred_catboost[[\"cookie\", \"node\"]].write_csv(\"../data/predict/baseline_als_bpr_catboost_v1.1.csv\")"
   ]
  },
  {
   "cell_type": "code",
   "execution_count": 59,
   "id": "d574c8de",
   "metadata": {},
   "outputs": [
    {
     "name": "stdout",
     "output_type": "stream",
     "text": [
      "\n",
      "Результаты модели на тестовом наборе:\n",
      "CF_recall@10: 0.0683\n",
      "Reranker_recall@10: 0.0689\n",
      "CF_recall@20: 0.1036\n",
      "Reranker_recall@20: 0.1100\n",
      "CF_recall@30: 0.1306\n",
      "Reranker_recall@30: 0.1420\n",
      "CF_recall@40: 0.1522\n",
      "Reranker_recall@40: 0.1677\n",
      "CF_recall@50: 0.1711\n",
      "Reranker_recall@50: 0.1906\n",
      "CF_recall@60: 0.1882\n",
      "Reranker_recall@60: 0.2093\n",
      "CF_recall@100: 0.2417\n",
      "Reranker_recall@100: 0.2697\n",
      "CF_recall@150: 0.2872\n",
      "Reranker_recall@150: 0.3193\n",
      "CF_recall@200: 0.3243\n",
      "Reranker_recall@200: 0.3541\n"
     ]
    }
   ],
   "source": [
    "test_als_results = evaluate_models(\n",
    "    df_valid_eval_reranker, test_als_pred, df_pred_catboost, k_values=[10, 20, 30, 40, 50, 60, 100, 150, 200]\n",
    ")\n",
    "print(\"\\nРезультаты модели на тестовом наборе:\")\n",
    "for metric, value in test_als_results.items():\n",
    "    print(f\"{metric}: {value:.4f}\")"
   ]
  },
  {
   "cell_type": "code",
   "execution_count": null,
   "id": "8081ed33",
   "metadata": {},
   "outputs": [
    {
     "name": "stdout",
     "output_type": "stream",
     "text": [
      "\n",
      "Результаты модели на тестовом наборе:\n",
      "CF_recall@10: 0.0372\n",
      "Reranker_recall@10: 0.0646\n",
      "CF_recall@20: 0.0562\n",
      "Reranker_recall@20: 0.1033\n",
      "CF_recall@30: 0.0709\n",
      "Reranker_recall@30: 0.1325\n",
      "CF_recall@40: 0.0831\n",
      "Reranker_recall@40: 0.1579\n",
      "CF_recall@50: 0.0940\n",
      "Reranker_recall@50: 0.1781\n",
      "CF_recall@60: 0.1031\n",
      "Reranker_recall@60: 0.1970\n",
      "CF_recall@100: 0.1324\n",
      "Reranker_recall@100: 0.2529\n",
      "CF_recall@150: 0.1597\n",
      "Reranker_recall@150: 0.2988\n",
      "CF_recall@200: 0.1805\n",
      "Reranker_recall@200: 0.3284\n"
     ]
    }
   ],
   "source": [
    "test_als_results = evaluate_models(\n",
    "    df_valid_eval_reranker, test_als_pred, df_pred_catboost, k_values=[10, 20, 30, 40, 50, 60, 100, 150, 200]\n",
    ")\n",
    "print(\"\\nРезультаты модели на тестовом наборе:\")\n",
    "for metric, value in test_als_results.items():\n",
    "    print(f\"{metric}: {value:.4f}\")"
   ]
  }
 ],
 "metadata": {
  "kernelspec": {
   "display_name": ".venv",
   "language": "python",
   "name": "python3"
  },
  "language_info": {
   "codemirror_mode": {
    "name": "ipython",
    "version": 3
   },
   "file_extension": ".py",
   "mimetype": "text/x-python",
   "name": "python",
   "nbconvert_exporter": "python",
   "pygments_lexer": "ipython3",
   "version": "3.12.10"
  }
 },
 "nbformat": 4,
 "nbformat_minor": 5
}
