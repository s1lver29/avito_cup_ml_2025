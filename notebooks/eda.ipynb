{
 "cells": [
  {
   "cell_type": "code",
   "execution_count": 1,
   "id": "326ac7ff",
   "metadata": {},
   "outputs": [],
   "source": [
    "import polars as pl\n",
    "\n",
    "from pathlib import Path\n",
    "import os\n",
    "import json"
   ]
  },
  {
   "cell_type": "code",
   "execution_count": 2,
   "id": "13db41cd",
   "metadata": {},
   "outputs": [],
   "source": [
    "DATA_DIR = Path.cwd().parent / \"data\" / \"avito_ml_cup\""
   ]
  },
  {
   "cell_type": "markdown",
   "id": "ed4d5053",
   "metadata": {},
   "source": [
    "# Просмотр данных"
   ]
  },
  {
   "cell_type": "markdown",
   "id": "65b946c7",
   "metadata": {},
   "source": [
    "**clickstream.pq**\n",
    "- *cookie* - id пользователя [int64]\n",
    "- *item* - id объявления [int64]\n",
    "- *event* - id тип события [int64]. Например “клик”, “показать телефон”, “написать в мессенджер”\n",
    "- *event_date* - время, когда пользователь провзаимодействовал с айтемом datetime[ns]\n",
    "- *surface*  - экран, с которого было взаимодействие. Например пользователь может взаимодействовать с айтемом на поисковой выдаче, во вкладке “Избранное” [int64]\n",
    "- *platform* -  тип устройства, с которого пользователь совершил действие. Например - android, ios, desktop, браузер в телефоне [int64]\n",
    "- *node* - id группы товара. Сущность , которую необходимо предсказать [int64]"
   ]
  },
  {
   "cell_type": "code",
   "execution_count": 3,
   "id": "3a566b34",
   "metadata": {},
   "outputs": [
    {
     "name": "stdout",
     "output_type": "stream",
     "text": [
      "(68806152, 7)\n"
     ]
    },
    {
     "data": {
      "text/html": [
       "<div><style>\n",
       ".dataframe > thead > tr,\n",
       ".dataframe > tbody > tr {\n",
       "  text-align: right;\n",
       "  white-space: pre-wrap;\n",
       "}\n",
       "</style>\n",
       "<small>shape: (5, 7)</small><table border=\"1\" class=\"dataframe\"><thead><tr><th>cookie</th><th>item</th><th>event</th><th>event_date</th><th>platform</th><th>surface</th><th>node</th></tr><tr><td>i64</td><td>i64</td><td>i64</td><td>datetime[ns]</td><td>i64</td><td>i64</td><td>u32</td></tr></thead><tbody><tr><td>0</td><td>19915558</td><td>17</td><td>2025-02-05 02:30:59</td><td>3</td><td>2</td><td>115659</td></tr><tr><td>0</td><td>2680232</td><td>17</td><td>2025-01-24 21:16:57</td><td>3</td><td>2</td><td>115829</td></tr><tr><td>1</td><td>4247649</td><td>17</td><td>2025-01-29 23:00:58</td><td>2</td><td>2</td><td>7</td></tr><tr><td>1</td><td>4247649</td><td>17</td><td>2025-02-17 14:55:17</td><td>2</td><td>2</td><td>7</td></tr><tr><td>1</td><td>2171135</td><td>17</td><td>2025-01-17 19:23:29</td><td>2</td><td>2</td><td>214458</td></tr></tbody></table></div>"
      ],
      "text/plain": [
       "shape: (5, 7)\n",
       "┌────────┬──────────┬───────┬─────────────────────┬──────────┬─────────┬────────┐\n",
       "│ cookie ┆ item     ┆ event ┆ event_date          ┆ platform ┆ surface ┆ node   │\n",
       "│ ---    ┆ ---      ┆ ---   ┆ ---                 ┆ ---      ┆ ---     ┆ ---    │\n",
       "│ i64    ┆ i64      ┆ i64   ┆ datetime[ns]        ┆ i64      ┆ i64     ┆ u32    │\n",
       "╞════════╪══════════╪═══════╪═════════════════════╪══════════╪═════════╪════════╡\n",
       "│ 0      ┆ 19915558 ┆ 17    ┆ 2025-02-05 02:30:59 ┆ 3        ┆ 2       ┆ 115659 │\n",
       "│ 0      ┆ 2680232  ┆ 17    ┆ 2025-01-24 21:16:57 ┆ 3        ┆ 2       ┆ 115829 │\n",
       "│ 1      ┆ 4247649  ┆ 17    ┆ 2025-01-29 23:00:58 ┆ 2        ┆ 2       ┆ 7      │\n",
       "│ 1      ┆ 4247649  ┆ 17    ┆ 2025-02-17 14:55:17 ┆ 2        ┆ 2       ┆ 7      │\n",
       "│ 1      ┆ 2171135  ┆ 17    ┆ 2025-01-17 19:23:29 ┆ 2        ┆ 2       ┆ 214458 │\n",
       "└────────┴──────────┴───────┴─────────────────────┴──────────┴─────────┴────────┘"
      ]
     },
     "execution_count": 3,
     "metadata": {},
     "output_type": "execute_result"
    }
   ],
   "source": [
    "df_clickstream = pl.read_parquet(f'{DATA_DIR}/clickstream.pq')\n",
    "\n",
    "print(df_clickstream.shape)\n",
    "df_clickstream.head()"
   ]
  },
  {
   "cell_type": "code",
   "execution_count": 4,
   "id": "23cd7b9c",
   "metadata": {},
   "outputs": [
    {
     "data": {
      "text/html": [
       "<div><style>\n",
       ".dataframe > thead > tr,\n",
       ".dataframe > tbody > tr {\n",
       "  text-align: right;\n",
       "  white-space: pre-wrap;\n",
       "}\n",
       "</style>\n",
       "<small>shape: (10, 2)</small><table border=\"1\" class=\"dataframe\"><thead><tr><th>event</th><th>count</th></tr><tr><td>i64</td><td>u32</td></tr></thead><tbody><tr><td>17</td><td>61089584</td></tr><tr><td>11</td><td>4314754</td></tr><tr><td>12</td><td>866124</td></tr><tr><td>10</td><td>827467</td></tr><tr><td>15</td><td>339072</td></tr><tr><td>5</td><td>298697</td></tr><tr><td>3</td><td>297855</td></tr><tr><td>19</td><td>191843</td></tr><tr><td>8</td><td>167883</td></tr><tr><td>4</td><td>131489</td></tr></tbody></table></div>"
      ],
      "text/plain": [
       "shape: (10, 2)\n",
       "┌───────┬──────────┐\n",
       "│ event ┆ count    │\n",
       "│ ---   ┆ ---      │\n",
       "│ i64   ┆ u32      │\n",
       "╞═══════╪══════════╡\n",
       "│ 17    ┆ 61089584 │\n",
       "│ 11    ┆ 4314754  │\n",
       "│ 12    ┆ 866124   │\n",
       "│ 10    ┆ 827467   │\n",
       "│ 15    ┆ 339072   │\n",
       "│ 5     ┆ 298697   │\n",
       "│ 3     ┆ 297855   │\n",
       "│ 19    ┆ 191843   │\n",
       "│ 8     ┆ 167883   │\n",
       "│ 4     ┆ 131489   │\n",
       "└───────┴──────────┘"
      ]
     },
     "execution_count": 4,
     "metadata": {},
     "output_type": "execute_result"
    }
   ],
   "source": [
    "df_clickstream[\"event\"].value_counts().sort(\"count\", descending=True).head(10)"
   ]
  },
  {
   "cell_type": "code",
   "execution_count": 5,
   "id": "50a7306d",
   "metadata": {},
   "outputs": [
    {
     "name": "stdout",
     "output_type": "stream",
     "text": [
      "19\n"
     ]
    },
    {
     "data": {
      "text/html": [
       "<div><style>\n",
       ".dataframe > thead > tr,\n",
       ".dataframe > tbody > tr {\n",
       "  text-align: right;\n",
       "  white-space: pre-wrap;\n",
       "}\n",
       "</style>\n",
       "<small>shape: (10, 2)</small><table border=\"1\" class=\"dataframe\"><thead><tr><th>surface</th><th>count</th></tr><tr><td>i64</td><td>u32</td></tr></thead><tbody><tr><td>2</td><td>33199960</td></tr><tr><td>11</td><td>20610292</td></tr><tr><td>5</td><td>3949883</td></tr><tr><td>3</td><td>3943848</td></tr><tr><td>15</td><td>2799442</td></tr><tr><td>8</td><td>1967748</td></tr><tr><td>17</td><td>1091996</td></tr><tr><td>14</td><td>933390</td></tr><tr><td>4</td><td>87965</td></tr><tr><td>10</td><td>71475</td></tr></tbody></table></div>"
      ],
      "text/plain": [
       "shape: (10, 2)\n",
       "┌─────────┬──────────┐\n",
       "│ surface ┆ count    │\n",
       "│ ---     ┆ ---      │\n",
       "│ i64     ┆ u32      │\n",
       "╞═════════╪══════════╡\n",
       "│ 2       ┆ 33199960 │\n",
       "│ 11      ┆ 20610292 │\n",
       "│ 5       ┆ 3949883  │\n",
       "│ 3       ┆ 3943848  │\n",
       "│ 15      ┆ 2799442  │\n",
       "│ 8       ┆ 1967748  │\n",
       "│ 17      ┆ 1091996  │\n",
       "│ 14      ┆ 933390   │\n",
       "│ 4       ┆ 87965    │\n",
       "│ 10      ┆ 71475    │\n",
       "└─────────┴──────────┘"
      ]
     },
     "execution_count": 5,
     "metadata": {},
     "output_type": "execute_result"
    }
   ],
   "source": [
    "print(df_clickstream[\"surface\"].n_unique())\n",
    "df_clickstream[\"surface\"].value_counts().sort(by=\"count\", descending=True).head(10)"
   ]
  },
  {
   "cell_type": "code",
   "execution_count": 6,
   "id": "b66a647b",
   "metadata": {},
   "outputs": [
    {
     "name": "stdout",
     "output_type": "stream",
     "text": [
      "7\n"
     ]
    },
    {
     "data": {
      "text/html": [
       "<div><style>\n",
       ".dataframe > thead > tr,\n",
       ".dataframe > tbody > tr {\n",
       "  text-align: right;\n",
       "  white-space: pre-wrap;\n",
       "}\n",
       "</style>\n",
       "<small>shape: (7, 2)</small><table border=\"1\" class=\"dataframe\"><thead><tr><th>platform</th><th>count</th></tr><tr><td>i64</td><td>u32</td></tr></thead><tbody><tr><td>2</td><td>40252188</td></tr><tr><td>3</td><td>24307843</td></tr><tr><td>0</td><td>2253252</td></tr><tr><td>5</td><td>1980699</td></tr><tr><td>1</td><td>10299</td></tr><tr><td>4</td><td>1669</td></tr><tr><td>6</td><td>202</td></tr></tbody></table></div>"
      ],
      "text/plain": [
       "shape: (7, 2)\n",
       "┌──────────┬──────────┐\n",
       "│ platform ┆ count    │\n",
       "│ ---      ┆ ---      │\n",
       "│ i64      ┆ u32      │\n",
       "╞══════════╪══════════╡\n",
       "│ 2        ┆ 40252188 │\n",
       "│ 3        ┆ 24307843 │\n",
       "│ 0        ┆ 2253252  │\n",
       "│ 5        ┆ 1980699  │\n",
       "│ 1        ┆ 10299    │\n",
       "│ 4        ┆ 1669     │\n",
       "│ 6        ┆ 202      │\n",
       "└──────────┴──────────┘"
      ]
     },
     "execution_count": 6,
     "metadata": {},
     "output_type": "execute_result"
    }
   ],
   "source": [
    "print(df_clickstream[\"platform\"].n_unique())\n",
    "df_clickstream[\"platform\"].value_counts().sort(by=\"count\", descending=True)"
   ]
  },
  {
   "cell_type": "code",
   "execution_count": 7,
   "id": "0d10710e",
   "metadata": {},
   "outputs": [
    {
     "data": {
      "text/plain": [
       "408474"
      ]
     },
     "execution_count": 7,
     "metadata": {},
     "output_type": "execute_result"
    }
   ],
   "source": [
    "df_clickstream[\"node\"].n_unique()"
   ]
  },
  {
   "cell_type": "markdown",
   "id": "2be4f217",
   "metadata": {},
   "source": [
    "**cat_features.pq**\n",
    "- *item* -  id объявления [int64]\n",
    "- *location* - id локации айтема.  [int64]\n",
    "- *category* - id категории товара. [int64]\n",
    "- *clean_params* - параметры объявления. В примере [{\"attr\":859,\"value\":653982} …]  attr - это id атрибута, value - это id значения атрибута [str]\n",
    "- *node* - id группы товара. Сущность , которую необходимо предсказать [int64]"
   ]
  },
  {
   "cell_type": "code",
   "execution_count": 4,
   "id": "7d23edd6",
   "metadata": {},
   "outputs": [
    {
     "data": {
      "text/html": [
       "<div><style>\n",
       ".dataframe > thead > tr,\n",
       ".dataframe > tbody > tr {\n",
       "  text-align: right;\n",
       "  white-space: pre-wrap;\n",
       "}\n",
       "</style>\n",
       "<small>shape: (5, 5)</small><table border=\"1\" class=\"dataframe\"><thead><tr><th>item</th><th>location</th><th>category</th><th>clean_params</th><th>node</th></tr><tr><td>i64</td><td>i64</td><td>i64</td><td>str</td><td>u32</td></tr></thead><tbody><tr><td>9</td><td>8385</td><td>57</td><td>&quot;[{&quot;attr&quot;:1157,&quot;value&quot;:664427},…</td><td>194747</td></tr><tr><td>17</td><td>2707</td><td>35</td><td>&quot;[{&quot;attr&quot;:2140,&quot;value&quot;:501466},…</td><td>352905</td></tr><tr><td>144</td><td>8383</td><td>8</td><td>&quot;[{&quot;attr&quot;:802,&quot;value&quot;:35791},{&quot;…</td><td>17188</td></tr><tr><td>202</td><td>5397</td><td>57</td><td>&quot;[{&quot;attr&quot;:1157,&quot;value&quot;:490527},…</td><td>194766</td></tr><tr><td>236</td><td>2105</td><td>64</td><td>&quot;[{&quot;attr&quot;:112,&quot;value&quot;:420797},{…</td><td>153951</td></tr></tbody></table></div>"
      ],
      "text/plain": [
       "shape: (5, 5)\n",
       "┌──────┬──────────┬──────────┬─────────────────────────────────┬────────┐\n",
       "│ item ┆ location ┆ category ┆ clean_params                    ┆ node   │\n",
       "│ ---  ┆ ---      ┆ ---      ┆ ---                             ┆ ---    │\n",
       "│ i64  ┆ i64      ┆ i64      ┆ str                             ┆ u32    │\n",
       "╞══════╪══════════╪══════════╪═════════════════════════════════╪════════╡\n",
       "│ 9    ┆ 8385     ┆ 57       ┆ [{\"attr\":1157,\"value\":664427},… ┆ 194747 │\n",
       "│ 17   ┆ 2707     ┆ 35       ┆ [{\"attr\":2140,\"value\":501466},… ┆ 352905 │\n",
       "│ 144  ┆ 8383     ┆ 8        ┆ [{\"attr\":802,\"value\":35791},{\"… ┆ 17188  │\n",
       "│ 202  ┆ 5397     ┆ 57       ┆ [{\"attr\":1157,\"value\":490527},… ┆ 194766 │\n",
       "│ 236  ┆ 2105     ┆ 64       ┆ [{\"attr\":112,\"value\":420797},{… ┆ 153951 │\n",
       "└──────┴──────────┴──────────┴─────────────────────────────────┴────────┘"
      ]
     },
     "execution_count": 4,
     "metadata": {},
     "output_type": "execute_result"
    }
   ],
   "source": [
    "df_cat_features = pl.read_parquet(f'{DATA_DIR}/cat_features.pq')\n",
    "\n",
    "df_cat_features.head()"
   ]
  },
  {
   "cell_type": "code",
   "execution_count": 9,
   "id": "2a9120e5",
   "metadata": {},
   "outputs": [
    {
     "data": {
      "text/plain": [
       "9"
      ]
     },
     "execution_count": 9,
     "metadata": {},
     "output_type": "execute_result"
    }
   ],
   "source": [
    "json_feature = json.loads(df_cat_features[\"clean_params\"].sample(1)[0])\n",
    "\n",
    "len(json_feature)"
   ]
  },
  {
   "cell_type": "code",
   "execution_count": 10,
   "id": "646d64ea",
   "metadata": {},
   "outputs": [
    {
     "data": {
      "text/plain": [
       "4823"
      ]
     },
     "execution_count": 10,
     "metadata": {},
     "output_type": "execute_result"
    }
   ],
   "source": [
    "df_cat_features[\"location\"].n_unique()"
   ]
  },
  {
   "cell_type": "code",
   "execution_count": 11,
   "id": "22ed3dc2",
   "metadata": {},
   "outputs": [
    {
     "name": "stdout",
     "output_type": "stream",
     "text": [
      "53\n"
     ]
    },
    {
     "data": {
      "text/html": [
       "<div><style>\n",
       ".dataframe > thead > tr,\n",
       ".dataframe > tbody > tr {\n",
       "  text-align: right;\n",
       "  white-space: pre-wrap;\n",
       "}\n",
       "</style>\n",
       "<small>shape: (10, 2)</small><table border=\"1\" class=\"dataframe\"><thead><tr><th>category</th><th>count</th></tr><tr><td>i64</td><td>u32</td></tr></thead><tbody><tr><td>35</td><td>3693923</td></tr><tr><td>51</td><td>2341955</td></tr><tr><td>19</td><td>1280756</td></tr><tr><td>24</td><td>1134356</td></tr><tr><td>40</td><td>1120838</td></tr><tr><td>7</td><td>981234</td></tr><tr><td>37</td><td>942007</td></tr><tr><td>46</td><td>918996</td></tr><tr><td>57</td><td>917895</td></tr><tr><td>52</td><td>809191</td></tr></tbody></table></div>"
      ],
      "text/plain": [
       "shape: (10, 2)\n",
       "┌──────────┬─────────┐\n",
       "│ category ┆ count   │\n",
       "│ ---      ┆ ---     │\n",
       "│ i64      ┆ u32     │\n",
       "╞══════════╪═════════╡\n",
       "│ 35       ┆ 3693923 │\n",
       "│ 51       ┆ 2341955 │\n",
       "│ 19       ┆ 1280756 │\n",
       "│ 24       ┆ 1134356 │\n",
       "│ 40       ┆ 1120838 │\n",
       "│ 7        ┆ 981234  │\n",
       "│ 37       ┆ 942007  │\n",
       "│ 46       ┆ 918996  │\n",
       "│ 57       ┆ 917895  │\n",
       "│ 52       ┆ 809191  │\n",
       "└──────────┴─────────┘"
      ]
     },
     "execution_count": 11,
     "metadata": {},
     "output_type": "execute_result"
    }
   ],
   "source": [
    "print(df_cat_features[\"category\"].n_unique())\n",
    "df_cat_features[\"category\"].value_counts().sort(by=\"count\", descending=True).head(10)"
   ]
  },
  {
   "cell_type": "code",
   "execution_count": 12,
   "id": "96548fbb",
   "metadata": {},
   "outputs": [
    {
     "data": {
      "text/plain": [
       "408474"
      ]
     },
     "execution_count": 12,
     "metadata": {},
     "output_type": "execute_result"
    }
   ],
   "source": [
    "df_cat_features[\"node\"].n_unique()"
   ]
  },
  {
   "cell_type": "markdown",
   "id": "d9827148",
   "metadata": {},
   "source": [
    "**text_features.pq**\n",
    "- *item*  - id объявления [int64]\n",
    "- *title_projection* - вектор тайтла объявления array[int8, 64]. Чем выше скалярное произведение между 2-мя векторами, тем более похожи заголовки объявлений"
   ]
  },
  {
   "cell_type": "code",
   "execution_count": 3,
   "id": "a957d2e9",
   "metadata": {},
   "outputs": [
    {
     "data": {
      "text/html": [
       "<div><style>\n",
       ".dataframe > thead > tr,\n",
       ".dataframe > tbody > tr {\n",
       "  text-align: right;\n",
       "  white-space: pre-wrap;\n",
       "}\n",
       "</style>\n",
       "<small>shape: (5, 2)</small><table border=\"1\" class=\"dataframe\"><thead><tr><th>item</th><th>title_projection</th></tr><tr><td>i64</td><td>array[i8, 64]</td></tr></thead><tbody><tr><td>9</td><td>[-128, 90, … -36]</td></tr><tr><td>17</td><td>[-128, 127, … -3]</td></tr><tr><td>144</td><td>[-128, 97, … 18]</td></tr><tr><td>202</td><td>[-128, 127, … 15]</td></tr><tr><td>236</td><td>[-128, 29, … -128]</td></tr></tbody></table></div>"
      ],
      "text/plain": [
       "shape: (5, 2)\n",
       "┌──────┬────────────────────┐\n",
       "│ item ┆ title_projection   │\n",
       "│ ---  ┆ ---                │\n",
       "│ i64  ┆ array[i8, 64]      │\n",
       "╞══════╪════════════════════╡\n",
       "│ 9    ┆ [-128, 90, … -36]  │\n",
       "│ 17   ┆ [-128, 127, … -3]  │\n",
       "│ 144  ┆ [-128, 97, … 18]   │\n",
       "│ 202  ┆ [-128, 127, … 15]  │\n",
       "│ 236  ┆ [-128, 29, … -128] │\n",
       "└──────┴────────────────────┘"
      ]
     },
     "execution_count": 3,
     "metadata": {},
     "output_type": "execute_result"
    }
   ],
   "source": [
    "df_text_features = pl.read_parquet(f'{DATA_DIR}/text_features.pq')\n",
    "\n",
    "df_text_features.head()"
   ]
  },
  {
   "cell_type": "markdown",
   "id": "5fe0c371",
   "metadata": {},
   "source": [
    "**events.pq**\n",
    "- *event* - id типы события [int64]\n",
    "- *is_contact* - 0 или 1. Является ли событие контактным [int64]"
   ]
  },
  {
   "cell_type": "code",
   "execution_count": 3,
   "id": "2a213502",
   "metadata": {},
   "outputs": [
    {
     "data": {
      "text/html": [
       "<div><style>\n",
       ".dataframe > thead > tr,\n",
       ".dataframe > tbody > tr {\n",
       "  text-align: right;\n",
       "  white-space: pre-wrap;\n",
       "}\n",
       "</style>\n",
       "<small>shape: (5, 2)</small><table border=\"1\" class=\"dataframe\"><thead><tr><th>event</th><th>is_contact</th></tr><tr><td>i64</td><td>i64</td></tr></thead><tbody><tr><td>0</td><td>1</td></tr><tr><td>11</td><td>0</td></tr><tr><td>4</td><td>1</td></tr><tr><td>16</td><td>0</td></tr><tr><td>15</td><td>1</td></tr></tbody></table></div>"
      ],
      "text/plain": [
       "shape: (5, 2)\n",
       "┌───────┬────────────┐\n",
       "│ event ┆ is_contact │\n",
       "│ ---   ┆ ---        │\n",
       "│ i64   ┆ i64        │\n",
       "╞═══════╪════════════╡\n",
       "│ 0     ┆ 1          │\n",
       "│ 11    ┆ 0          │\n",
       "│ 4     ┆ 1          │\n",
       "│ 16    ┆ 0          │\n",
       "│ 15    ┆ 1          │\n",
       "└───────┴────────────┘"
      ]
     },
     "execution_count": 3,
     "metadata": {},
     "output_type": "execute_result"
    }
   ],
   "source": [
    "df_events = pl.read_parquet(f'{DATA_DIR}/events.pq')\n",
    "\n",
    "df_events.head()"
   ]
  },
  {
   "cell_type": "code",
   "execution_count": 8,
   "id": "2020c68a",
   "metadata": {},
   "outputs": [
    {
     "data": {
      "text/html": [
       "<div><style>\n",
       ".dataframe > thead > tr,\n",
       ".dataframe > tbody > tr {\n",
       "  text-align: right;\n",
       "  white-space: pre-wrap;\n",
       "}\n",
       "</style>\n",
       "<small>shape: (10, 2)</small><table border=\"1\" class=\"dataframe\"><thead><tr><th>event</th><th>is_contact</th></tr><tr><td>i64</td><td>i64</td></tr></thead><tbody><tr><td>13</td><td>1</td></tr><tr><td>10</td><td>1</td></tr><tr><td>14</td><td>1</td></tr><tr><td>19</td><td>1</td></tr><tr><td>11</td><td>0</td></tr><tr><td>16</td><td>0</td></tr><tr><td>3</td><td>0</td></tr><tr><td>12</td><td>0</td></tr><tr><td>8</td><td>0</td></tr><tr><td>17</td><td>0</td></tr></tbody></table></div>"
      ],
      "text/plain": [
       "shape: (10, 2)\n",
       "┌───────┬────────────┐\n",
       "│ event ┆ is_contact │\n",
       "│ ---   ┆ ---        │\n",
       "│ i64   ┆ i64        │\n",
       "╞═══════╪════════════╡\n",
       "│ 13    ┆ 1          │\n",
       "│ 10    ┆ 1          │\n",
       "│ 14    ┆ 1          │\n",
       "│ 19    ┆ 1          │\n",
       "│ 11    ┆ 0          │\n",
       "│ 16    ┆ 0          │\n",
       "│ 3     ┆ 0          │\n",
       "│ 12    ┆ 0          │\n",
       "│ 8     ┆ 0          │\n",
       "│ 17    ┆ 0          │\n",
       "└───────┴────────────┘"
      ]
     },
     "execution_count": 8,
     "metadata": {},
     "output_type": "execute_result"
    }
   ],
   "source": [
    "df_events.sort(\"is_contact\", descending=True).tail(10)"
   ]
  },
  {
   "cell_type": "markdown",
   "id": "b526d3ce",
   "metadata": {},
   "source": [
    "Соединим clickstream и df_events, чтобы посмотреть количество всех интеракций по *типу события* и какие из них являются *контакными* "
   ]
  },
  {
   "cell_type": "code",
   "execution_count": 5,
   "id": "0331357e",
   "metadata": {},
   "outputs": [
    {
     "ename": "NameError",
     "evalue": "name 'df_clickstream' is not defined",
     "output_type": "error",
     "traceback": [
      "\u001b[31m---------------------------------------------------------------------------\u001b[39m",
      "\u001b[31mNameError\u001b[39m                                 Traceback (most recent call last)",
      "\u001b[36mCell\u001b[39m\u001b[36m \u001b[39m\u001b[32mIn[5]\u001b[39m\u001b[32m, line 1\u001b[39m\n\u001b[32m----> \u001b[39m\u001b[32m1\u001b[39m \u001b[43mdf_clickstream\u001b[49m[\u001b[33m\"\u001b[39m\u001b[33mevent\u001b[39m\u001b[33m\"\u001b[39m].value_counts().join(\n\u001b[32m      2\u001b[39m     df_events,\n\u001b[32m      3\u001b[39m     on=\u001b[33m\"\u001b[39m\u001b[33mevent\u001b[39m\u001b[33m\"\u001b[39m\n\u001b[32m      4\u001b[39m ).sort(by=\u001b[33m\"\u001b[39m\u001b[33mcount\u001b[39m\u001b[33m\"\u001b[39m, descending=\u001b[38;5;28;01mTrue\u001b[39;00m).tail(\u001b[32m10\u001b[39m)\n",
      "\u001b[31mNameError\u001b[39m: name 'df_clickstream' is not defined"
     ]
    }
   ],
   "source": [
    "df_clickstream[\"event\"].value_counts().join(\n",
    "    df_events,\n",
    "    on=\"event\"\n",
    ").sort(by=\"count\", descending=True).tail(10)"
   ]
  },
  {
   "cell_type": "markdown",
   "id": "c31b8d07",
   "metadata": {},
   "source": []
  },
  {
   "cell_type": "code",
   "execution_count": 17,
   "id": "148d8722",
   "metadata": {},
   "outputs": [
    {
     "data": {
      "text/html": [
       "<div><style>\n",
       ".dataframe > thead > tr,\n",
       ".dataframe > tbody > tr {\n",
       "  text-align: right;\n",
       "  white-space: pre-wrap;\n",
       "}\n",
       "</style>\n",
       "<small>shape: (5, 1)</small><table border=\"1\" class=\"dataframe\"><thead><tr><th>cookie</th></tr><tr><td>i64</td></tr></thead><tbody><tr><td>52564</td></tr><tr><td>105000</td></tr><tr><td>57152</td></tr><tr><td>87303</td></tr><tr><td>37755</td></tr></tbody></table></div>"
      ],
      "text/plain": [
       "shape: (5, 1)\n",
       "┌────────┐\n",
       "│ cookie │\n",
       "│ ---    │\n",
       "│ i64    │\n",
       "╞════════╡\n",
       "│ 52564  │\n",
       "│ 105000 │\n",
       "│ 57152  │\n",
       "│ 87303  │\n",
       "│ 37755  │\n",
       "└────────┘"
      ]
     },
     "execution_count": 17,
     "metadata": {},
     "output_type": "execute_result"
    }
   ],
   "source": [
    "df_test_users = pl.read_parquet(f'{DATA_DIR}/test_users.pq')\n",
    "\n",
    "df_test_users.head()"
   ]
  },
  {
   "cell_type": "code",
   "execution_count": 20,
   "id": "64aea665",
   "metadata": {},
   "outputs": [
    {
     "data": {
      "text/html": [
       "<div><style>\n",
       ".dataframe > thead > tr,\n",
       ".dataframe > tbody > tr {\n",
       "  text-align: right;\n",
       "  white-space: pre-wrap;\n",
       "}\n",
       "</style>\n",
       "<small>shape: (0, 1)</small><table border=\"1\" class=\"dataframe\"><thead><tr><th>cookie</th></tr><tr><td>i64</td></tr></thead><tbody></tbody></table></div>"
      ],
      "text/plain": [
       "shape: (0, 1)\n",
       "┌────────┐\n",
       "│ cookie │\n",
       "│ ---    │\n",
       "│ i64    │\n",
       "╞════════╡\n",
       "└────────┘"
      ]
     },
     "execution_count": 20,
     "metadata": {},
     "output_type": "execute_result"
    }
   ],
   "source": [
    "df_test_users.select(\"cookie\").join(\n",
    "    df_clickstream.select(\"cookie\").unique(),\n",
    "    on=\"cookie\",\n",
    "    how=\"anti\"\n",
    ")"
   ]
  },
  {
   "cell_type": "code",
   "execution_count": 22,
   "id": "a4db9afd",
   "metadata": {},
   "outputs": [
    {
     "data": {
      "text/plain": [
       "((92319,), (134294,))"
      ]
     },
     "execution_count": 22,
     "metadata": {},
     "output_type": "execute_result"
    }
   ],
   "source": [
    "df_test_users[\"cookie\"].shape, df_clickstream[\"cookie\"].unique().shape"
   ]
  },
  {
   "cell_type": "markdown",
   "id": "d0120026",
   "metadata": {},
   "source": [
    "-------"
   ]
  },
  {
   "cell_type": "code",
   "execution_count": 12,
   "id": "8381e215",
   "metadata": {},
   "outputs": [
    {
     "data": {
      "text/html": [
       "<div><style>\n",
       ".dataframe > thead > tr,\n",
       ".dataframe > tbody > tr {\n",
       "  text-align: right;\n",
       "  white-space: pre-wrap;\n",
       "}\n",
       "</style>\n",
       "<small>shape: (408_474, 2)</small><table border=\"1\" class=\"dataframe\"><thead><tr><th>node</th><th>item</th></tr><tr><td>u32</td><td>u32</td></tr></thead><tbody><tr><td>170538</td><td>463451</td></tr><tr><td>151453</td><td>307435</td></tr><tr><td>71514</td><td>185301</td></tr><tr><td>71511</td><td>146887</td></tr><tr><td>71546</td><td>136767</td></tr><tr><td>&hellip;</td><td>&hellip;</td></tr><tr><td>284557</td><td>1</td></tr><tr><td>414456</td><td>1</td></tr><tr><td>75733</td><td>1</td></tr><tr><td>413030</td><td>1</td></tr><tr><td>272505</td><td>1</td></tr></tbody></table></div>"
      ],
      "text/plain": [
       "shape: (408_474, 2)\n",
       "┌────────┬────────┐\n",
       "│ node   ┆ item   │\n",
       "│ ---    ┆ ---    │\n",
       "│ u32    ┆ u32    │\n",
       "╞════════╪════════╡\n",
       "│ 170538 ┆ 463451 │\n",
       "│ 151453 ┆ 307435 │\n",
       "│ 71514  ┆ 185301 │\n",
       "│ 71511  ┆ 146887 │\n",
       "│ 71546  ┆ 136767 │\n",
       "│ …      ┆ …      │\n",
       "│ 284557 ┆ 1      │\n",
       "│ 414456 ┆ 1      │\n",
       "│ 75733  ┆ 1      │\n",
       "│ 413030 ┆ 1      │\n",
       "│ 272505 ┆ 1      │\n",
       "└────────┴────────┘"
      ]
     },
     "execution_count": 12,
     "metadata": {},
     "output_type": "execute_result"
    }
   ],
   "source": [
    "df_cat_features.group_by(\"node\").len(\"item\").sort(\"item\", descending=True)"
   ]
  },
  {
   "cell_type": "code",
   "execution_count": 13,
   "id": "5a77c0c8",
   "metadata": {},
   "outputs": [],
   "source": [
    "import numpy as np\n",
    "from sklearn.metrics.pairwise import cosine_similarity\n",
    "from tqdm import tqdm"
   ]
  },
  {
   "cell_type": "code",
   "execution_count": 14,
   "id": "94f5b7ae",
   "metadata": {},
   "outputs": [],
   "source": [
    "df_combined = df_cat_features.join(\n",
    "    df_text_features,\n",
    "    on=\"item\",\n",
    "    how=\"inner\"\n",
    ")"
   ]
  },
  {
   "cell_type": "code",
   "execution_count": 16,
   "id": "3cad033e",
   "metadata": {},
   "outputs": [
    {
     "name": "stderr",
     "output_type": "stream",
     "text": [
      "  0%|          | 2000/22646691 [00:20<64:29:13, 97.54it/s] \n"
     ]
    },
    {
     "data": {
      "text/html": [
       "<div><style>\n",
       ".dataframe > thead > tr,\n",
       ".dataframe > tbody > tr {\n",
       "  text-align: right;\n",
       "  white-space: pre-wrap;\n",
       "}\n",
       "</style>\n",
       "<small>shape: (10, 7)</small><table border=\"1\" class=\"dataframe\"><thead><tr><th>node</th><th>items_count</th><th>mean_similarity</th><th>std_similarity</th><th>min_similarity</th><th>max_similarity</th><th>median_similarity</th></tr><tr><td>i64</td><td>i64</td><td>f64</td><td>f64</td><td>f64</td><td>f64</td><td>f64</td></tr></thead><tbody><tr><td>509</td><td>2</td><td>1.0</td><td>0.0</td><td>1.0</td><td>1.0</td><td>1.0</td></tr><tr><td>1649</td><td>2</td><td>1.0</td><td>0.0</td><td>1.0</td><td>1.0</td><td>1.0</td></tr><tr><td>1720</td><td>2</td><td>1.0</td><td>0.0</td><td>1.0</td><td>1.0</td><td>1.0</td></tr><tr><td>181</td><td>2</td><td>1.0</td><td>0.0</td><td>1.0</td><td>1.0</td><td>1.0</td></tr><tr><td>1257</td><td>2</td><td>1.0</td><td>0.0</td><td>1.0</td><td>1.0</td><td>1.0</td></tr><tr><td>1551</td><td>3</td><td>1.0</td><td>0.0</td><td>1.0</td><td>1.0</td><td>1.0</td></tr><tr><td>1700</td><td>4</td><td>1.0</td><td>0.0</td><td>1.0</td><td>1.0</td><td>1.0</td></tr><tr><td>1701</td><td>4</td><td>1.0</td><td>2.2204e-16</td><td>1.0</td><td>1.0</td><td>1.0</td></tr><tr><td>1706</td><td>4</td><td>1.0</td><td>0.0</td><td>1.0</td><td>1.0</td><td>1.0</td></tr><tr><td>1834</td><td>4</td><td>1.0</td><td>0.0</td><td>1.0</td><td>1.0</td><td>1.0</td></tr></tbody></table></div>"
      ],
      "text/plain": [
       "shape: (10, 7)\n",
       "┌──────┬─────────────┬───────────────┬───────────────┬───────────────┬──────────────┬──────────────┐\n",
       "│ node ┆ items_count ┆ mean_similari ┆ std_similarit ┆ min_similarit ┆ max_similari ┆ median_simil │\n",
       "│ ---  ┆ ---         ┆ ty            ┆ y             ┆ y             ┆ ty           ┆ arity        │\n",
       "│ i64  ┆ i64         ┆ ---           ┆ ---           ┆ ---           ┆ ---          ┆ ---          │\n",
       "│      ┆             ┆ f64           ┆ f64           ┆ f64           ┆ f64          ┆ f64          │\n",
       "╞══════╪═════════════╪═══════════════╪═══════════════╪═══════════════╪══════════════╪══════════════╡\n",
       "│ 509  ┆ 2           ┆ 1.0           ┆ 0.0           ┆ 1.0           ┆ 1.0          ┆ 1.0          │\n",
       "│ 1649 ┆ 2           ┆ 1.0           ┆ 0.0           ┆ 1.0           ┆ 1.0          ┆ 1.0          │\n",
       "│ 1720 ┆ 2           ┆ 1.0           ┆ 0.0           ┆ 1.0           ┆ 1.0          ┆ 1.0          │\n",
       "│ 181  ┆ 2           ┆ 1.0           ┆ 0.0           ┆ 1.0           ┆ 1.0          ┆ 1.0          │\n",
       "│ 1257 ┆ 2           ┆ 1.0           ┆ 0.0           ┆ 1.0           ┆ 1.0          ┆ 1.0          │\n",
       "│ 1551 ┆ 3           ┆ 1.0           ┆ 0.0           ┆ 1.0           ┆ 1.0          ┆ 1.0          │\n",
       "│ 1700 ┆ 4           ┆ 1.0           ┆ 0.0           ┆ 1.0           ┆ 1.0          ┆ 1.0          │\n",
       "│ 1701 ┆ 4           ┆ 1.0           ┆ 2.2204e-16    ┆ 1.0           ┆ 1.0          ┆ 1.0          │\n",
       "│ 1706 ┆ 4           ┆ 1.0           ┆ 0.0           ┆ 1.0           ┆ 1.0          ┆ 1.0          │\n",
       "│ 1834 ┆ 4           ┆ 1.0           ┆ 0.0           ┆ 1.0           ┆ 1.0          ┆ 1.0          │\n",
       "└──────┴─────────────┴───────────────┴───────────────┴───────────────┴──────────────┴──────────────┘"
      ]
     },
     "execution_count": 16,
     "metadata": {},
     "output_type": "execute_result"
    }
   ],
   "source": [
    "def calculate_intra_node_similarity(df):\n",
    "    \"\"\"Вычисляет статистики схожести внутри каждой node\"\"\"\n",
    "    \n",
    "    intra_node_stats = []\n",
    "    \n",
    "    for i, node_id in tqdm(enumerate(df[\"node\"].unique()), total=len(df)):\n",
    "        node_data = df.filter(pl.col(\"node\") == node_id)\n",
    "        if node_data.shape[0] > 100:\n",
    "            node_data = node_data.sample(100, seed=123)\n",
    "        \n",
    "        if len(node_data) < 2:\n",
    "            continue\n",
    "            \n",
    "        # Извлекаем векторы title_projection\n",
    "        vectors = np.array([row for row in node_data[\"title_projection\"]])\n",
    "        \n",
    "        # Вычисляем косинусное сходство между всеми парами\n",
    "        similarity_matrix = cosine_similarity(vectors)\n",
    "        \n",
    "        # Извлекаем только верхний треугольник (исключая диагональ)\n",
    "        upper_triangle = similarity_matrix[np.triu_indices_from(similarity_matrix, k=1)]\n",
    "        \n",
    "        stats = {\n",
    "            \"node\": node_id,\n",
    "            \"items_count\": len(node_data),\n",
    "            \"mean_similarity\": np.mean(upper_triangle),\n",
    "            \"std_similarity\": np.std(upper_triangle),\n",
    "            \"min_similarity\": np.min(upper_triangle),\n",
    "            \"max_similarity\": np.max(upper_triangle),\n",
    "            \"median_similarity\": np.median(upper_triangle)\n",
    "        }\n",
    "        \n",
    "        intra_node_stats.append(stats)\n",
    "\n",
    "        if i == 2000:\n",
    "            break\n",
    "    \n",
    "    return pl.DataFrame(intra_node_stats)\n",
    "\n",
    "# Вычисляем статистики для каждой node\n",
    "intra_node_similarity = calculate_intra_node_similarity(df_combined)\n",
    "intra_node_similarity.sort(\"mean_similarity\", descending=True).head(10)"
   ]
  },
  {
   "cell_type": "code",
   "execution_count": 18,
   "id": "deb637ae",
   "metadata": {},
   "outputs": [
    {
     "data": {
      "text/html": [
       "<div><style>\n",
       ".dataframe > thead > tr,\n",
       ".dataframe > tbody > tr {\n",
       "  text-align: right;\n",
       "  white-space: pre-wrap;\n",
       "}\n",
       "</style>\n",
       "<small>shape: (10, 7)</small><table border=\"1\" class=\"dataframe\"><thead><tr><th>node</th><th>items_count</th><th>mean_similarity</th><th>std_similarity</th><th>min_similarity</th><th>max_similarity</th><th>median_similarity</th></tr><tr><td>i64</td><td>i64</td><td>f64</td><td>f64</td><td>f64</td><td>f64</td><td>f64</td></tr></thead><tbody><tr><td>7</td><td>100</td><td>0.743431</td><td>0.112529</td><td>0.471041</td><td>1.0</td><td>0.730563</td></tr><tr><td>8</td><td>100</td><td>0.74457</td><td>0.122594</td><td>0.471041</td><td>1.0</td><td>0.730563</td></tr><tr><td>9</td><td>100</td><td>0.759509</td><td>0.121617</td><td>0.471041</td><td>1.0</td><td>0.741305</td></tr><tr><td>10</td><td>100</td><td>0.720131</td><td>0.126703</td><td>0.543007</td><td>1.0</td><td>0.707692</td></tr><tr><td>11</td><td>100</td><td>0.754346</td><td>0.125342</td><td>0.543007</td><td>1.0</td><td>0.763427</td></tr><tr><td>12</td><td>100</td><td>0.689366</td><td>0.131492</td><td>0.543007</td><td>1.0</td><td>0.655116</td></tr><tr><td>13</td><td>100</td><td>0.701344</td><td>0.119672</td><td>0.543007</td><td>1.0</td><td>0.675457</td></tr><tr><td>14</td><td>100</td><td>0.739596</td><td>0.12461</td><td>0.471041</td><td>1.0</td><td>0.722745</td></tr><tr><td>15</td><td>100</td><td>0.736214</td><td>0.121867</td><td>0.471041</td><td>1.0</td><td>0.719943</td></tr><tr><td>16</td><td>100</td><td>0.737138</td><td>0.115141</td><td>0.521468</td><td>1.0</td><td>0.726516</td></tr></tbody></table></div>"
      ],
      "text/plain": [
       "shape: (10, 7)\n",
       "┌──────┬─────────────┬───────────────┬───────────────┬───────────────┬──────────────┬──────────────┐\n",
       "│ node ┆ items_count ┆ mean_similari ┆ std_similarit ┆ min_similarit ┆ max_similari ┆ median_simil │\n",
       "│ ---  ┆ ---         ┆ ty            ┆ y             ┆ y             ┆ ty           ┆ arity        │\n",
       "│ i64  ┆ i64         ┆ ---           ┆ ---           ┆ ---           ┆ ---          ┆ ---          │\n",
       "│      ┆             ┆ f64           ┆ f64           ┆ f64           ┆ f64          ┆ f64          │\n",
       "╞══════╪═════════════╪═══════════════╪═══════════════╪═══════════════╪══════════════╪══════════════╡\n",
       "│ 7    ┆ 100         ┆ 0.743431      ┆ 0.112529      ┆ 0.471041      ┆ 1.0          ┆ 0.730563     │\n",
       "│ 8    ┆ 100         ┆ 0.74457       ┆ 0.122594      ┆ 0.471041      ┆ 1.0          ┆ 0.730563     │\n",
       "│ 9    ┆ 100         ┆ 0.759509      ┆ 0.121617      ┆ 0.471041      ┆ 1.0          ┆ 0.741305     │\n",
       "│ 10   ┆ 100         ┆ 0.720131      ┆ 0.126703      ┆ 0.543007      ┆ 1.0          ┆ 0.707692     │\n",
       "│ 11   ┆ 100         ┆ 0.754346      ┆ 0.125342      ┆ 0.543007      ┆ 1.0          ┆ 0.763427     │\n",
       "│ 12   ┆ 100         ┆ 0.689366      ┆ 0.131492      ┆ 0.543007      ┆ 1.0          ┆ 0.655116     │\n",
       "│ 13   ┆ 100         ┆ 0.701344      ┆ 0.119672      ┆ 0.543007      ┆ 1.0          ┆ 0.675457     │\n",
       "│ 14   ┆ 100         ┆ 0.739596      ┆ 0.12461       ┆ 0.471041      ┆ 1.0          ┆ 0.722745     │\n",
       "│ 15   ┆ 100         ┆ 0.736214      ┆ 0.121867      ┆ 0.471041      ┆ 1.0          ┆ 0.719943     │\n",
       "│ 16   ┆ 100         ┆ 0.737138      ┆ 0.115141      ┆ 0.521468      ┆ 1.0          ┆ 0.726516     │\n",
       "└──────┴─────────────┴───────────────┴───────────────┴───────────────┴──────────────┴──────────────┘"
      ]
     },
     "execution_count": 18,
     "metadata": {},
     "output_type": "execute_result"
    }
   ],
   "source": [
    "intra_node_similarity.sort(\"items_count\", descending=True).head(10)"
   ]
  },
  {
   "cell_type": "code",
   "execution_count": 11,
   "id": "9941b78c",
   "metadata": {},
   "outputs": [],
   "source": [
    "df_text_features_columns = df_text_features.with_columns([\n",
    "    pl.col(\"title_projection\").arr.get(i).alias(f\"t_{i}\") for i in range(64)\n",
    "])"
   ]
  },
  {
   "cell_type": "code",
   "execution_count": null,
   "id": "1c737087",
   "metadata": {},
   "outputs": [],
   "source": [
    "test_means = df_cat_features.join(\n",
    "    df_text_features_columns,\n",
    "    on=\"item\",\n",
    "    how=\"inner\"\n",
    ")"
   ]
  },
  {
   "cell_type": "code",
   "execution_count": 14,
   "id": "9caf2f3a",
   "metadata": {},
   "outputs": [],
   "source": [
    "agg_exprs = [\n",
    "    pl.mean(f\"t_{i}\").alias(f\"emb_{i}\") for i in range(64)\n",
    "] + [\n",
    "    pl.col(\"category\").mode().alias(\"category_mode\"),\n",
    "    pl.col(\"location\").mode().alias(\"location_mode\"),\n",
    "]\n",
    "\n",
    "df_node = test_means.group_by(\"node\").agg(agg_exprs)"
   ]
  },
  {
   "cell_type": "code",
   "execution_count": 25,
   "id": "ea2d83cc",
   "metadata": {},
   "outputs": [],
   "source": [
    "import gc\n",
    "import sys"
   ]
  },
  {
   "cell_type": "code",
   "execution_count": 27,
   "id": "b609f087",
   "metadata": {},
   "outputs": [
    {
     "data": {
      "text/plain": [
       "5"
      ]
     },
     "execution_count": 27,
     "metadata": {},
     "output_type": "execute_result"
    }
   ],
   "source": [
    "sys.getrefcount(test_means)"
   ]
  },
  {
   "cell_type": "code",
   "execution_count": 28,
   "id": "16fce367",
   "metadata": {},
   "outputs": [],
   "source": [
    "del test_means"
   ]
  },
  {
   "cell_type": "code",
   "execution_count": 29,
   "id": "d8ffbb5b",
   "metadata": {},
   "outputs": [
    {
     "data": {
      "text/plain": [
       "2082"
      ]
     },
     "execution_count": 29,
     "metadata": {},
     "output_type": "execute_result"
    }
   ],
   "source": [
    "gc.collect()"
   ]
  },
  {
   "cell_type": "code",
   "execution_count": 15,
   "id": "9ce2c068",
   "metadata": {},
   "outputs": [
    {
     "data": {
      "text/html": [
       "<div><style>\n",
       ".dataframe > thead > tr,\n",
       ".dataframe > tbody > tr {\n",
       "  text-align: right;\n",
       "  white-space: pre-wrap;\n",
       "}\n",
       "</style>\n",
       "<small>shape: (408_474, 67)</small><table border=\"1\" class=\"dataframe\"><thead><tr><th>node</th><th>emb_0</th><th>emb_1</th><th>emb_2</th><th>emb_3</th><th>emb_4</th><th>emb_5</th><th>emb_6</th><th>emb_7</th><th>emb_8</th><th>emb_9</th><th>emb_10</th><th>emb_11</th><th>emb_12</th><th>emb_13</th><th>emb_14</th><th>emb_15</th><th>emb_16</th><th>emb_17</th><th>emb_18</th><th>emb_19</th><th>emb_20</th><th>emb_21</th><th>emb_22</th><th>emb_23</th><th>emb_24</th><th>emb_25</th><th>emb_26</th><th>emb_27</th><th>emb_28</th><th>emb_29</th><th>emb_30</th><th>emb_31</th><th>emb_32</th><th>emb_33</th><th>emb_34</th><th>emb_35</th><th>emb_36</th><th>emb_37</th><th>emb_38</th><th>emb_39</th><th>emb_40</th><th>emb_41</th><th>emb_42</th><th>emb_43</th><th>emb_44</th><th>emb_45</th><th>emb_46</th><th>emb_47</th><th>emb_48</th><th>emb_49</th><th>emb_50</th><th>emb_51</th><th>emb_52</th><th>emb_53</th><th>emb_54</th><th>emb_55</th><th>emb_56</th><th>emb_57</th><th>emb_58</th><th>emb_59</th><th>emb_60</th><th>emb_61</th><th>emb_62</th><th>emb_63</th><th>category_mode</th><th>location_mode</th></tr><tr><td>u32</td><td>f64</td><td>f64</td><td>f64</td><td>f64</td><td>f64</td><td>f64</td><td>f64</td><td>f64</td><td>f64</td><td>f64</td><td>f64</td><td>f64</td><td>f64</td><td>f64</td><td>f64</td><td>f64</td><td>f64</td><td>f64</td><td>f64</td><td>f64</td><td>f64</td><td>f64</td><td>f64</td><td>f64</td><td>f64</td><td>f64</td><td>f64</td><td>f64</td><td>f64</td><td>f64</td><td>f64</td><td>f64</td><td>f64</td><td>f64</td><td>f64</td><td>f64</td><td>f64</td><td>f64</td><td>f64</td><td>f64</td><td>f64</td><td>f64</td><td>f64</td><td>f64</td><td>f64</td><td>f64</td><td>f64</td><td>f64</td><td>f64</td><td>f64</td><td>f64</td><td>f64</td><td>f64</td><td>f64</td><td>f64</td><td>f64</td><td>f64</td><td>f64</td><td>f64</td><td>f64</td><td>f64</td><td>f64</td><td>f64</td><td>f64</td><td>list[i64]</td><td>list[i64]</td></tr></thead><tbody><tr><td>101749</td><td>-128.0</td><td>127.0</td><td>127.0</td><td>-2.0</td><td>21.0</td><td>-78.0</td><td>-128.0</td><td>127.0</td><td>127.0</td><td>37.0</td><td>-56.0</td><td>31.0</td><td>-84.0</td><td>-128.0</td><td>127.0</td><td>-128.0</td><td>32.0</td><td>30.0</td><td>-100.0</td><td>127.0</td><td>-84.0</td><td>37.0</td><td>-128.0</td><td>127.0</td><td>-4.0</td><td>-128.0</td><td>-85.0</td><td>-33.0</td><td>127.0</td><td>-62.0</td><td>40.0</td><td>-115.0</td><td>49.0</td><td>60.0</td><td>-58.0</td><td>-66.0</td><td>127.0</td><td>127.0</td><td>-113.0</td><td>127.0</td><td>31.0</td><td>-127.0</td><td>115.0</td><td>-116.0</td><td>-30.0</td><td>14.0</td><td>-128.0</td><td>54.0</td><td>53.0</td><td>-128.0</td><td>-69.0</td><td>61.0</td><td>127.0</td><td>-22.0</td><td>39.0</td><td>-94.0</td><td>7.0</td><td>-71.0</td><td>-5.0</td><td>51.0</td><td>72.0</td><td>111.0</td><td>-7.0</td><td>86.0</td><td>[49]</td><td>[8383]</td></tr><tr><td>315783</td><td>-128.0</td><td>119.925926</td><td>35.592593</td><td>-55.148148</td><td>-56.740741</td><td>-78.592593</td><td>-14.148148</td><td>97.148148</td><td>28.444444</td><td>-9.407407</td><td>36.185185</td><td>64.666667</td><td>-36.555556</td><td>-105.444444</td><td>27.925926</td><td>27.777778</td><td>-14.0</td><td>-128.0</td><td>115.148148</td><td>-87.666667</td><td>-112.185185</td><td>-62.666667</td><td>32.185185</td><td>125.62963</td><td>50.62963</td><td>-29.259259</td><td>-109.740741</td><td>-77.703704</td><td>77.518519</td><td>-15.518519</td><td>56.518519</td><td>-58.444444</td><td>54.777778</td><td>24.222222</td><td>-82.111111</td><td>-29.0</td><td>48.037037</td><td>70.962963</td><td>-128.0</td><td>107.111111</td><td>-2.296296</td><td>3.62963</td><td>3.555556</td><td>-94.555556</td><td>4.666667</td><td>76.925926</td><td>-100.481481</td><td>-85.333333</td><td>108.222222</td><td>-19.481481</td><td>-24.592593</td><td>-60.851852</td><td>99.62963</td><td>-53.777778</td><td>99.037037</td><td>-122.814815</td><td>79.666667</td><td>-54.703704</td><td>-90.555556</td><td>45.407407</td><td>46.185185</td><td>125.296296</td><td>-66.185185</td><td>41.074074</td><td>[35]</td><td>[2348]</td></tr><tr><td>214466</td><td>-126.837887</td><td>-58.27616</td><td>126.884021</td><td>-116.605412</td><td>18.674613</td><td>-91.68299</td><td>-37.285052</td><td>23.595747</td><td>104.764046</td><td>-88.464948</td><td>59.396392</td><td>49.606572</td><td>30.542526</td><td>-113.031572</td><td>64.836727</td><td>93.651675</td><td>14.285438</td><td>-124.66134</td><td>111.231057</td><td>-85.07951</td><td>-54.95232</td><td>-48.094845</td><td>11.893041</td><td>74.899227</td><td>84.955799</td><td>-9.296134</td><td>-123.89317</td><td>-15.53518</td><td>118.303608</td><td>-23.849485</td><td>-12.150515</td><td>70.765077</td><td>30.089304</td><td>-34.042139</td><td>-26.023196</td><td>-85.36933</td><td>96.678866</td><td>-27.256701</td><td>-86.269072</td><td>-5.795361</td><td>98.327835</td><td>12.793814</td><td>58.740593</td><td>0.753737</td><td>86.774098</td><td>101.486856</td><td>-99.162758</td><td>-46.301933</td><td>46.786082</td><td>22.263144</td><td>46.855284</td><td>10.631959</td><td>97.306057</td><td>-49.483634</td><td>43.561727</td><td>-78.965722</td><td>82.018814</td><td>-6.217655</td><td>-75.959923</td><td>15.698969</td><td>105.158892</td><td>69.468428</td><td>48.231572</td><td>51.922938</td><td>[37]</td><td>[2269]</td></tr><tr><td>119967</td><td>-127.522936</td><td>89.422018</td><td>124.454128</td><td>64.266055</td><td>77.426606</td><td>-107.788991</td><td>88.09633</td><td>42.747706</td><td>54.798165</td><td>-31.853211</td><td>43.275229</td><td>-0.701835</td><td>7.045872</td><td>-121.09633</td><td>64.536697</td><td>-112.651376</td><td>57.986239</td><td>-114.545872</td><td>51.922018</td><td>-85.944954</td><td>-25.761468</td><td>6.821101</td><td>48.344037</td><td>124.711009</td><td>102.463303</td><td>5.082569</td><td>-117.761468</td><td>-4.321101</td><td>34.252294</td><td>13.09633</td><td>12.633028</td><td>-60.408257</td><td>-35.724771</td><td>-6.701835</td><td>-49.940367</td><td>25.550459</td><td>34.440367</td><td>88.582569</td><td>-120.5</td><td>51.885321</td><td>-4.889908</td><td>79.068807</td><td>112.729358</td><td>-28.261468</td><td>3.37156</td><td>91.761468</td><td>-49.738532</td><td>20.834862</td><td>45.422018</td><td>-101.06422</td><td>4.165138</td><td>42.431193</td><td>98.366972</td><td>-30.775229</td><td>88.747706</td><td>-107.477064</td><td>8.889908</td><td>-107.316514</td><td>-11.977064</td><td>-23.197248</td><td>118.440367</td><td>84.940367</td><td>-11.972477</td><td>36.669725</td><td>[19]</td><td>[2348]</td></tr><tr><td>159038</td><td>-17.461538</td><td>-118.076923</td><td>124.846154</td><td>126.0</td><td>-15.846154</td><td>-106.692308</td><td>-28.307692</td><td>37.076923</td><td>-39.769231</td><td>11.076923</td><td>39.230769</td><td>114.769231</td><td>-34.076923</td><td>-85.538462</td><td>120.923077</td><td>-122.230769</td><td>-97.230769</td><td>-75.384615</td><td>101.230769</td><td>-114.923077</td><td>-127.076923</td><td>3.538462</td><td>68.153846</td><td>101.384615</td><td>-31.230769</td><td>40.0</td><td>-128.0</td><td>-9.692308</td><td>113.615385</td><td>-116.230769</td><td>-92.923077</td><td>-86.846154</td><td>54.846154</td><td>-97.153846</td><td>-82.307692</td><td>115.153846</td><td>-114.923077</td><td>-34.538462</td><td>-84.692308</td><td>47.923077</td><td>-91.230769</td><td>-36.846154</td><td>59.846154</td><td>-80.230769</td><td>61.076923</td><td>-26.846154</td><td>-21.384615</td><td>-106.923077</td><td>-1.153846</td><td>-19.153846</td><td>14.923077</td><td>4.307692</td><td>89.384615</td><td>-9.0</td><td>82.384615</td><td>-115.692308</td><td>61.692308</td><td>-30.923077</td><td>-112.538462</td><td>-12.384615</td><td>120.615385</td><td>105.846154</td><td>67.538462</td><td>-8.692308</td><td>[43]</td><td>[4972, 5865, … 4842]</td></tr><tr><td>&hellip;</td><td>&hellip;</td><td>&hellip;</td><td>&hellip;</td><td>&hellip;</td><td>&hellip;</td><td>&hellip;</td><td>&hellip;</td><td>&hellip;</td><td>&hellip;</td><td>&hellip;</td><td>&hellip;</td><td>&hellip;</td><td>&hellip;</td><td>&hellip;</td><td>&hellip;</td><td>&hellip;</td><td>&hellip;</td><td>&hellip;</td><td>&hellip;</td><td>&hellip;</td><td>&hellip;</td><td>&hellip;</td><td>&hellip;</td><td>&hellip;</td><td>&hellip;</td><td>&hellip;</td><td>&hellip;</td><td>&hellip;</td><td>&hellip;</td><td>&hellip;</td><td>&hellip;</td><td>&hellip;</td><td>&hellip;</td><td>&hellip;</td><td>&hellip;</td><td>&hellip;</td><td>&hellip;</td><td>&hellip;</td><td>&hellip;</td><td>&hellip;</td><td>&hellip;</td><td>&hellip;</td><td>&hellip;</td><td>&hellip;</td><td>&hellip;</td><td>&hellip;</td><td>&hellip;</td><td>&hellip;</td><td>&hellip;</td><td>&hellip;</td><td>&hellip;</td><td>&hellip;</td><td>&hellip;</td><td>&hellip;</td><td>&hellip;</td><td>&hellip;</td><td>&hellip;</td><td>&hellip;</td><td>&hellip;</td><td>&hellip;</td><td>&hellip;</td><td>&hellip;</td><td>&hellip;</td><td>&hellip;</td><td>&hellip;</td><td>&hellip;</td></tr><tr><td>166710</td><td>-128.0</td><td>127.0</td><td>-31.0</td><td>-128.0</td><td>1.0</td><td>78.0</td><td>127.0</td><td>80.0</td><td>-2.0</td><td>127.0</td><td>77.0</td><td>-107.0</td><td>18.0</td><td>-128.0</td><td>127.0</td><td>0.0</td><td>127.0</td><td>30.0</td><td>100.0</td><td>109.0</td><td>-128.0</td><td>-46.0</td><td>-117.0</td><td>127.0</td><td>24.0</td><td>-115.0</td><td>-33.0</td><td>-105.0</td><td>127.0</td><td>-82.0</td><td>-83.0</td><td>-83.0</td><td>127.0</td><td>-52.0</td><td>-55.0</td><td>58.0</td><td>32.0</td><td>127.0</td><td>-108.0</td><td>106.0</td><td>62.0</td><td>71.0</td><td>46.0</td><td>15.0</td><td>92.0</td><td>87.0</td><td>-128.0</td><td>109.0</td><td>62.0</td><td>-102.0</td><td>30.0</td><td>-49.0</td><td>72.0</td><td>-65.0</td><td>127.0</td><td>-79.0</td><td>69.0</td><td>-44.0</td><td>46.0</td><td>77.0</td><td>117.0</td><td>127.0</td><td>88.0</td><td>-53.0</td><td>[59]</td><td>[1174]</td></tr><tr><td>388741</td><td>-128.0</td><td>-128.0</td><td>127.0</td><td>-20.0</td><td>-126.0</td><td>-128.0</td><td>127.0</td><td>127.0</td><td>-95.0</td><td>-128.0</td><td>127.0</td><td>127.0</td><td>92.0</td><td>-47.0</td><td>34.0</td><td>35.0</td><td>46.0</td><td>-19.0</td><td>-73.0</td><td>29.0</td><td>-57.0</td><td>-18.0</td><td>27.0</td><td>-58.0</td><td>-128.0</td><td>8.0</td><td>-128.0</td><td>-128.0</td><td>12.0</td><td>-128.0</td><td>-20.0</td><td>55.0</td><td>120.0</td><td>79.0</td><td>-126.0</td><td>42.0</td><td>23.0</td><td>90.0</td><td>-128.0</td><td>81.0</td><td>127.0</td><td>-8.0</td><td>17.0</td><td>50.0</td><td>66.0</td><td>-26.0</td><td>-128.0</td><td>-48.0</td><td>-5.0</td><td>-97.0</td><td>46.0</td><td>9.0</td><td>107.0</td><td>-117.0</td><td>65.0</td><td>-115.0</td><td>118.0</td><td>-58.0</td><td>-1.0</td><td>-21.0</td><td>116.0</td><td>127.0</td><td>29.0</td><td>-52.0</td><td>[51]</td><td>[1310]</td></tr><tr><td>409457</td><td>-6.0</td><td>-128.0</td><td>127.0</td><td>-128.0</td><td>-25.0</td><td>-80.0</td><td>-37.0</td><td>127.0</td><td>127.0</td><td>-128.0</td><td>70.0</td><td>127.0</td><td>76.0</td><td>-73.0</td><td>-114.0</td><td>67.0</td><td>127.0</td><td>-62.0</td><td>20.0</td><td>-128.0</td><td>-14.0</td><td>-128.0</td><td>-125.0</td><td>127.0</td><td>127.0</td><td>-120.0</td><td>-85.0</td><td>-5.0</td><td>127.0</td><td>-128.0</td><td>46.0</td><td>-10.0</td><td>102.0</td><td>-128.0</td><td>0.0</td><td>-85.0</td><td>-65.0</td><td>127.0</td><td>-54.0</td><td>-6.0</td><td>43.0</td><td>-55.0</td><td>106.0</td><td>25.0</td><td>43.0</td><td>104.0</td><td>-128.0</td><td>-40.0</td><td>-42.0</td><td>-40.0</td><td>58.0</td><td>-128.0</td><td>106.0</td><td>-92.0</td><td>127.0</td><td>-103.0</td><td>108.0</td><td>-128.0</td><td>-127.0</td><td>-128.0</td><td>118.0</td><td>127.0</td><td>-118.0</td><td>22.0</td><td>[51]</td><td>[2348]</td></tr><tr><td>261471</td><td>-128.0</td><td>-59.2</td><td>120.4</td><td>91.0</td><td>-42.6</td><td>-128.0</td><td>99.2</td><td>119.4</td><td>-37.4</td><td>-41.4</td><td>9.2</td><td>37.2</td><td>6.8</td><td>-4.0</td><td>-69.2</td><td>79.0</td><td>-57.0</td><td>-80.2</td><td>111.8</td><td>-25.4</td><td>-100.8</td><td>-30.0</td><td>16.8</td><td>127.0</td><td>40.6</td><td>18.4</td><td>-79.0</td><td>26.0</td><td>10.4</td><td>20.8</td><td>-33.2</td><td>-103.6</td><td>127.0</td><td>-35.0</td><td>-33.2</td><td>93.0</td><td>4.8</td><td>85.6</td><td>-39.4</td><td>-108.0</td><td>71.6</td><td>-54.4</td><td>50.0</td><td>-62.8</td><td>62.8</td><td>84.6</td><td>-60.0</td><td>-11.8</td><td>-14.8</td><td>7.2</td><td>-43.2</td><td>50.2</td><td>16.8</td><td>-32.6</td><td>46.4</td><td>-116.6</td><td>33.4</td><td>-63.4</td><td>-52.0</td><td>82.2</td><td>108.8</td><td>120.4</td><td>28.6</td><td>-22.8</td><td>[35]</td><td>[2348]</td></tr><tr><td>191067</td><td>-128.0</td><td>127.0</td><td>127.0</td><td>113.0</td><td>-22.0</td><td>127.0</td><td>127.0</td><td>103.0</td><td>-17.0</td><td>127.0</td><td>36.0</td><td>84.0</td><td>127.0</td><td>-128.0</td><td>127.0</td><td>68.0</td><td>86.0</td><td>-45.0</td><td>127.0</td><td>-128.0</td><td>-128.0</td><td>86.0</td><td>42.0</td><td>127.0</td><td>30.0</td><td>28.0</td><td>-56.0</td><td>-128.0</td><td>97.0</td><td>41.0</td><td>-117.0</td><td>-41.0</td><td>127.0</td><td>-41.0</td><td>-70.0</td><td>112.0</td><td>99.0</td><td>127.0</td><td>-99.0</td><td>14.0</td><td>84.0</td><td>-33.0</td><td>-110.0</td><td>-110.0</td><td>29.0</td><td>127.0</td><td>-128.0</td><td>127.0</td><td>42.0</td><td>-35.0</td><td>81.0</td><td>-49.0</td><td>127.0</td><td>-90.0</td><td>51.0</td><td>-112.0</td><td>99.0</td><td>-108.0</td><td>-42.0</td><td>-51.0</td><td>99.0</td><td>127.0</td><td>5.0</td><td>8.0</td><td>[53]</td><td>[5604]</td></tr></tbody></table></div>"
      ],
      "text/plain": [
       "shape: (408_474, 67)\n",
       "┌────────┬────────────┬────────────┬───────────┬───┬───────────┬───────────┬───────────┬───────────┐\n",
       "│ node   ┆ emb_0      ┆ emb_1      ┆ emb_2     ┆ … ┆ emb_62    ┆ emb_63    ┆ category_ ┆ location_ │\n",
       "│ ---    ┆ ---        ┆ ---        ┆ ---       ┆   ┆ ---       ┆ ---       ┆ mode      ┆ mode      │\n",
       "│ u32    ┆ f64        ┆ f64        ┆ f64       ┆   ┆ f64       ┆ f64       ┆ ---       ┆ ---       │\n",
       "│        ┆            ┆            ┆           ┆   ┆           ┆           ┆ list[i64] ┆ list[i64] │\n",
       "╞════════╪════════════╪════════════╪═══════════╪═══╪═══════════╪═══════════╪═══════════╪═══════════╡\n",
       "│ 101749 ┆ -128.0     ┆ 127.0      ┆ 127.0     ┆ … ┆ -7.0      ┆ 86.0      ┆ [49]      ┆ [8383]    │\n",
       "│ 315783 ┆ -128.0     ┆ 119.925926 ┆ 35.592593 ┆ … ┆ -66.18518 ┆ 41.074074 ┆ [35]      ┆ [2348]    │\n",
       "│        ┆            ┆            ┆           ┆   ┆ 5         ┆           ┆           ┆           │\n",
       "│ 214466 ┆ -126.83788 ┆ -58.27616  ┆ 126.88402 ┆ … ┆ 48.231572 ┆ 51.922938 ┆ [37]      ┆ [2269]    │\n",
       "│        ┆ 7          ┆            ┆ 1         ┆   ┆           ┆           ┆           ┆           │\n",
       "│ 119967 ┆ -127.52293 ┆ 89.422018  ┆ 124.45412 ┆ … ┆ -11.97247 ┆ 36.669725 ┆ [19]      ┆ [2348]    │\n",
       "│        ┆ 6          ┆            ┆ 8         ┆   ┆ 7         ┆           ┆           ┆           │\n",
       "│ 159038 ┆ -17.461538 ┆ -118.07692 ┆ 124.84615 ┆ … ┆ 67.538462 ┆ -8.692308 ┆ [43]      ┆ [4972,    │\n",
       "│        ┆            ┆ 3          ┆ 4         ┆   ┆           ┆           ┆           ┆ 5865, …   │\n",
       "│        ┆            ┆            ┆           ┆   ┆           ┆           ┆           ┆ 4842]     │\n",
       "│ …      ┆ …          ┆ …          ┆ …         ┆ … ┆ …         ┆ …         ┆ …         ┆ …         │\n",
       "│ 166710 ┆ -128.0     ┆ 127.0      ┆ -31.0     ┆ … ┆ 88.0      ┆ -53.0     ┆ [59]      ┆ [1174]    │\n",
       "│ 388741 ┆ -128.0     ┆ -128.0     ┆ 127.0     ┆ … ┆ 29.0      ┆ -52.0     ┆ [51]      ┆ [1310]    │\n",
       "│ 409457 ┆ -6.0       ┆ -128.0     ┆ 127.0     ┆ … ┆ -118.0    ┆ 22.0      ┆ [51]      ┆ [2348]    │\n",
       "│ 261471 ┆ -128.0     ┆ -59.2      ┆ 120.4     ┆ … ┆ 28.6      ┆ -22.8     ┆ [35]      ┆ [2348]    │\n",
       "│ 191067 ┆ -128.0     ┆ 127.0      ┆ 127.0     ┆ … ┆ 5.0       ┆ 8.0       ┆ [53]      ┆ [5604]    │\n",
       "└────────┴────────────┴────────────┴───────────┴───┴───────────┴───────────┴───────────┴───────────┘"
      ]
     },
     "execution_count": 15,
     "metadata": {},
     "output_type": "execute_result"
    }
   ],
   "source": [
    "df_node"
   ]
  },
  {
   "cell_type": "code",
   "execution_count": 10,
   "id": "986daed3",
   "metadata": {},
   "outputs": [
    {
     "ename": "TypeError",
     "evalue": "specifying aggregations as a dictionary is not supported\n\nTry unpacking the dictionary to take advantage of the keyword syntax of the `agg` method.",
     "output_type": "error",
     "traceback": [
      "\u001b[31m---------------------------------------------------------------------------\u001b[39m",
      "\u001b[31mTypeError\u001b[39m                                 Traceback (most recent call last)",
      "\u001b[36mCell\u001b[39m\u001b[36m \u001b[39m\u001b[32mIn[10]\u001b[39m\u001b[32m, line 1\u001b[39m\n\u001b[32m----> \u001b[39m\u001b[32m1\u001b[39m \u001b[43mtest_means\u001b[49m\u001b[43m.\u001b[49m\u001b[43mgroup_by\u001b[49m\u001b[43m(\u001b[49m\u001b[33;43m\"\u001b[39;49m\u001b[33;43mnode\u001b[39;49m\u001b[33;43m\"\u001b[39;49m\u001b[43m)\u001b[49m\u001b[43m.\u001b[49m\u001b[43magg\u001b[49m\u001b[43m(\u001b[49m\u001b[43m{\u001b[49m\n\u001b[32m      2\u001b[39m \u001b[43m    \u001b[49m\u001b[33;43m\"\u001b[39;49m\u001b[33;43mtitle_projection\u001b[39;49m\u001b[33;43m\"\u001b[39;49m\u001b[43m:\u001b[49m\u001b[43m \u001b[49m\u001b[38;5;28;43;01mlambda\u001b[39;49;00m\u001b[43m \u001b[49m\u001b[43mx\u001b[49m\u001b[43m:\u001b[49m\u001b[43m \u001b[49m\u001b[43mnp\u001b[49m\u001b[43m.\u001b[49m\u001b[43mmean\u001b[49m\u001b[43m(\u001b[49m\u001b[43mnp\u001b[49m\u001b[43m.\u001b[49m\u001b[43mstack\u001b[49m\u001b[43m(\u001b[49m\u001b[43mx\u001b[49m\u001b[43m)\u001b[49m\u001b[43m,\u001b[49m\u001b[43m \u001b[49m\u001b[43maxis\u001b[49m\u001b[43m=\u001b[49m\u001b[32;43m0\u001b[39;49m\u001b[43m)\u001b[49m\u001b[43m,\u001b[49m\n\u001b[32m      3\u001b[39m \u001b[43m    \u001b[49m\u001b[33;43m\"\u001b[39;49m\u001b[33;43mcategory\u001b[39;49m\u001b[33;43m\"\u001b[39;49m\u001b[43m:\u001b[49m\u001b[43m \u001b[49m\u001b[38;5;28;43;01mlambda\u001b[39;49;00m\u001b[43m \u001b[49m\u001b[43mx\u001b[49m\u001b[43m:\u001b[49m\u001b[43m \u001b[49m\u001b[43mx\u001b[49m\u001b[43m.\u001b[49m\u001b[43mmode\u001b[49m\u001b[43m(\u001b[49m\u001b[43m)\u001b[49m\u001b[43m.\u001b[49m\u001b[43miloc\u001b[49m\u001b[43m[\u001b[49m\u001b[32;43m0\u001b[39;49m\u001b[43m]\u001b[49m\u001b[43m \u001b[49m\u001b[38;5;28;43;01mif\u001b[39;49;00m\u001b[43m \u001b[49m\u001b[38;5;129;43;01mnot\u001b[39;49;00m\u001b[43m \u001b[49m\u001b[43mx\u001b[49m\u001b[43m.\u001b[49m\u001b[43mmode\u001b[49m\u001b[43m(\u001b[49m\u001b[43m)\u001b[49m\u001b[43m.\u001b[49m\u001b[43mempty\u001b[49m\u001b[43m \u001b[49m\u001b[38;5;28;43;01melse\u001b[39;49;00m\u001b[43m \u001b[49m\u001b[43m-\u001b[49m\u001b[32;43m1\u001b[39;49m\u001b[43m,\u001b[49m\n\u001b[32m      4\u001b[39m \u001b[43m    \u001b[49m\u001b[33;43m\"\u001b[39;49m\u001b[33;43mlocation\u001b[39;49m\u001b[33;43m\"\u001b[39;49m\u001b[43m:\u001b[49m\u001b[43m \u001b[49m\u001b[38;5;28;43;01mlambda\u001b[39;49;00m\u001b[43m \u001b[49m\u001b[43mx\u001b[49m\u001b[43m:\u001b[49m\u001b[43m \u001b[49m\u001b[43mx\u001b[49m\u001b[43m.\u001b[49m\u001b[43mmode\u001b[49m\u001b[43m(\u001b[49m\u001b[43m)\u001b[49m\u001b[43m.\u001b[49m\u001b[43miloc\u001b[49m\u001b[43m[\u001b[49m\u001b[32;43m0\u001b[39;49m\u001b[43m]\u001b[49m\u001b[43m \u001b[49m\u001b[38;5;28;43;01mif\u001b[39;49;00m\u001b[43m \u001b[49m\u001b[38;5;129;43;01mnot\u001b[39;49;00m\u001b[43m \u001b[49m\u001b[43mx\u001b[49m\u001b[43m.\u001b[49m\u001b[43mmode\u001b[49m\u001b[43m(\u001b[49m\u001b[43m)\u001b[49m\u001b[43m.\u001b[49m\u001b[43mempty\u001b[49m\u001b[43m \u001b[49m\u001b[38;5;28;43;01melse\u001b[39;49;00m\u001b[43m \u001b[49m\u001b[43m-\u001b[49m\u001b[32;43m1\u001b[39;49m\u001b[43m,\u001b[49m\n\u001b[32m      5\u001b[39m \u001b[43m}\u001b[49m\u001b[43m)\u001b[49m\n",
      "\u001b[36mFile \u001b[39m\u001b[32m~/avito_cup_ml_2025/.venv/lib/python3.11/site-packages/polars/dataframe/group_by.py:229\u001b[39m, in \u001b[36mGroupBy.agg\u001b[39m\u001b[34m(self, *aggs, **named_aggs)\u001b[39m\n\u001b[32m    123\u001b[39m \u001b[38;5;28;01mdef\u001b[39;00m\u001b[38;5;250m \u001b[39m\u001b[34magg\u001b[39m(\n\u001b[32m    124\u001b[39m     \u001b[38;5;28mself\u001b[39m,\n\u001b[32m    125\u001b[39m     *aggs: IntoExpr | Iterable[IntoExpr],\n\u001b[32m    126\u001b[39m     **named_aggs: IntoExpr,\n\u001b[32m    127\u001b[39m ) -> DataFrame:\n\u001b[32m    128\u001b[39m \u001b[38;5;250m    \u001b[39m\u001b[33;03m\"\"\"\u001b[39;00m\n\u001b[32m    129\u001b[39m \u001b[33;03m    Compute aggregations for each group of a group by operation.\u001b[39;00m\n\u001b[32m    130\u001b[39m \n\u001b[32m   (...)\u001b[39m\u001b[32m    226\u001b[39m \u001b[33;03m    └─────┴───────┴────────────────┘\u001b[39;00m\n\u001b[32m    227\u001b[39m \u001b[33;03m    \"\"\"\u001b[39;00m\n\u001b[32m    228\u001b[39m     \u001b[38;5;28;01mreturn\u001b[39;00m (\n\u001b[32m--> \u001b[39m\u001b[32m229\u001b[39m         \u001b[38;5;28;43mself\u001b[39;49m\u001b[43m.\u001b[49m\u001b[43mdf\u001b[49m\u001b[43m.\u001b[49m\u001b[43mlazy\u001b[49m\u001b[43m(\u001b[49m\u001b[43m)\u001b[49m\n\u001b[32m    230\u001b[39m \u001b[43m        \u001b[49m\u001b[43m.\u001b[49m\u001b[43mgroup_by\u001b[49m\u001b[43m(\u001b[49m\u001b[43m*\u001b[49m\u001b[38;5;28;43mself\u001b[39;49m\u001b[43m.\u001b[49m\u001b[43mby\u001b[49m\u001b[43m,\u001b[49m\u001b[43m \u001b[49m\u001b[43m*\u001b[49m\u001b[43m*\u001b[49m\u001b[38;5;28;43mself\u001b[39;49m\u001b[43m.\u001b[49m\u001b[43mnamed_by\u001b[49m\u001b[43m,\u001b[49m\u001b[43m \u001b[49m\u001b[43mmaintain_order\u001b[49m\u001b[43m=\u001b[49m\u001b[38;5;28;43mself\u001b[39;49m\u001b[43m.\u001b[49m\u001b[43mmaintain_order\u001b[49m\u001b[43m)\u001b[49m\n\u001b[32m    231\u001b[39m \u001b[43m        \u001b[49m\u001b[43m.\u001b[49m\u001b[43magg\u001b[49m\u001b[43m(\u001b[49m\u001b[43m*\u001b[49m\u001b[43maggs\u001b[49m\u001b[43m,\u001b[49m\u001b[43m \u001b[49m\u001b[43m*\u001b[49m\u001b[43m*\u001b[49m\u001b[43mnamed_aggs\u001b[49m\u001b[43m)\u001b[49m\n\u001b[32m    232\u001b[39m         .collect(no_optimization=\u001b[38;5;28;01mTrue\u001b[39;00m)\n\u001b[32m    233\u001b[39m     )\n",
      "\u001b[36mFile \u001b[39m\u001b[32m~/avito_cup_ml_2025/.venv/lib/python3.11/site-packages/polars/lazyframe/group_by.py:145\u001b[39m, in \u001b[36mLazyGroupBy.agg\u001b[39m\u001b[34m(self, *aggs, **named_aggs)\u001b[39m\n\u001b[32m    139\u001b[39m \u001b[38;5;28;01mif\u001b[39;00m aggs \u001b[38;5;129;01mand\u001b[39;00m \u001b[38;5;28misinstance\u001b[39m(aggs[\u001b[32m0\u001b[39m], \u001b[38;5;28mdict\u001b[39m):\n\u001b[32m    140\u001b[39m     msg = (\n\u001b[32m    141\u001b[39m         \u001b[33m\"\u001b[39m\u001b[33mspecifying aggregations as a dictionary is not supported\u001b[39m\u001b[33m\"\u001b[39m\n\u001b[32m    142\u001b[39m         \u001b[33m\"\u001b[39m\u001b[38;5;130;01m\\n\u001b[39;00m\u001b[38;5;130;01m\\n\u001b[39;00m\u001b[33mTry unpacking the dictionary to take advantage of the keyword syntax\u001b[39m\u001b[33m\"\u001b[39m\n\u001b[32m    143\u001b[39m         \u001b[33m\"\u001b[39m\u001b[33m of the `agg` method.\u001b[39m\u001b[33m\"\u001b[39m\n\u001b[32m    144\u001b[39m     )\n\u001b[32m--> \u001b[39m\u001b[32m145\u001b[39m     \u001b[38;5;28;01mraise\u001b[39;00m \u001b[38;5;167;01mTypeError\u001b[39;00m(msg)\n\u001b[32m    147\u001b[39m pyexprs = parse_into_list_of_expressions(*aggs, **named_aggs)\n\u001b[32m    148\u001b[39m \u001b[38;5;28;01mreturn\u001b[39;00m wrap_ldf(\u001b[38;5;28mself\u001b[39m.lgb.agg(pyexprs))\n",
      "\u001b[31mTypeError\u001b[39m: specifying aggregations as a dictionary is not supported\n\nTry unpacking the dictionary to take advantage of the keyword syntax of the `agg` method."
     ]
    }
   ],
   "source": [
    "test_means.group_by(\"node\").agg({\n",
    "    \"title_projection\": lambda x: np.mean(np.stack(x), axis=0),\n",
    "    \"category\": lambda x: x.mode().iloc[0] if not x.mode().empty else -1,\n",
    "    \"location\": lambda x: x.mode().iloc[0] if not x.mode().empty else -1,\n",
    "})"
   ]
  }
 ],
 "metadata": {
  "kernelspec": {
   "display_name": ".venv",
   "language": "python",
   "name": "python3"
  },
  "language_info": {
   "codemirror_mode": {
    "name": "ipython",
    "version": 3
   },
   "file_extension": ".py",
   "mimetype": "text/x-python",
   "name": "python",
   "nbconvert_exporter": "python",
   "pygments_lexer": "ipython3",
   "version": "3.11.7"
  }
 },
 "nbformat": 4,
 "nbformat_minor": 5
}
