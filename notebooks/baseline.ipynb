{
 "cells": [
  {
   "cell_type": "markdown",
   "id": "bb667370",
   "metadata": {},
   "source": [
    "ALS + GB\n",
    "Подобрать другие retrivials"
   ]
  },
  {
   "cell_type": "code",
   "execution_count": 1,
   "id": "ced3b545",
   "metadata": {},
   "outputs": [
    {
     "data": {
      "application/javascript": "IPython.notebook.set_autosave_interval(60000)"
     },
     "metadata": {},
     "output_type": "display_data"
    },
    {
     "name": "stdout",
     "output_type": "stream",
     "text": [
      "Autosaving every 60 seconds\n"
     ]
    }
   ],
   "source": [
    "%autosave 60\n",
    "%reload_ext autoreload\n",
    "%autoreload 2\n",
    "\n",
    "import sys\n",
    "\n",
    "sys.path.insert(0, \"..\")  # noqa: E702"
   ]
  },
  {
   "cell_type": "code",
   "execution_count": 2,
   "id": "968271ac",
   "metadata": {},
   "outputs": [
    {
     "data": {
      "text/plain": [
       "1"
      ]
     },
     "execution_count": 2,
     "metadata": {},
     "output_type": "execute_result"
    }
   ],
   "source": [
    "from catboost.utils import get_gpu_device_count\n",
    "\n",
    "get_gpu_device_count()"
   ]
  },
  {
   "cell_type": "code",
   "execution_count": 3,
   "id": "f4860451",
   "metadata": {},
   "outputs": [
    {
     "name": "stderr",
     "output_type": "stream",
     "text": [
      "/home/laptopml/avito_cup_ml_2025/.venv/lib/python3.11/site-packages/tqdm/auto.py:21: TqdmWarning: IProgress not found. Please update jupyter and ipywidgets. See https://ipywidgets.readthedocs.io/en/stable/user_install.html\n",
      "  from .autonotebook import tqdm as notebook_tqdm\n"
     ]
    }
   ],
   "source": [
    "import implicit.gpu\n",
    "import polars as pl\n",
    "import numpy as np\n",
    "import implicit\n",
    "from scipy.sparse import csr_matrix\n",
    "from pathlib import Path\n",
    "from catboost import CatBoostRanker, Pool\n",
    "from datetime import timedelta\n",
    "\n",
    "\n",
    "implicit.gpu.HAS_CUDA\n",
    "from tools.retrievers import PopularItemsRetriever, CFRetriever"
   ]
  },
  {
   "cell_type": "code",
   "execution_count": 4,
   "id": "8bb75a70",
   "metadata": {},
   "outputs": [],
   "source": [
    "from pathlib import Path\n",
    "\n",
    "DATA_DIR = Path.cwd().parent / \"data\" / \"avito_ml_cup\"\n",
    "# Разделение на три части: тренировочную, валидационную и тестовую\n",
    "VALID_DAYS_RETRIEVER = 7\n",
    "VALID_DAYS_RERANKER = 7"
   ]
  },
  {
   "cell_type": "code",
   "execution_count": 5,
   "id": "83e5295a",
   "metadata": {},
   "outputs": [],
   "source": [
    "df_test_users = pl.read_parquet(f\"{DATA_DIR}/test_users.pq\")\n",
    "df_clickstream = pl.read_parquet(f\"{DATA_DIR}/clickstream.pq\")\n",
    "\n",
    "df_cat_features = pl.read_parquet(f\"{DATA_DIR}/cat_features.pq\")\n",
    "df_text_features = pl.read_parquet(f\"{DATA_DIR}/text_features.pq\")\n",
    "df_event = pl.read_parquet(f\"{DATA_DIR}/events.pq\")"
   ]
  },
  {
   "cell_type": "code",
   "execution_count": 6,
   "id": "03ce68da",
   "metadata": {},
   "outputs": [
    {
     "data": {
      "text/html": [
       "<div><style>\n",
       ".dataframe > thead > tr,\n",
       ".dataframe > tbody > tr {\n",
       "  text-align: right;\n",
       "  white-space: pre-wrap;\n",
       "}\n",
       "</style>\n",
       "<small>shape: (68_806_152, 7)</small><table border=\"1\" class=\"dataframe\"><thead><tr><th>cookie</th><th>item</th><th>event</th><th>event_date</th><th>platform</th><th>surface</th><th>node</th></tr><tr><td>i64</td><td>i64</td><td>i64</td><td>datetime[ns]</td><td>i64</td><td>i64</td><td>u32</td></tr></thead><tbody><tr><td>0</td><td>19915558</td><td>17</td><td>2025-02-05 02:30:59</td><td>3</td><td>2</td><td>115659</td></tr><tr><td>0</td><td>2680232</td><td>17</td><td>2025-01-24 21:16:57</td><td>3</td><td>2</td><td>115829</td></tr><tr><td>1</td><td>4247649</td><td>17</td><td>2025-01-29 23:00:58</td><td>2</td><td>2</td><td>7</td></tr><tr><td>1</td><td>4247649</td><td>17</td><td>2025-02-17 14:55:17</td><td>2</td><td>2</td><td>7</td></tr><tr><td>1</td><td>2171135</td><td>17</td><td>2025-01-17 19:23:29</td><td>2</td><td>2</td><td>214458</td></tr><tr><td>&hellip;</td><td>&hellip;</td><td>&hellip;</td><td>&hellip;</td><td>&hellip;</td><td>&hellip;</td><td>&hellip;</td></tr><tr><td>149999</td><td>4999183</td><td>17</td><td>2025-01-20 12:23:47</td><td>2</td><td>2</td><td>71511</td></tr><tr><td>149999</td><td>25999164</td><td>17</td><td>2025-01-24 14:26:57</td><td>2</td><td>2</td><td>71514</td></tr><tr><td>149999</td><td>12138732</td><td>17</td><td>2025-02-12 13:11:42</td><td>2</td><td>2</td><td>51162</td></tr><tr><td>149999</td><td>28207042</td><td>17</td><td>2025-02-16 12:35:35</td><td>2</td><td>2</td><td>71511</td></tr><tr><td>149999</td><td>16282539</td><td>17</td><td>2025-02-10 13:07:17</td><td>2</td><td>2</td><td>71524</td></tr></tbody></table></div>"
      ],
      "text/plain": [
       "shape: (68_806_152, 7)\n",
       "┌────────┬──────────┬───────┬─────────────────────┬──────────┬─────────┬────────┐\n",
       "│ cookie ┆ item     ┆ event ┆ event_date          ┆ platform ┆ surface ┆ node   │\n",
       "│ ---    ┆ ---      ┆ ---   ┆ ---                 ┆ ---      ┆ ---     ┆ ---    │\n",
       "│ i64    ┆ i64      ┆ i64   ┆ datetime[ns]        ┆ i64      ┆ i64     ┆ u32    │\n",
       "╞════════╪══════════╪═══════╪═════════════════════╪══════════╪═════════╪════════╡\n",
       "│ 0      ┆ 19915558 ┆ 17    ┆ 2025-02-05 02:30:59 ┆ 3        ┆ 2       ┆ 115659 │\n",
       "│ 0      ┆ 2680232  ┆ 17    ┆ 2025-01-24 21:16:57 ┆ 3        ┆ 2       ┆ 115829 │\n",
       "│ 1      ┆ 4247649  ┆ 17    ┆ 2025-01-29 23:00:58 ┆ 2        ┆ 2       ┆ 7      │\n",
       "│ 1      ┆ 4247649  ┆ 17    ┆ 2025-02-17 14:55:17 ┆ 2        ┆ 2       ┆ 7      │\n",
       "│ 1      ┆ 2171135  ┆ 17    ┆ 2025-01-17 19:23:29 ┆ 2        ┆ 2       ┆ 214458 │\n",
       "│ …      ┆ …        ┆ …     ┆ …                   ┆ …        ┆ …       ┆ …      │\n",
       "│ 149999 ┆ 4999183  ┆ 17    ┆ 2025-01-20 12:23:47 ┆ 2        ┆ 2       ┆ 71511  │\n",
       "│ 149999 ┆ 25999164 ┆ 17    ┆ 2025-01-24 14:26:57 ┆ 2        ┆ 2       ┆ 71514  │\n",
       "│ 149999 ┆ 12138732 ┆ 17    ┆ 2025-02-12 13:11:42 ┆ 2        ┆ 2       ┆ 51162  │\n",
       "│ 149999 ┆ 28207042 ┆ 17    ┆ 2025-02-16 12:35:35 ┆ 2        ┆ 2       ┆ 71511  │\n",
       "│ 149999 ┆ 16282539 ┆ 17    ┆ 2025-02-10 13:07:17 ┆ 2        ┆ 2       ┆ 71524  │\n",
       "└────────┴──────────┴───────┴─────────────────────┴──────────┴─────────┴────────┘"
      ]
     },
     "execution_count": 6,
     "metadata": {},
     "output_type": "execute_result"
    }
   ],
   "source": [
    "df_clickstream"
   ]
  },
  {
   "cell_type": "code",
   "execution_count": 7,
   "id": "319ef528",
   "metadata": {},
   "outputs": [
    {
     "data": {
      "text/plain": [
       "datetime.timedelta(days=44)"
      ]
     },
     "execution_count": 7,
     "metadata": {},
     "output_type": "execute_result"
    }
   ],
   "source": [
    "df_clickstream[\"event_date\"].max() - df_clickstream[\"event_date\"].min()"
   ]
  },
  {
   "cell_type": "code",
   "execution_count": 8,
   "id": "191218bb",
   "metadata": {},
   "outputs": [
    {
     "name": "stderr",
     "output_type": "stream",
     "text": [
      "/tmp/ipykernel_82092/655004105.py:23: DeprecationWarning: `is_in` with a collection of the same datatype is ambiguous and deprecated.\n",
      "Please use `implode` to return to previous behavior.\n",
      "\n",
      "See https://github.com/pola-rs/polars/issues/22149 for more information.\n",
      "  df_eval = df_eval.filter(\n",
      "/tmp/ipykernel_82092/655004105.py:30: DeprecationWarning: `is_in` with a collection of the same datatype is ambiguous and deprecated.\n",
      "Please use `implode` to return to previous behavior.\n",
      "\n",
      "See https://github.com/pola-rs/polars/issues/22149 for more information.\n",
      "  df_eval = df_eval.filter(\n",
      "/tmp/ipykernel_82092/655004105.py:32: DeprecationWarning: `is_in` with a collection of the same datatype is ambiguous and deprecated.\n",
      "Please use `implode` to return to previous behavior.\n",
      "\n",
      "See https://github.com/pola-rs/polars/issues/22149 for more information.\n",
      "  ).filter(pl.col(\"node\").is_in(df_train_data[\"node\"].unique()))\n"
     ]
    }
   ],
   "source": [
    "# Определяем границы для разделения данных\n",
    "max_date = df_clickstream[\"event_date\"].max()\n",
    "retrivial_threshold = max_date - timedelta(days=VALID_DAYS_RETRIEVER + VALID_DAYS_RERANKER)\n",
    "reranker_threshold = max_date - timedelta(days=VALID_DAYS_RERANKER)\n",
    "\n",
    "# Разделяем данные\n",
    "df_train_retrivial = df_clickstream.filter(pl.col(\"event_date\") < retrivial_threshold)\n",
    "df_train_reranker = df_clickstream.filter(\n",
    "    pl.col(\"event_date\").is_between(retrivial_threshold, reranker_threshold)\n",
    ")\n",
    "df_valid = df_clickstream.filter(pl.col(\"event_date\") > reranker_threshold)\n",
    "\n",
    "\n",
    "# Создаем оценочные наборы для валидации и тестирования\n",
    "def prepare_eval_set(df_eval_raw, df_train_data):\n",
    "    # Выбираем только нужные колонки\n",
    "    df_eval = df_eval_raw[[\"cookie\", \"node\", \"event\"]]\n",
    "\n",
    "    # Исключаем пары cookie-node, которые уже встречались в тренировочных данных\n",
    "    df_eval = df_eval.join(df_train_data, on=[\"cookie\", \"node\"], how=\"anti\")\n",
    "\n",
    "    # Оставляем только контактные события\n",
    "    df_eval = df_eval.filter(\n",
    "        pl.col(\"event\").is_in(\n",
    "            df_event.filter(pl.col(\"is_contact\") == 1)[\"event\"].unique()\n",
    "        )\n",
    "    )\n",
    "\n",
    "    # Оставляем только существующие в тренировочных данных cookies и nodes\n",
    "    df_eval = df_eval.filter(\n",
    "        pl.col(\"cookie\").is_in(df_train_data[\"cookie\"].unique())\n",
    "    ).filter(pl.col(\"node\").is_in(df_train_data[\"node\"].unique()))\n",
    "\n",
    "    # Оставляем только уникальные пары cookie-node\n",
    "    df_eval = df_eval.unique([\"cookie\", \"node\"])\n",
    "\n",
    "    return df_eval\n",
    "\n",
    "\n",
    "# Подготавливаем валидационный и тестовый наборы\n",
    "df_valid_eval_retrivial = prepare_eval_set(df_train_reranker, df_train_retrivial)\n",
    "df_valid_eval_reranker = prepare_eval_set(\n",
    "    df_valid, pl.concat([df_train_retrivial, df_train_reranker])\n",
    ")\n",
    "\n",
    "df_train_retrivial = df_train_retrivial.join(df_event, on=\"event\")\n",
    "\n",
    "df_train_reranker = df_train_reranker.join(df_event, on=\"event\")\n",
    "\n",
    "df_valid = df_valid.join(df_event, on=\"event\")"
   ]
  },
  {
   "cell_type": "code",
   "execution_count": 9,
   "id": "f860c835",
   "metadata": {},
   "outputs": [
    {
     "data": {
      "text/html": [
       "<div><style>\n",
       ".dataframe > thead > tr,\n",
       ".dataframe > tbody > tr {\n",
       "  text-align: right;\n",
       "  white-space: pre-wrap;\n",
       "}\n",
       "</style>\n",
       "<small>shape: (74_771, 4)</small><table border=\"1\" class=\"dataframe\"><thead><tr><th>cookie</th><th>node</th><th>event</th><th>is_contact</th></tr><tr><td>i64</td><td>u32</td><td>i64</td><td>i64</td></tr></thead><tbody><tr><td>0</td><td>130589</td><td>19</td><td>1</td></tr><tr><td>2</td><td>152695</td><td>5</td><td>1</td></tr><tr><td>2</td><td>163823</td><td>10</td><td>1</td></tr><tr><td>10</td><td>51162</td><td>10</td><td>1</td></tr><tr><td>22</td><td>1906</td><td>5</td><td>1</td></tr><tr><td>&hellip;</td><td>&hellip;</td><td>&hellip;</td><td>&hellip;</td></tr><tr><td>149975</td><td>238794</td><td>5</td><td>1</td></tr><tr><td>149975</td><td>234860</td><td>10</td><td>1</td></tr><tr><td>149980</td><td>1911</td><td>10</td><td>1</td></tr><tr><td>149997</td><td>258969</td><td>15</td><td>1</td></tr><tr><td>149997</td><td>232040</td><td>15</td><td>1</td></tr></tbody></table></div>"
      ],
      "text/plain": [
       "shape: (74_771, 4)\n",
       "┌────────┬────────┬───────┬────────────┐\n",
       "│ cookie ┆ node   ┆ event ┆ is_contact │\n",
       "│ ---    ┆ ---    ┆ ---   ┆ ---        │\n",
       "│ i64    ┆ u32    ┆ i64   ┆ i64        │\n",
       "╞════════╪════════╪═══════╪════════════╡\n",
       "│ 0      ┆ 130589 ┆ 19    ┆ 1          │\n",
       "│ 2      ┆ 152695 ┆ 5     ┆ 1          │\n",
       "│ 2      ┆ 163823 ┆ 10    ┆ 1          │\n",
       "│ 10     ┆ 51162  ┆ 10    ┆ 1          │\n",
       "│ 22     ┆ 1906   ┆ 5     ┆ 1          │\n",
       "│ …      ┆ …      ┆ …     ┆ …          │\n",
       "│ 149975 ┆ 238794 ┆ 5     ┆ 1          │\n",
       "│ 149975 ┆ 234860 ┆ 10    ┆ 1          │\n",
       "│ 149980 ┆ 1911   ┆ 10    ┆ 1          │\n",
       "│ 149997 ┆ 258969 ┆ 15    ┆ 1          │\n",
       "│ 149997 ┆ 232040 ┆ 15    ┆ 1          │\n",
       "└────────┴────────┴───────┴────────────┘"
      ]
     },
     "execution_count": 9,
     "metadata": {},
     "output_type": "execute_result"
    }
   ],
   "source": [
    "df_valid_eval_reranker.join(df_event, on=\"event\").sort(\"cookie\")"
   ]
  },
  {
   "cell_type": "code",
   "execution_count": 10,
   "id": "492269b2",
   "metadata": {},
   "outputs": [
    {
     "name": "stdout",
     "output_type": "stream",
     "text": [
      "Размер тренировочного набора retrivial: (45631757, 8)\n",
      "Размер валидационного набора reranker: (11400304, 8)\n",
      "Размер валидационного набора: (11774091, 8)\n",
      "Размер валидационного набора для оценки retrivial: (72271, 3)\n",
      "Размер валидационного набора для оценки reranker: (74771, 3)\n"
     ]
    }
   ],
   "source": [
    "# Выводим информацию о размерах наборов данных\n",
    "print(f\"Размер тренировочного набора retrivial: {df_train_retrivial.shape}\")\n",
    "print(f\"Размер валидационного набора reranker: {df_train_reranker.shape}\")\n",
    "print(f\"Размер валидационного набора: {df_valid.shape}\")\n",
    "print(\n",
    "    f\"Размер валидационного набора для оценки retrivial: {df_valid_eval_retrivial.shape}\"\n",
    ")\n",
    "print(\n",
    "    f\"Размер валидационного набора для оценки reranker: {df_valid_eval_reranker.shape}\"\n",
    ")"
   ]
  },
  {
   "cell_type": "markdown",
   "id": "ec9eddfc",
   "metadata": {},
   "source": [
    "# Train model"
   ]
  },
  {
   "cell_type": "markdown",
   "id": "c16cd850",
   "metadata": {},
   "source": [
    "## Train ALS"
   ]
  },
  {
   "cell_type": "code",
   "execution_count": 11,
   "id": "c5e72b77",
   "metadata": {},
   "outputs": [],
   "source": [
    "class ALSRetriever:\n",
    "    def __init__(self, **params_als):\n",
    "        self.model = implicit.als.AlternatingLeastSquares(**params_als)\n",
    "\n",
    "        self._user_id_to_index: dict[int, int] | None = None\n",
    "        self._item_id_to_index: dict[int, int] | None = None\n",
    "        self._index_to_item_id: dict[int, int] | None = None\n",
    "        self._sparse_matrix = None\n",
    "\n",
    "    def _create_mappings(self, user_ids, item_ids):\n",
    "        \"\"\"Создает маппинги между ID и индексами для пользователей и товаров\"\"\"\n",
    "        self._user_id_to_index = {user_id: idx for idx, user_id in enumerate(user_ids)}\n",
    "        self._item_id_to_index = {item_id: idx for idx, item_id in enumerate(item_ids)}\n",
    "        self._index_to_item_id = {v: k for k, v in self._item_id_to_index.items()}\n",
    "        self._index_to_user_id = {v: k for k, v in self._user_id_to_index.items()}\n",
    "\n",
    "    def fit(\n",
    "        self,\n",
    "        users,\n",
    "        nodes,\n",
    "        events=None,\n",
    "        event_weights=None,\n",
    "        contact_event_boost=10.0,\n",
    "        contact_events=None,\n",
    "        is_contact_col=None,\n",
    "    ):\n",
    "        \"\"\"\n",
    "        Обучает модель ALS\n",
    "\n",
    "        Args:\n",
    "            users (pl.Series): ID пользователей\n",
    "            nodes (pl.Series): ID элементов (товаров)\n",
    "            events (pl.Series, optional): Типы событий\n",
    "            event_weights (dict, optional): Словарь весов для разных типов событий\n",
    "            contact_event_boost (float): Множитель для контактных событий\n",
    "            contact_events (list, optional): Список ID контактных событий\n",
    "            is_contact_col (pl.Series, optional): Колонка с флагом контакта\n",
    "\n",
    "        Returns:\n",
    "            self: Возвращает self для возможности цепочки вызовов\n",
    "        \"\"\"\n",
    "        user_ids = users.unique().to_list()\n",
    "        item_ids = nodes.unique().to_list()\n",
    "\n",
    "        self._create_mappings(user_ids, item_ids)\n",
    "\n",
    "        rows = users.replace_strict(self._user_id_to_index).to_list()\n",
    "        cols = nodes.replace_strict(self._item_id_to_index).to_list()\n",
    "\n",
    "        # Определение весов взаимодействий\n",
    "        if events is not None and event_weights:\n",
    "            values = [event_weights.get(event, 1.0) for event in events.to_list()]\n",
    "\n",
    "            # Если указаны контактные события, увеличиваем их вес\n",
    "            if contact_events:\n",
    "                values = [\n",
    "                    val * contact_event_boost if events[i] in contact_events else val\n",
    "                    for i, val in enumerate(values)\n",
    "                ]\n",
    "        elif is_contact_col is not None:\n",
    "            # Если есть прямой признак контакта, используем его для весов\n",
    "            values = is_contact_col.to_list()\n",
    "        else:\n",
    "            # По умолчанию все взаимодействия имеют вес 1\n",
    "            values = [1] * len(users)\n",
    "\n",
    "        # Создаем разреженную матрицу взаимодействий\n",
    "        self._sparse_matrix = csr_matrix(\n",
    "            (values, (rows, cols)), shape=(len(user_ids), len(item_ids))\n",
    "        )\n",
    "\n",
    "        # Обучаем модель\n",
    "        self.model.fit(self._sparse_matrix)\n",
    "\n",
    "    def recommend(self, user_ids, n=40, filter_already_liked_items=True):\n",
    "        \"\"\"\n",
    "        Генерирует рекомендации для указанных пользователей\n",
    "\n",
    "        Args:\n",
    "            user_ids (list): Список ID пользователей для рекомендаций\n",
    "            n (int): Количество рекомендаций для каждого пользователя\n",
    "            filter_already_liked_items (bool): Исключать ли уже взаимодействовавшие товары\n",
    "            recalculate_user (bool): Пересчитывать ли модель для пользователя\n",
    "\n",
    "        Returns:\n",
    "            pl.DataFrame: DataFrame с рекомендациями\n",
    "        \"\"\"\n",
    "        if not self._user_id_to_index:\n",
    "            raise ValueError(\"Сначала надо fit.\")\n",
    "        # Преобразуем ID пользователей в индексы\n",
    "        user_indices = []\n",
    "        valid_users = []\n",
    "\n",
    "        for user_id in user_ids:\n",
    "            if user_id in self._user_id_to_index:\n",
    "                user_indices.append(self._user_id_to_index[user_id])  # type: ignore\n",
    "                valid_users.append(user_id)\n",
    "\n",
    "        if not user_indices:\n",
    "            return pl.DataFrame({\"cookie\": [], \"node\": [], \"scores\": []})\n",
    "\n",
    "        # Получаем рекомендации\n",
    "        user_index_array = np.array(user_indices)\n",
    "        recommendations, scores = self.model.recommend(\n",
    "            user_index_array,\n",
    "            self._sparse_matrix[user_index_array],  # type: ignore\n",
    "            N=n,\n",
    "            filter_already_liked_items=filter_already_liked_items,\n",
    "        )\n",
    "\n",
    "        # Преобразуем индексы товаров обратно в ID\n",
    "        node_lists = [\n",
    "            [self._index_to_item_id[idx] for idx in rec] for rec in recommendations\n",
    "        ]  # type: ignore\n",
    "\n",
    "        # Создаем DataFrame с результатами\n",
    "        df_pred = pl.DataFrame(\n",
    "            {\"node\": node_lists, \"cookie\": valid_users, \"scores\": scores.tolist()}\n",
    "        )\n",
    "\n",
    "        # Разворачиваем списки\n",
    "        df_pred = df_pred.explode([\"node\", \"scores\"])\n",
    "\n",
    "        return df_pred\n",
    "\n",
    "    def save_model(self, path: str):\n",
    "        import pickle\n",
    "\n",
    "        model_data = {\n",
    "            \"model\": self.model,\n",
    "            \"user_id_to_index\": self._user_id_to_index,\n",
    "            \"item_id_to_index\": self._item_id_to_index,\n",
    "            \"index_to_item_id\": self._index_to_item_id,\n",
    "            \"index_to_user_id\": self._index_to_user_id,\n",
    "            \"sparse_matrix\": self._sparse_matrix,\n",
    "        }\n",
    "\n",
    "        with open(path, \"wb\") as f:\n",
    "            pickle.dump(model_data, f)\n",
    "\n",
    "    @classmethod\n",
    "    def load(cls, path):\n",
    "        \"\"\"\n",
    "        Загружает модель из файла\n",
    "\n",
    "        Args:\n",
    "            path (str): Путь к файлу модели\n",
    "\n",
    "        Returns:\n",
    "            ALSRetrivier: Загруженная модель\n",
    "        \"\"\"\n",
    "        import pickle\n",
    "\n",
    "        with open(path, \"rb\") as f:\n",
    "            model_data = pickle.load(f)\n",
    "\n",
    "        retriever = cls()\n",
    "        retriever.model = model_data[\"model\"]\n",
    "        retriever._user_id_to_index = model_data[\"user_id_to_index\"]\n",
    "        retriever._item_id_to_index = model_data[\"item_id_to_index\"]\n",
    "        retriever._index_to_item_id = model_data[\"index_to_item_id\"]\n",
    "        retriever._index_to_user_id = model_data[\"index_to_user_id\"]\n",
    "        retriever._sparse_matrix = model_data[\"sparse_matrix\"]\n",
    "\n",
    "        return retriever\n",
    "\n",
    "\n",
    "def get_als_pred(\n",
    "    users,\n",
    "    nodes,\n",
    "    events,\n",
    "    user_to_pred,\n",
    "    event_weights=None,\n",
    "    generate_candidates: int = 40,\n",
    "):\n",
    "    user_ids = users.unique().to_list()\n",
    "    item_ids = nodes.unique().to_list()\n",
    "\n",
    "    user_id_to_index = {user_id: idx for idx, user_id in enumerate(user_ids)}\n",
    "    item_id_to_index = {item_id: idx for idx, item_id in enumerate(item_ids)}\n",
    "    index_to_item_id = {v: k for k, v in item_id_to_index.items()}\n",
    "\n",
    "    rows = users.replace_strict(user_id_to_index).to_list()\n",
    "    cols = nodes.replace_strict(item_id_to_index).to_list()\n",
    "\n",
    "    # Используем веса событий или 1 по умолчанию\n",
    "    if event_weights is not None and events is not None:\n",
    "        values = [event_weights.get(event, 1.0) for event in events.to_list()]\n",
    "    else:\n",
    "        values = [1] * len(users)\n",
    "\n",
    "    sparse_matrix = csr_matrix(\n",
    "        (values, (rows, cols)), shape=(len(user_ids), len(item_ids))\n",
    "    )\n",
    "\n",
    "    model = implicit.als.AlternatingLeastSquares(iterations=10, factors=100)\n",
    "    model.fit(\n",
    "        sparse_matrix,\n",
    "    )\n",
    "\n",
    "    user4pred = np.array([user_id_to_index[i] for i in user_to_pred])\n",
    "\n",
    "    recommendations, scores = model.recommend(\n",
    "        user4pred,\n",
    "        sparse_matrix[user4pred],\n",
    "        N=generate_candidates,\n",
    "        filter_already_liked_items=True,\n",
    "    )\n",
    "\n",
    "    df_pred = pl.DataFrame(\n",
    "        {\n",
    "            \"node\": [\n",
    "                [index_to_item_id[i] for i in i] for i in recommendations.tolist()\n",
    "            ],\n",
    "            \"cookie\": list(user_to_pred),\n",
    "            \"scores\": scores.tolist(),\n",
    "        }\n",
    "    )\n",
    "    df_pred = df_pred.explode([\"node\", \"scores\"])\n",
    "    return df_pred"
   ]
  },
  {
   "cell_type": "code",
   "execution_count": 12,
   "id": "921be7a7",
   "metadata": {},
   "outputs": [],
   "source": [
    "# als_retriever_1 = ALSRetriever(iterations=50, factors=250, regularization=0.3, use_gpu=True)\n",
    "\n",
    "als_retriever = ALSRetriever(iterations=30, factors=100, regularization=0.7, use_gpu=True)"
   ]
  },
  {
   "cell_type": "code",
   "execution_count": 13,
   "id": "05d75e12",
   "metadata": {},
   "outputs": [
    {
     "name": "stderr",
     "output_type": "stream",
     "text": [
      "/tmp/ipykernel_82092/1562741574.py:9: DeprecationWarning: `pl.count()` is deprecated. Please use `pl.len()` instead.\n",
      "  pl.count().alias(\"total_interactions\"),\n"
     ]
    }
   ],
   "source": [
    "def clean_interactions_for_als(df_clickstream):\n",
    "    \"\"\"\n",
    "    Комплексная очистка для ALS\n",
    "    \"\"\"\n",
    "    # 1. Агрегируем по cookie-node с приоритетом контактных событий\n",
    "    cleaned = df_clickstream.group_by([\"cookie\", \"node\", \"item\"]).agg([\n",
    "        pl.col(\"is_contact\").max().alias(\"is_contact\"),  # Если хоть раз был контакт\n",
    "        pl.col(\"event_date\").max().alias(\"last_interaction\"),\n",
    "        pl.count().alias(\"total_interactions\"),\n",
    "        pl.col(\"is_contact\").sum().alias(\"contact_interactions\")\n",
    "    ]).with_columns([\n",
    "        # Создаем финальный вес для ALS\n",
    "        pl.when(pl.col(\"is_contact\") == 1)\n",
    "        .then(5.0 + pl.col(\"contact_interactions\").log1p())  # Больше контактов = больше уверенности\n",
    "        .otherwise(0.5 + pl.col(\"total_interactions\").log1p() * 0.1)  # Неконтактные получают малый вес\n",
    "        .alias(\"als_weight\")\n",
    "    ])\n",
    "    \n",
    "    return cleaned.select([\"cookie\", \"node\", \"is_contact\", \"als_weight\"])\n",
    "\n",
    "\n",
    "df_clean_retrivial = clean_interactions_for_als(df_train_retrivial)"
   ]
  },
  {
   "cell_type": "code",
   "execution_count": 14,
   "id": "2a11d8c2",
   "metadata": {},
   "outputs": [],
   "source": [
    "users = df_clean_retrivial[\"cookie\"]\n",
    "nodes = df_clean_retrivial[\"node\"]\n",
    "weights_for_als = df_clean_retrivial[\"als_weight\"]\n",
    "eval_users = df_valid_eval_retrivial[\"cookie\"].unique().to_list()"
   ]
  },
  {
   "cell_type": "code",
   "execution_count": 15,
   "id": "d139d811",
   "metadata": {},
   "outputs": [],
   "source": [
    "def create_event_weights(clickstream_df: pl.DataFrame):\n",
    "    event_count = {\n",
    "        row[0]: row[1] for row in clickstream_df.group_by(\"event\").len().rows()\n",
    "    }\n",
    "\n",
    "    return {event_id: 1.0 / np.log1p(count) for event_id, count in event_count.items()}\n",
    "\n",
    "\n",
    "# inverse_freq_weights = create_event_weights(df_train_retrivial.select(\"event\"))\n",
    "\n",
    "# def create_frequency_weights(df_clickstream, base_contact_weight=10.0):\n",
    "#     \"\"\"\n",
    "#     Веса на основе частоты событий - редкие события получают больший вес\n",
    "#     \"\"\"\n",
    "#     event_counts = df_clickstream.group_by(\"event\").agg([\n",
    "#         pl.count().alias(\"event_count\"),\n",
    "#         pl.col(\"is_contact\").first().alias(\"is_contact\")\n",
    "#     ])\n",
    "    \n",
    "#     max_count = event_counts[\"event_count\"].max()\n",
    "#     weights = {}\n",
    "    \n",
    "#     for row in event_counts.rows():\n",
    "#         event_id, count, is_contact = row\n",
    "#         if is_contact == 1:\n",
    "#             # Для контактных: обратно пропорционально частоте\n",
    "#             weights[event_id] = base_contact_weight * (np.log1p(max_count) / np.log1p(count))\n",
    "#         else:\n",
    "#             # Для неконтактных: небольшой базовый вес\n",
    "#             weights[event_id] = 0.1\n",
    "    \n",
    "#     return weights\n",
    "\n",
    "# frequency_weights = create_frequency_weights(df_train_retrivial, 1)"
   ]
  },
  {
   "cell_type": "code",
   "execution_count": 16,
   "id": "bdfcbfc0",
   "metadata": {},
   "outputs": [
    {
     "name": "stderr",
     "output_type": "stream",
     "text": [
      "100%|██████████| 30/30 [00:32<00:00,  1.10s/it]\n"
     ]
    }
   ],
   "source": [
    "als_retriever.fit(\n",
    "    users, nodes, is_contact_col=weights_for_als)"
   ]
  },
  {
   "cell_type": "code",
   "execution_count": 17,
   "id": "40e52c61",
   "metadata": {},
   "outputs": [],
   "source": [
    "df_pred_alt = als_retriever.recommend(eval_users, 200)"
   ]
  },
  {
   "cell_type": "code",
   "execution_count": 18,
   "id": "43d62c35",
   "metadata": {},
   "outputs": [],
   "source": [
    "del als_retriever"
   ]
  },
  {
   "cell_type": "code",
   "execution_count": null,
   "id": "49360070",
   "metadata": {},
   "outputs": [],
   "source": [
    "# from hydra import compose, initialize\n",
    "# def config_retriever(config_path, config_name):\n",
    "#     with initialize(config_path=config_path, version_base=None):\n",
    "#         cfg = compose(config_name=config_name)\n",
    "#         return cfg"
   ]
  },
  {
   "cell_type": "code",
   "execution_count": null,
   "id": "fc399c5e",
   "metadata": {},
   "outputs": [],
   "source": [
    "# config_retrievers = config_retriever(\"../configs/retrieval_models\", \"popular\")\n",
    "\n",
    "# popul_items_retriever = PopularItemsRetriever(config_retrievers)\n",
    "# popul_items_retriever.set_data(df_train_retrivial, df_cat_features)\n",
    "\n",
    "# popul_nodes = popul_items_retriever.recommend(eval_users)"
   ]
  },
  {
   "cell_type": "code",
   "execution_count": null,
   "id": "dfe5ede8",
   "metadata": {},
   "outputs": [
    {
     "data": {
      "text/html": [
       "<div><style>\n",
       ".dataframe > thead > tr,\n",
       ".dataframe > tbody > tr {\n",
       "  text-align: right;\n",
       "  white-space: pre-wrap;\n",
       "}\n",
       "</style>\n",
       "<small>shape: (2_126_754, 6)</small><table border=\"1\" class=\"dataframe\"><thead><tr><th>cookie</th><th>node</th><th>score_popular_items_1d</th><th>score_popular_items_30d</th><th>score_popular_items_by_category_7d</th><th>score_popular_items_by_category_30d</th></tr><tr><td>i64</td><td>i64</td><td>f64</td><td>f64</td><td>f64</td><td>f64</td></tr></thead><tbody><tr><td>0</td><td>13939</td><td>null</td><td>null</td><td>1.0</td><td>1.0</td></tr><tr><td>0</td><td>10893</td><td>null</td><td>null</td><td>1.0</td><td>1.0</td></tr><tr><td>0</td><td>153578</td><td>null</td><td>null</td><td>1.0</td><td>1.0</td></tr><tr><td>0</td><td>27</td><td>null</td><td>null</td><td>1.0</td><td>1.0</td></tr><tr><td>0</td><td>57915</td><td>null</td><td>null</td><td>1.0</td><td>1.0</td></tr><tr><td>&hellip;</td><td>&hellip;</td><td>&hellip;</td><td>&hellip;</td><td>&hellip;</td><td>&hellip;</td></tr><tr><td>149967</td><td>151453</td><td>1.0</td><td>1.0</td><td>1.0</td><td>1.0</td></tr><tr><td>149973</td><td>151453</td><td>1.0</td><td>1.0</td><td>1.0</td><td>1.0</td></tr><tr><td>149975</td><td>151453</td><td>1.0</td><td>1.0</td><td>1.0</td><td>1.0</td></tr><tr><td>149997</td><td>151453</td><td>1.0</td><td>1.0</td><td>1.0</td><td>1.0</td></tr><tr><td>149998</td><td>151453</td><td>1.0</td><td>1.0</td><td>1.0</td><td>1.0</td></tr></tbody></table></div>"
      ],
      "text/plain": [
       "shape: (2_126_754, 6)\n",
       "┌────────┬────────┬────────────────────┬───────────────────┬───────────────────┬───────────────────┐\n",
       "│ cookie ┆ node   ┆ score_popular_item ┆ score_popular_ite ┆ score_popular_ite ┆ score_popular_ite │\n",
       "│ ---    ┆ ---    ┆ s_1d               ┆ ms_30d            ┆ ms_by_categor…    ┆ ms_by_categor…    │\n",
       "│ i64    ┆ i64    ┆ ---                ┆ ---               ┆ ---               ┆ ---               │\n",
       "│        ┆        ┆ f64                ┆ f64               ┆ f64               ┆ f64               │\n",
       "╞════════╪════════╪════════════════════╪═══════════════════╪═══════════════════╪═══════════════════╡\n",
       "│ 0      ┆ 13939  ┆ null               ┆ null              ┆ 1.0               ┆ 1.0               │\n",
       "│ 0      ┆ 10893  ┆ null               ┆ null              ┆ 1.0               ┆ 1.0               │\n",
       "│ 0      ┆ 153578 ┆ null               ┆ null              ┆ 1.0               ┆ 1.0               │\n",
       "│ 0      ┆ 27     ┆ null               ┆ null              ┆ 1.0               ┆ 1.0               │\n",
       "│ 0      ┆ 57915  ┆ null               ┆ null              ┆ 1.0               ┆ 1.0               │\n",
       "│ …      ┆ …      ┆ …                  ┆ …                 ┆ …                 ┆ …                 │\n",
       "│ 149967 ┆ 151453 ┆ 1.0                ┆ 1.0               ┆ 1.0               ┆ 1.0               │\n",
       "│ 149973 ┆ 151453 ┆ 1.0                ┆ 1.0               ┆ 1.0               ┆ 1.0               │\n",
       "│ 149975 ┆ 151453 ┆ 1.0                ┆ 1.0               ┆ 1.0               ┆ 1.0               │\n",
       "│ 149997 ┆ 151453 ┆ 1.0                ┆ 1.0               ┆ 1.0               ┆ 1.0               │\n",
       "│ 149998 ┆ 151453 ┆ 1.0                ┆ 1.0               ┆ 1.0               ┆ 1.0               │\n",
       "└────────┴────────┴────────────────────┴───────────────────┴───────────────────┴───────────────────┘"
      ]
     },
     "execution_count": 36,
     "metadata": {},
     "output_type": "execute_result"
    }
   ],
   "source": [
    "# popul_nodes.sort(\"score_popular_items_1d\")"
   ]
  },
  {
   "cell_type": "code",
   "execution_count": 19,
   "id": "ab12f9a9",
   "metadata": {},
   "outputs": [],
   "source": [
    "class PopularItemsFeatureExtractor:\n",
    "    \"\"\"\n",
    "    Класс для получения популярных товаров по различным критериям\n",
    "    \"\"\"\n",
    "\n",
    "    def __init__(self, clickstream_df=None, categories_df=None):\n",
    "        \"\"\"\n",
    "        Инициализирует ретривер популярных товаров\n",
    "\n",
    "        Args:\n",
    "            clickstream_df (pl.DataFrame, optional): DataFrame с данными кликстрима\n",
    "            categories_df (pl.DataFrame, optional): DataFrame с категориями товаров\n",
    "        \"\"\"\n",
    "        self.clickstream_df = clickstream_df\n",
    "        self.categories_df = categories_df\n",
    "\n",
    "        # Кэш для хранения результатов\n",
    "        self._cache = {}\n",
    "\n",
    "    def set_data(self, clickstream_df, categories_df=None):\n",
    "        \"\"\"\n",
    "        Устанавливает данные для работы\n",
    "\n",
    "        Args:\n",
    "            clickstream_df (pl.DataFrame): DataFrame с данными кликстрима\n",
    "            categories_df (pl.DataFrame, optional): DataFrame с категориями товаров\n",
    "\n",
    "        Returns:\n",
    "            self: Возвращает self для цепочки вызовов\n",
    "        \"\"\"\n",
    "        self.clickstream_df = clickstream_df\n",
    "        if categories_df is not None:\n",
    "            self.categories_df = categories_df\n",
    "\n",
    "        # Сбрасываем кэш при обновлении данных\n",
    "        self._cache = {}\n",
    "\n",
    "        return self\n",
    "\n",
    "    def get_popular_nodes(self, days=7, use_cache=True):\n",
    "        \"\"\"\n",
    "        Получает популярные товары за указанный период\n",
    "\n",
    "        Args:\n",
    "            days (int): Количество дней для анализа\n",
    "            top_k (int): Количество лучших товаров\n",
    "            use_cache (bool): Использовать кэш или пересчитать\n",
    "\n",
    "        Returns:\n",
    "            pl.DataFrame: Таблица с популярными товарами и количеством взаимодействий\n",
    "        \"\"\"\n",
    "        if self.clickstream_df is None:\n",
    "            raise ValueError(\"Не установлены данные кликстрима\")\n",
    "\n",
    "        cache_key = f\"popular_{days}\"\n",
    "        if use_cache and cache_key in self._cache:\n",
    "            return self._cache[cache_key]\n",
    "\n",
    "        # Определяем временное окно\n",
    "        cutoff_date = self.clickstream_df[\"event_date\"].max() - timedelta(days=days)\n",
    "        recent_data = self.clickstream_df.filter(pl.col(\"event_date\") > cutoff_date)\n",
    "\n",
    "        # Подсчитываем популярность каждого node\n",
    "        popular_nodes = (\n",
    "            recent_data.group_by(\"node\")\n",
    "            .agg(pl.count().log1p().alias(f\"popularity_last_{days}_days\"))\n",
    "        )\n",
    "\n",
    "        # Кэшируем результаты\n",
    "        if use_cache:\n",
    "            self._cache[cache_key] = popular_nodes\n",
    "\n",
    "        return popular_nodes\n",
    "\n",
    "    def get_popular_nodes_by_category(self, days=7, use_cache=True):\n",
    "        \"\"\"\n",
    "        Получает популярные товары по категориям за указанный период\n",
    "\n",
    "        Args:\n",
    "            days (int): Количество дней для анализа\n",
    "            top_k (int): Количество лучших товаров на категорию\n",
    "            use_cache (bool): Использовать кэш или пересчитать\n",
    "\n",
    "        Returns:\n",
    "            pl.DataFrame: Таблица с популярными товарами по категориям\n",
    "        \"\"\"\n",
    "        if self.clickstream_df is None or self.categories_df is None:\n",
    "            raise ValueError(\"Не установлены данные кликстрима или категорий товаров\")\n",
    "\n",
    "        cache_key = f\"popular_by_category_{days}\"\n",
    "        if use_cache and cache_key in self._cache:\n",
    "            return self._cache[cache_key]\n",
    "\n",
    "        # Определяем временное окно\n",
    "        cutoff_date = self.clickstream_df[\"event_date\"].max() - timedelta(days=days)\n",
    "        recent_data = self.clickstream_df.filter(pl.col(\"event_date\") > cutoff_date)\n",
    "\n",
    "        # Соединяем с категориями\n",
    "        recent_with_cat = recent_data.join(\n",
    "            self.categories_df[[\"node\", \"category\"]].unique(), on=\"node\", how=\"inner\"\n",
    "        )\n",
    "\n",
    "        # Подсчитываем популярность по категориям\n",
    "        popular_by_cat = (\n",
    "            recent_with_cat.group_by([\"category\", \"node\"])\n",
    "            .agg(pl.count().log1p().alias(f\"category_popularity_last_{days}_days\"))\n",
    "        )\n",
    "\n",
    "        # Кэшируем результаты\n",
    "        if use_cache:\n",
    "            self._cache[cache_key] = popular_by_cat\n",
    "\n",
    "        return popular_by_cat[[\"node\", f\"category_popularity_last_{days}_days\"]]\n",
    "\n",
    "    def get_trending_items(self, days_window=3, previous_days=7):\n",
    "        \"\"\"\n",
    "        Получает тренды - товары, растущие по популярности\n",
    "\n",
    "        Args:\n",
    "            days_window (int): Размер окна для текущей популярности (дни)\n",
    "            previous_days (int): Количество дней для сравнения с предыдущим периодом\n",
    "            top_k (int): Количество растущих товаров для возврата\n",
    "\n",
    "        Returns:\n",
    "            pl.DataFrame: Таблица с растущими товарами\n",
    "        \"\"\"\n",
    "        if self.clickstream_df is None:\n",
    "            raise ValueError(\"Не установлены данные кликстрима\")\n",
    "\n",
    "        max_date = self.clickstream_df[\"event_date\"].max()\n",
    "\n",
    "        # Данные для текущего окна\n",
    "        current_cutoff = max_date - timedelta(days=days_window)\n",
    "        current_data = self.clickstream_df.filter(pl.col(\"event_date\") > current_cutoff)\n",
    "\n",
    "        # Данные для предыдущего окна\n",
    "        prev_start = current_cutoff - timedelta(days=previous_days)\n",
    "        prev_data = self.clickstream_df.filter(\n",
    "            (pl.col(\"event_date\") <= current_cutoff)\n",
    "            & (pl.col(\"event_date\") > prev_start)\n",
    "        )\n",
    "\n",
    "        # Вычисляем популярность для текущего и предыдущего окна\n",
    "        current_pop = current_data.group_by(\"node\").agg(\n",
    "            pl.count().alias(\"current_count\")\n",
    "        ).cast(pl.Int32)\n",
    "\n",
    "        prev_pop = prev_data.group_by(\"node\").agg(pl.count().alias(\"previous_count\")).cast(pl.Int32)\n",
    "\n",
    "        # Объединяем и вычисляем рост\n",
    "        trending = (\n",
    "            current_pop.join(prev_pop, on=\"node\", how=\"left\")\n",
    "            .with_columns(\n",
    "                [\n",
    "                    pl.col(\"previous_count\").fill_null(0),\n",
    "                    (pl.col(\"current_count\") - pl.col(\"previous_count\")).alias(\n",
    "                        \"growth\"\n",
    "                    ),\n",
    "                    (\n",
    "                        (pl.col(\"current_count\") - pl.col(\"previous_count\"))\n",
    "                        / (pl.col(\"previous_count\") + 1)\n",
    "                    ).alias(f\"trending_items_pd_{previous_days}_wd_{days_window}\"),\n",
    "                ]\n",
    "            )\n",
    "        )\n",
    "\n",
    "        return trending[[\"node\", f\"trending_items_pd_{previous_days}_wd_{days_window}\"]]"
   ]
  },
  {
   "cell_type": "code",
   "execution_count": 20,
   "id": "1897a4e6",
   "metadata": {},
   "outputs": [
    {
     "name": "stderr",
     "output_type": "stream",
     "text": [
      "/tmp/ipykernel_82092/2869826841.py:66: DeprecationWarning: `pl.count()` is deprecated. Please use `pl.len()` instead.\n",
      "  .agg(pl.count().log1p().alias(f\"popularity_last_{days}_days\"))\n",
      "/tmp/ipykernel_82092/2869826841.py:145: DeprecationWarning: `pl.count()` is deprecated. Please use `pl.len()` instead.\n",
      "  pl.count().alias(\"current_count\")\n",
      "/tmp/ipykernel_82092/2869826841.py:148: DeprecationWarning: `pl.count()` is deprecated. Please use `pl.len()` instead.\n",
      "  prev_pop = prev_data.group_by(\"node\").agg(pl.count().alias(\"previous_count\")).cast(pl.Int32)\n"
     ]
    }
   ],
   "source": [
    "popular_extract = PopularItemsFeatureExtractor(df_train_retrivial, df_cat_features)\n",
    "\n",
    "# Получаем популярные товары за последнюю неделю и месяц\n",
    "popular_count_week = popular_extract.get_popular_nodes(days=7)\n",
    "popular_count_month = popular_extract.get_popular_nodes(days=30)\n",
    "# popular_count_by_category_week = popular_extract.get_popular_nodes_by_category(days=7)\n",
    "# popular_count_by_category_month = popular_extract.get_popular_nodes_by_category(days=30)\n",
    "trending_count_week = popular_extract.get_trending_items(days_window=3, previous_days=7)"
   ]
  },
  {
   "cell_type": "markdown",
   "id": "01caae35",
   "metadata": {},
   "source": [
    "# Двустадийная система рекомендаций\n",
    "## Этап 1: ALS для первичного отбора релевантных товаров\n",
    "## Этап 2: CatBoost для ранжирования и уточнения результатов"
   ]
  },
  {
   "cell_type": "code",
   "execution_count": 21,
   "id": "58edc134",
   "metadata": {},
   "outputs": [
    {
     "data": {
      "text/html": [
       "<div><style>\n",
       ".dataframe > thead > tr,\n",
       ".dataframe > tbody > tr {\n",
       "  text-align: right;\n",
       "  white-space: pre-wrap;\n",
       "}\n",
       "</style>\n",
       "<small>shape: (11_400_304, 8)</small><table border=\"1\" class=\"dataframe\"><thead><tr><th>cookie</th><th>item</th><th>event</th><th>event_date</th><th>platform</th><th>surface</th><th>node</th><th>is_contact</th></tr><tr><td>i64</td><td>i64</td><td>i64</td><td>datetime[ns]</td><td>i64</td><td>i64</td><td>u32</td><td>i64</td></tr></thead><tbody><tr><td>1</td><td>6830678</td><td>17</td><td>2025-02-09 13:17:03</td><td>2</td><td>2</td><td>15</td><td>0</td></tr><tr><td>1</td><td>6830678</td><td>17</td><td>2025-02-09 13:16:58</td><td>2</td><td>2</td><td>15</td><td>0</td></tr><tr><td>1</td><td>14233689</td><td>17</td><td>2025-02-09 16:53:28</td><td>2</td><td>2</td><td>214458</td><td>0</td></tr><tr><td>1</td><td>7928899</td><td>17</td><td>2025-02-15 13:44:59</td><td>2</td><td>11</td><td>214231</td><td>0</td></tr><tr><td>1</td><td>18436084</td><td>17</td><td>2025-02-14 15:14:23</td><td>2</td><td>11</td><td>214458</td><td>0</td></tr><tr><td>&hellip;</td><td>&hellip;</td><td>&hellip;</td><td>&hellip;</td><td>&hellip;</td><td>&hellip;</td><td>&hellip;</td><td>&hellip;</td></tr><tr><td>149989</td><td>14257821</td><td>17</td><td>2025-02-12 12:42:11</td><td>2</td><td>2</td><td>152108</td><td>0</td></tr><tr><td>149995</td><td>16818719</td><td>17</td><td>2025-02-14 05:59:18</td><td>3</td><td>11</td><td>115733</td><td>0</td></tr><tr><td>149996</td><td>4516135</td><td>17</td><td>2025-02-09 04:38:46</td><td>2</td><td>2</td><td>122326</td><td>0</td></tr><tr><td>149999</td><td>12138732</td><td>17</td><td>2025-02-12 13:11:42</td><td>2</td><td>2</td><td>51162</td><td>0</td></tr><tr><td>149999</td><td>16282539</td><td>17</td><td>2025-02-10 13:07:17</td><td>2</td><td>2</td><td>71524</td><td>0</td></tr></tbody></table></div>"
      ],
      "text/plain": [
       "shape: (11_400_304, 8)\n",
       "┌────────┬──────────┬───────┬─────────────────────┬──────────┬─────────┬────────┬────────────┐\n",
       "│ cookie ┆ item     ┆ event ┆ event_date          ┆ platform ┆ surface ┆ node   ┆ is_contact │\n",
       "│ ---    ┆ ---      ┆ ---   ┆ ---                 ┆ ---      ┆ ---     ┆ ---    ┆ ---        │\n",
       "│ i64    ┆ i64      ┆ i64   ┆ datetime[ns]        ┆ i64      ┆ i64     ┆ u32    ┆ i64        │\n",
       "╞════════╪══════════╪═══════╪═════════════════════╪══════════╪═════════╪════════╪════════════╡\n",
       "│ 1      ┆ 6830678  ┆ 17    ┆ 2025-02-09 13:17:03 ┆ 2        ┆ 2       ┆ 15     ┆ 0          │\n",
       "│ 1      ┆ 6830678  ┆ 17    ┆ 2025-02-09 13:16:58 ┆ 2        ┆ 2       ┆ 15     ┆ 0          │\n",
       "│ 1      ┆ 14233689 ┆ 17    ┆ 2025-02-09 16:53:28 ┆ 2        ┆ 2       ┆ 214458 ┆ 0          │\n",
       "│ 1      ┆ 7928899  ┆ 17    ┆ 2025-02-15 13:44:59 ┆ 2        ┆ 11      ┆ 214231 ┆ 0          │\n",
       "│ 1      ┆ 18436084 ┆ 17    ┆ 2025-02-14 15:14:23 ┆ 2        ┆ 11      ┆ 214458 ┆ 0          │\n",
       "│ …      ┆ …        ┆ …     ┆ …                   ┆ …        ┆ …       ┆ …      ┆ …          │\n",
       "│ 149989 ┆ 14257821 ┆ 17    ┆ 2025-02-12 12:42:11 ┆ 2        ┆ 2       ┆ 152108 ┆ 0          │\n",
       "│ 149995 ┆ 16818719 ┆ 17    ┆ 2025-02-14 05:59:18 ┆ 3        ┆ 11      ┆ 115733 ┆ 0          │\n",
       "│ 149996 ┆ 4516135  ┆ 17    ┆ 2025-02-09 04:38:46 ┆ 2        ┆ 2       ┆ 122326 ┆ 0          │\n",
       "│ 149999 ┆ 12138732 ┆ 17    ┆ 2025-02-12 13:11:42 ┆ 2        ┆ 2       ┆ 51162  ┆ 0          │\n",
       "│ 149999 ┆ 16282539 ┆ 17    ┆ 2025-02-10 13:07:17 ┆ 2        ┆ 2       ┆ 71524  ┆ 0          │\n",
       "└────────┴──────────┴───────┴─────────────────────┴──────────┴─────────┴────────┴────────────┘"
      ]
     },
     "execution_count": 21,
     "metadata": {},
     "output_type": "execute_result"
    }
   ],
   "source": [
    "df_train_reranker"
   ]
  },
  {
   "cell_type": "code",
   "execution_count": 49,
   "id": "8b166750",
   "metadata": {},
   "outputs": [],
   "source": [
    "# df_retrievers = df_pred_alt.join(\n",
    "#     popul_nodes,\n",
    "#     on=[\"cookie\", \"node\"],\n",
    "#     how=\"full\",\n",
    "#     coalesce=True\n",
    "# )"
   ]
  },
  {
   "cell_type": "code",
   "execution_count": 50,
   "id": "3eddb22b",
   "metadata": {},
   "outputs": [],
   "source": [
    "# df_retrievers"
   ]
  },
  {
   "cell_type": "code",
   "execution_count": 22,
   "id": "d2d868b0",
   "metadata": {},
   "outputs": [],
   "source": [
    "df_candidates_train = df_pred_alt.join(\n",
    "    df_train_reranker[\"node\", \"cookie\", \"is_contact\"]\n",
    "    .sort(\"is_contact\", descending=True)\n",
    "    .unique([\"cookie\", \"node\"]),\n",
    "    on=[\"cookie\", \"node\"],\n",
    "    how=\"left\",\n",
    ").fill_null(0)"
   ]
  },
  {
   "cell_type": "code",
   "execution_count": 23,
   "id": "b29e5451",
   "metadata": {},
   "outputs": [
    {
     "name": "stderr",
     "output_type": "stream",
     "text": [
      "/tmp/ipykernel_82092/587475119.py:38: DeprecationWarning: `pl.count()` is deprecated. Please use `pl.len()` instead.\n",
      "  (pl.col(\"is_contact\").sum() / pl.count()).alias(\"user_contact_ratio\"),\n",
      "/tmp/ipykernel_82092/587475119.py:48: DeprecationWarning: `pl.count()` is deprecated. Please use `pl.len()` instead.\n",
      "  pl.count().alias(\"user_recent_interactions\")\n"
     ]
    }
   ],
   "source": [
    "# Подготовка данных для CatBoost\n",
    "def prepare_features_for_boosting(\n",
    "    df_retrievals,\n",
    "    df_clickstream,\n",
    "    df_cat_features,\n",
    "    **kwargs\n",
    "):\n",
    "    \"\"\"Подготавливает признаки для обучения бустинга на основе результатов ALS\"\"\"\n",
    "    # Добавляем информацию о рейтинге ALS\n",
    "    features = df_retrievals.rename({\"scores\": \"als_score\"})\n",
    "\n",
    "    features = features.join(\n",
    "        df_cat_features.select([\"node\", \"category\"]).unique(),\n",
    "        on=\"node\",\n",
    "        how=\"left\",\n",
    "    ).fill_null(-1)\n",
    "\n",
    "    for item_features in kwargs.values():\n",
    "        if \"node\" in item_features.columns:\n",
    "            if \"category\" in item_features.columns:\n",
    "                features = features.join(\n",
    "                    item_features,\n",
    "                    on=[\"node\", \"category\"],\n",
    "                    how=\"left\",\n",
    "                ).fill_null(0)\n",
    "            else:\n",
    "                features = features.join(\n",
    "                    item_features,\n",
    "                    on=[\"node\"],\n",
    "                    how=\"left\"\n",
    "                ).fill_null(0)\n",
    "\n",
    "    # Добавляем количество взаимодействий пользователя\n",
    "    user_features = df_clickstream.group_by(\"cookie\").agg(\n",
    "        [\n",
    "            pl.len().alias(\"user_total_interactions\"),\n",
    "            pl.n_unique(\"node\").alias(\"user_unique_nodes\"),\n",
    "            (pl.col(\"is_contact\").sum() / pl.count()).alias(\"user_contact_ratio\"),\n",
    "        ]\n",
    "    )\n",
    "\n",
    "    features = features.join(user_features, on=\"cookie\", how=\"left\")\n",
    " \n",
    "    recent_interactions = df_clickstream.filter(\n",
    "        pl.col(\"event_date\") > (df_clickstream[\"event_date\"].max() - timedelta(days=7))\n",
    "    )\n",
    "    recent_user_features = recent_interactions.group_by(\"cookie\").agg(\n",
    "        pl.count().alias(\"user_recent_interactions\")\n",
    "    )\n",
    "    features = features.join(recent_user_features, on=\"cookie\", how=\"left\")\n",
    "\n",
    "    return features.fill_null(0)\n",
    "\n",
    "# Готовим данные для CatBoost\n",
    "train_data_for_boosting = prepare_features_for_boosting(\n",
    "    df_candidates_train,\n",
    "    df_train_retrivial,\n",
    "    df_cat_features,\n",
    "    popular_count_week=popular_count_week,\n",
    "    popular_count_month=popular_count_month,\n",
    "    trending_count_week=trending_count_week,\n",
    ")"
   ]
  },
  {
   "cell_type": "code",
   "execution_count": 24,
   "id": "02e41e2d",
   "metadata": {},
   "outputs": [
    {
     "data": {
      "text/html": [
       "<div><style>\n",
       ".dataframe > thead > tr,\n",
       ".dataframe > tbody > tr {\n",
       "  text-align: right;\n",
       "  white-space: pre-wrap;\n",
       "}\n",
       "</style>\n",
       "<small>shape: (6_751_600, 12)</small><table border=\"1\" class=\"dataframe\"><thead><tr><th>node</th><th>cookie</th><th>als_score</th><th>is_contact</th><th>category</th><th>popularity_last_7_days</th><th>popularity_last_30_days</th><th>trending_items_pd_7_wd_3</th><th>user_total_interactions</th><th>user_unique_nodes</th><th>user_contact_ratio</th><th>user_recent_interactions</th></tr><tr><td>i64</td><td>i64</td><td>f64</td><td>i64</td><td>i64</td><td>f64</td><td>f64</td><td>f64</td><td>u32</td><td>u32</td><td>f64</td><td>u32</td></tr></thead><tbody><tr><td>115834</td><td>0</td><td>0.819912</td><td>0</td><td>19</td><td>9.08659</td><td>10.52183</td><td>-0.580346</td><td>225</td><td>73</td><td>0.066667</td><td>107</td></tr><tr><td>214235</td><td>0</td><td>0.743648</td><td>0</td><td>37</td><td>8.758884</td><td>10.163965</td><td>-0.553094</td><td>225</td><td>73</td><td>0.066667</td><td>107</td></tr><tr><td>214234</td><td>0</td><td>0.732507</td><td>0</td><td>37</td><td>9.208238</td><td>10.627309</td><td>-0.578846</td><td>225</td><td>73</td><td>0.066667</td><td>107</td></tr><tr><td>115713</td><td>0</td><td>0.72798</td><td>0</td><td>19</td><td>8.987197</td><td>10.470703</td><td>-0.610667</td><td>225</td><td>73</td><td>0.066667</td><td>107</td></tr><tr><td>1923</td><td>0</td><td>0.688839</td><td>0</td><td>61</td><td>9.986495</td><td>11.357627</td><td>-0.561453</td><td>225</td><td>73</td><td>0.066667</td><td>107</td></tr><tr><td>&hellip;</td><td>&hellip;</td><td>&hellip;</td><td>&hellip;</td><td>&hellip;</td><td>&hellip;</td><td>&hellip;</td><td>&hellip;</td><td>&hellip;</td><td>&hellip;</td><td>&hellip;</td><td>&hellip;</td></tr><tr><td>130608</td><td>149998</td><td>0.079378</td><td>0</td><td>31</td><td>7.737616</td><td>9.087381</td><td>-0.518519</td><td>308</td><td>62</td><td>0.012987</td><td>20</td></tr><tr><td>136771</td><td>149998</td><td>0.079257</td><td>0</td><td>24</td><td>7.984803</td><td>9.344696</td><td>-0.496238</td><td>308</td><td>62</td><td>0.012987</td><td>20</td></tr><tr><td>214348</td><td>149998</td><td>0.079091</td><td>0</td><td>37</td><td>6.57368</td><td>7.975908</td><td>-0.595683</td><td>308</td><td>62</td><td>0.012987</td><td>20</td></tr><tr><td>25</td><td>149998</td><td>0.078409</td><td>0</td><td>26</td><td>8.698014</td><td>10.093488</td><td>-0.614018</td><td>308</td><td>62</td><td>0.012987</td><td>20</td></tr><tr><td>229351</td><td>149998</td><td>0.078363</td><td>0</td><td>51</td><td>8.380457</td><td>9.767668</td><td>-0.482362</td><td>308</td><td>62</td><td>0.012987</td><td>20</td></tr></tbody></table></div>"
      ],
      "text/plain": [
       "shape: (6_751_600, 12)\n",
       "┌────────┬────────┬───────────┬────────────┬───┬────────────┬────────────┬────────────┬────────────┐\n",
       "│ node   ┆ cookie ┆ als_score ┆ is_contact ┆ … ┆ user_total ┆ user_uniqu ┆ user_conta ┆ user_recen │\n",
       "│ ---    ┆ ---    ┆ ---       ┆ ---        ┆   ┆ _interacti ┆ e_nodes    ┆ ct_ratio   ┆ t_interact │\n",
       "│ i64    ┆ i64    ┆ f64       ┆ i64        ┆   ┆ ons        ┆ ---        ┆ ---        ┆ ions       │\n",
       "│        ┆        ┆           ┆            ┆   ┆ ---        ┆ u32        ┆ f64        ┆ ---        │\n",
       "│        ┆        ┆           ┆            ┆   ┆ u32        ┆            ┆            ┆ u32        │\n",
       "╞════════╪════════╪═══════════╪════════════╪═══╪════════════╪════════════╪════════════╪════════════╡\n",
       "│ 115834 ┆ 0      ┆ 0.819912  ┆ 0          ┆ … ┆ 225        ┆ 73         ┆ 0.066667   ┆ 107        │\n",
       "│ 214235 ┆ 0      ┆ 0.743648  ┆ 0          ┆ … ┆ 225        ┆ 73         ┆ 0.066667   ┆ 107        │\n",
       "│ 214234 ┆ 0      ┆ 0.732507  ┆ 0          ┆ … ┆ 225        ┆ 73         ┆ 0.066667   ┆ 107        │\n",
       "│ 115713 ┆ 0      ┆ 0.72798   ┆ 0          ┆ … ┆ 225        ┆ 73         ┆ 0.066667   ┆ 107        │\n",
       "│ 1923   ┆ 0      ┆ 0.688839  ┆ 0          ┆ … ┆ 225        ┆ 73         ┆ 0.066667   ┆ 107        │\n",
       "│ …      ┆ …      ┆ …         ┆ …          ┆ … ┆ …          ┆ …          ┆ …          ┆ …          │\n",
       "│ 130608 ┆ 149998 ┆ 0.079378  ┆ 0          ┆ … ┆ 308        ┆ 62         ┆ 0.012987   ┆ 20         │\n",
       "│ 136771 ┆ 149998 ┆ 0.079257  ┆ 0          ┆ … ┆ 308        ┆ 62         ┆ 0.012987   ┆ 20         │\n",
       "│ 214348 ┆ 149998 ┆ 0.079091  ┆ 0          ┆ … ┆ 308        ┆ 62         ┆ 0.012987   ┆ 20         │\n",
       "│ 25     ┆ 149998 ┆ 0.078409  ┆ 0          ┆ … ┆ 308        ┆ 62         ┆ 0.012987   ┆ 20         │\n",
       "│ 229351 ┆ 149998 ┆ 0.078363  ┆ 0          ┆ … ┆ 308        ┆ 62         ┆ 0.012987   ┆ 20         │\n",
       "└────────┴────────┴───────────┴────────────┴───┴────────────┴────────────┴────────────┴────────────┘"
      ]
     },
     "execution_count": 24,
     "metadata": {},
     "output_type": "execute_result"
    }
   ],
   "source": [
    "train_data_for_boosting"
   ]
  },
  {
   "cell_type": "code",
   "execution_count": 25,
   "id": "d6eddccf",
   "metadata": {},
   "outputs": [
    {
     "data": {
      "text/plain": [
       "['node',\n",
       " 'cookie',\n",
       " 'als_score',\n",
       " 'is_contact',\n",
       " 'category',\n",
       " 'popularity_last_7_days',\n",
       " 'popularity_last_30_days',\n",
       " 'trending_items_pd_7_wd_3',\n",
       " 'user_total_interactions',\n",
       " 'user_unique_nodes',\n",
       " 'user_contact_ratio',\n",
       " 'user_recent_interactions']"
      ]
     },
     "execution_count": 25,
     "metadata": {},
     "output_type": "execute_result"
    }
   ],
   "source": [
    "train_data_for_boosting.columns"
   ]
  },
  {
   "cell_type": "code",
   "execution_count": 26,
   "id": "31c0bae3",
   "metadata": {},
   "outputs": [],
   "source": [
    "feature_cols = [\n",
    "    'node',\n",
    "    'category',\n",
    "    'als_score',\n",
    "    # 'score_popular_items_1d',\n",
    "    # 'score_popular_items_30d',\n",
    "    # 'score_popular_items_by_category_7d',\n",
    "    # 'score_popular_items_by_category_30d',\n",
    "    'popularity_last_7_days',\n",
    "    'popularity_last_30_days',\n",
    "    'trending_items_pd_7_wd_3',\n",
    "    'user_total_interactions',\n",
    "    'user_unique_nodes',\n",
    "    'user_contact_ratio',\n",
    "    'user_recent_interactions'\n",
    "]\n",
    "\n",
    "cat_cols = [\"category\"]\n",
    "\n",
    "target_col = \"is_contact\""
   ]
  },
  {
   "cell_type": "code",
   "execution_count": 27,
   "id": "4a1240a9",
   "metadata": {},
   "outputs": [],
   "source": [
    "model = CatBoostRanker(\n",
    "    boosting_type=\"Plain\",\n",
    "    iterations=300,\n",
    "    learning_rate=0.04,\n",
    "    depth=8,\n",
    "    objective=\"PairLogitPairwise:max_pairs=50000\",\n",
    "    random_seed=42,\n",
    "    eval_metric=\"RecallAt:top=40\",\n",
    "    verbose=50,\n",
    "    nan_mode=\"Min\",\n",
    "    task_type=\"GPU\"\n",
    ")"
   ]
  },
  {
   "cell_type": "code",
   "execution_count": 28,
   "id": "ffc1ef97",
   "metadata": {},
   "outputs": [],
   "source": [
    "train_data_boosting = train_data_for_boosting.sample(fraction=0.8, seed=123).sort(\"cookie\")\n",
    "\n",
    "valid_data_boosting = train_data_for_boosting.join(train_data_boosting, on=train_data_boosting.columns, how=\"anti\").sort(\"cookie\")"
   ]
  },
  {
   "cell_type": "code",
   "execution_count": 29,
   "id": "ac569e38",
   "metadata": {},
   "outputs": [],
   "source": [
    "train_data_boosting = Pool(train_data_boosting.select(feature_cols).to_pandas(), train_data_boosting.select(target_col).to_pandas(), cat_features=cat_cols, group_id=train_data_boosting[\"cookie\"].to_list())\n",
    "\n",
    "valid_data_boosting = Pool(valid_data_boosting.select(feature_cols).to_pandas(), valid_data_boosting.select(target_col).to_pandas(), cat_features=cat_cols, group_id=valid_data_boosting[\"cookie\"].to_list())"
   ]
  },
  {
   "cell_type": "code",
   "execution_count": 30,
   "id": "44f6e337",
   "metadata": {},
   "outputs": [
    {
     "name": "stdout",
     "output_type": "stream",
     "text": [
      "Groupwise loss function. OneHotMaxSize set to 10\n"
     ]
    },
    {
     "name": "stderr",
     "output_type": "stream",
     "text": [
      "Default metric period is 5 because RecallAt is/are not implemented for GPU\n",
      "Metric RecallAt:top=40 is not implemented on GPU. Will use CPU for metric computation, this could significantly affect learning time\n"
     ]
    },
    {
     "name": "stdout",
     "output_type": "stream",
     "text": [
      "0:\tlearn: 0.7947049\ttest: 0.9938499\tbest: 0.9938499 (0)\ttotal: 944ms\tremaining: 4m 42s\n",
      "50:\tlearn: 0.8256061\ttest: 0.9980869\tbest: 0.9981017 (40)\ttotal: 29.9s\tremaining: 2m 25s\n",
      "100:\tlearn: 0.8302167\ttest: 0.9982770\tbest: 0.9983510 (90)\ttotal: 57.8s\tremaining: 1m 53s\n",
      "150:\tlearn: 0.8357528\ttest: 0.9983954\tbest: 0.9984251 (135)\ttotal: 1m 26s\tremaining: 1m 25s\n",
      "200:\tlearn: 0.8396643\ttest: 0.9984794\tbest: 0.9985534 (195)\ttotal: 1m 54s\tremaining: 56.6s\n",
      "250:\tlearn: 0.8443489\ttest: 0.9985287\tbest: 0.9985831 (220)\ttotal: 2m 23s\tremaining: 28s\n",
      "299:\tlearn: 0.8475912\ttest: 0.9985436\tbest: 0.9986127 (280)\ttotal: 2m 51s\tremaining: 0us\n",
      "bestTest = 0.9986126745\n",
      "bestIteration = 280\n",
      "Shrink model to first 281 iterations.\n"
     ]
    },
    {
     "data": {
      "text/plain": [
       "<catboost.core.CatBoostRanker at 0x7f58204b7610>"
      ]
     },
     "execution_count": 30,
     "metadata": {},
     "output_type": "execute_result"
    }
   ],
   "source": [
    "model.fit(\n",
    "    train_data_boosting,\n",
    "    eval_set=valid_data_boosting\n",
    ")"
   ]
  },
  {
   "cell_type": "markdown",
   "id": "0bbfad59",
   "metadata": {},
   "source": [
    "# Оценка моделей\n",
    "## Метрика Recall@K"
   ]
  },
  {
   "cell_type": "code",
   "execution_count": 35,
   "id": "89f6289f",
   "metadata": {},
   "outputs": [
    {
     "name": "stdout",
     "output_type": "stream",
     "text": [
      "\n",
      "Результаты ALS модели на валидационном наборе:\n",
      "ALS_recall@10: 0.0655\n",
      "ALS_recall@20: 0.1041\n",
      "ALS_recall@30: 0.1319\n",
      "ALS_recall@40: 0.1535\n",
      "ALS_recall@50: 0.1733\n",
      "ALS_recall@60: 0.1903\n",
      "ALS_recall@70: 0.2056\n",
      "ALS_recall@100: 0.2436\n"
     ]
    }
   ],
   "source": [
    "def recall_at(df_true, df_pred, k=40):\n",
    "    \"\"\"Вычисляет метрику Recall@K для рекомендаций\"\"\"\n",
    "    return (\n",
    "        df_true[[\"node\", \"cookie\"]]\n",
    "        .join(\n",
    "            df_pred.group_by(\"cookie\")\n",
    "            .head(k)\n",
    "            .with_columns(value=1)[[\"node\", \"cookie\", \"value\"]],\n",
    "            how=\"left\",\n",
    "            on=[\"cookie\", \"node\"],\n",
    "        )\n",
    "        .select([pl.col(\"value\").fill_null(0), \"cookie\"])\n",
    "        .group_by(\"cookie\")\n",
    "        .agg([pl.col(\"value\").sum() / pl.col(\"value\").count()])[\"value\"]\n",
    "        .mean()\n",
    "    )\n",
    "\n",
    "\n",
    "def evaluate_models(\n",
    "    df_true, df_als_pred, df_catboost_pred=None, k_values=[10, 20, 30, 40]\n",
    "):\n",
    "    \"\"\"Сравнивает модели по метрике Recall@K для разных значений K\"\"\"\n",
    "    results = {}\n",
    "\n",
    "    for k in k_values:\n",
    "        results[f\"ALS_recall@{k}\"] = recall_at(df_true, df_als_pred, k=k)\n",
    "        if df_catboost_pred is not None:\n",
    "            results[f\"CatBoost_recall@{k}\"] = recall_at(df_true, df_catboost_pred, k=k)\n",
    "\n",
    "    return results\n",
    "\n",
    "\n",
    "# Оцениваем модель ALS на валидационном наборе\n",
    "als_results = evaluate_models(\n",
    "    df_valid_eval_retrivial, df_pred_alt, k_values=[10, 20, 30, 40, 50, 60, 70, 100]\n",
    ")\n",
    "print(\"\\nРезультаты ALS модели на валидационном наборе:\")\n",
    "for metric, value in als_results.items():\n",
    "    print(f\"{metric}: {value:.4f}\")\n"
   ]
  },
  {
   "cell_type": "code",
   "execution_count": 36,
   "id": "c2481264",
   "metadata": {},
   "outputs": [
    {
     "name": "stderr",
     "output_type": "stream",
     "text": [
      "/tmp/ipykernel_82092/1562741574.py:9: DeprecationWarning: `pl.count()` is deprecated. Please use `pl.len()` instead.\n",
      "  pl.count().alias(\"total_interactions\"),\n"
     ]
    }
   ],
   "source": [
    "# recall_at(df_eval, df_pred_alt, k=40)\n",
    "\n",
    "# Можно сохранить обученные модели и результаты для дальнейшего использования\n",
    "\n",
    "# Пример организации модулей для ClearML:\n",
    "\"\"\"\n",
    "from tools.experiment_tracker import ExperimentTracker\n",
    "\n",
    "# Инициализация трекера экспериментов\n",
    "tracker = ExperimentTracker(project_name=\"avito_cup_ml_2025\", task_name=\"als_catboost_pipeline\")\n",
    "\n",
    "# Логирование параметров\n",
    "tracker.log_params({\n",
    "    'als_factors': 60,\n",
    "    'als_iterations': 10,\n",
    "    'catboost_iterations': 500,\n",
    "    'catboost_learning_rate': 0.05,\n",
    "    'catboost_depth': 6\n",
    "})\n",
    "\n",
    "# Логирование метрик\n",
    "tracker.log_metrics(als_results)\n",
    "\n",
    "# Сохранение моделей\n",
    "tracker.save_model(model, 'catboost_ranker')\n",
    "\n",
    "# Завершение эксперимента\n",
    "tracker.close()\n",
    "\"\"\"\n",
    "\n",
    "\n",
    "df_train_retriever_and_reranker = pl.concat([df_train_retrivial, df_train_reranker])\n",
    "\n",
    "df_clean_retrivial_and_reranker = clean_interactions_for_als(df_train_retriever_and_reranker)\n",
    "\n",
    "# Применение двустадийной модели на тестовом наборе\n",
    "# Сначала получаем рекомендации от ALS\n",
    "\n",
    "if not df_valid_eval_reranker.is_empty():\n",
    "    test_users = df_valid_eval_reranker[\"cookie\"].unique().to_list()\n",
    "else:\n",
    "    # Для тестовых пользователей\n",
    "    test_users = df_test_users[\"cookie\"].unique().to_list()\n",
    "\n",
    "\n",
    "# Объединяем тренировочные и валидационные данные для финального обучения\n",
    "full_train_users = df_clean_retrivial_and_reranker[\"cookie\"]\n",
    "full_train_nodes = df_clean_retrivial_and_reranker[\"node\"]\n",
    "full_weight_for_als = df_clean_retrivial_and_reranker[\"als_weight\"]\n",
    "\n",
    "# Создаем веса на основе обратной частоты и контактности\n",
    "# inverse_freq_weights = create_event_weights(df_train_retriever_and_reranker.select(\"event\"))"
   ]
  },
  {
   "cell_type": "code",
   "execution_count": 37,
   "id": "58b1f2f4",
   "metadata": {},
   "outputs": [
    {
     "name": "stderr",
     "output_type": "stream",
     "text": [
      "100%|██████████| 30/30 [00:36<00:00,  1.21s/it]\n"
     ]
    }
   ],
   "source": [
    "als_retriever = ALSRetriever(iterations=30, factors=100, regularization=0.7)\n",
    "\n",
    "als_retriever.fit(full_train_users, full_train_nodes, is_contact_col=full_weight_for_als)\n",
    "\n",
    "# Получаем предсказания ALS для тестового набора\n",
    "test_als_pred = als_retriever.recommend(test_users, 200)"
   ]
  },
  {
   "cell_type": "code",
   "execution_count": null,
   "id": "47afe95e",
   "metadata": {},
   "outputs": [],
   "source": [
    "# popul_items_retriever.set_data(df_train_retriever_and_reranker, df_cat_features)\n",
    "\n",
    "# popul_nodes_test = popul_items_retriever.recommend(test_users)"
   ]
  },
  {
   "cell_type": "code",
   "execution_count": null,
   "id": "5c25b611",
   "metadata": {},
   "outputs": [],
   "source": [
    "# df_test_retrievers = test_als_pred.join(\n",
    "#     popul_nodes_test,\n",
    "#     on=[\"cookie\", \"node\"],\n",
    "#     how=\"full\",\n",
    "#     coalesce=True\n",
    "# ).fill_null(0)"
   ]
  },
  {
   "cell_type": "code",
   "execution_count": 38,
   "id": "3d1a2ebc",
   "metadata": {},
   "outputs": [
    {
     "name": "stderr",
     "output_type": "stream",
     "text": [
      "/tmp/ipykernel_82092/2869826841.py:66: DeprecationWarning: `pl.count()` is deprecated. Please use `pl.len()` instead.\n",
      "  .agg(pl.count().log1p().alias(f\"popularity_last_{days}_days\"))\n",
      "/tmp/ipykernel_82092/2869826841.py:145: DeprecationWarning: `pl.count()` is deprecated. Please use `pl.len()` instead.\n",
      "  pl.count().alias(\"current_count\")\n",
      "/tmp/ipykernel_82092/2869826841.py:148: DeprecationWarning: `pl.count()` is deprecated. Please use `pl.len()` instead.\n",
      "  prev_pop = prev_data.group_by(\"node\").agg(pl.count().alias(\"previous_count\")).cast(pl.Int32)\n"
     ]
    }
   ],
   "source": [
    "popular_extract = PopularItemsFeatureExtractor(df_train_retriever_and_reranker, df_cat_features)\n",
    "\n",
    "# Получаем популярные товары за последнюю неделю и месяц\n",
    "popular_count_week = popular_extract.get_popular_nodes(days=7)\n",
    "popular_count_month = popular_extract.get_popular_nodes(days=30)\n",
    "trending_count_week = popular_extract.get_trending_items(days_window=3, previous_days=7)"
   ]
  },
  {
   "cell_type": "code",
   "execution_count": 39,
   "id": "cbda95e7",
   "metadata": {},
   "outputs": [
    {
     "name": "stderr",
     "output_type": "stream",
     "text": [
      "/tmp/ipykernel_82092/587475119.py:38: DeprecationWarning: `pl.count()` is deprecated. Please use `pl.len()` instead.\n",
      "  (pl.col(\"is_contact\").sum() / pl.count()).alias(\"user_contact_ratio\"),\n",
      "/tmp/ipykernel_82092/587475119.py:48: DeprecationWarning: `pl.count()` is deprecated. Please use `pl.len()` instead.\n",
      "  pl.count().alias(\"user_recent_interactions\")\n"
     ]
    }
   ],
   "source": [
    "test_data_for_boosting = prepare_features_for_boosting(\n",
    "    test_als_pred,\n",
    "    df_train_retriever_and_reranker,\n",
    "    df_cat_features,\n",
    "    popular_count_week=popular_count_week,\n",
    "    popular_count_month=popular_count_month,\n",
    "    trending_count_week=trending_count_week,\n",
    ").sort(\"cookie\")"
   ]
  },
  {
   "cell_type": "code",
   "execution_count": 40,
   "id": "39ab3df1",
   "metadata": {},
   "outputs": [
    {
     "data": {
      "text/html": [
       "<div><style>\n",
       ".dataframe > thead > tr,\n",
       ".dataframe > tbody > tr {\n",
       "  text-align: right;\n",
       "  white-space: pre-wrap;\n",
       "}\n",
       "</style>\n",
       "<small>shape: (7_027_400, 11)</small><table border=\"1\" class=\"dataframe\"><thead><tr><th>node</th><th>cookie</th><th>als_score</th><th>category</th><th>popularity_last_7_days</th><th>popularity_last_30_days</th><th>trending_items_pd_7_wd_3</th><th>user_total_interactions</th><th>user_unique_nodes</th><th>user_contact_ratio</th><th>user_recent_interactions</th></tr><tr><td>i64</td><td>i64</td><td>f64</td><td>i64</td><td>f64</td><td>f64</td><td>f64</td><td>u32</td><td>u32</td><td>f64</td><td>u32</td></tr></thead><tbody><tr><td>115834</td><td>0</td><td>0.847133</td><td>19</td><td>8.987822</td><td>10.519538</td><td>-0.623267</td><td>258</td><td>83</td><td>0.062016</td><td>33</td></tr><tr><td>214235</td><td>0</td><td>0.746747</td><td>37</td><td>8.664406</td><td>10.163503</td><td>-0.636349</td><td>258</td><td>83</td><td>0.062016</td><td>33</td></tr><tr><td>214234</td><td>0</td><td>0.712815</td><td>37</td><td>9.253974</td><td>10.640364</td><td>-0.585779</td><td>258</td><td>83</td><td>0.062016</td><td>33</td></tr><tr><td>115713</td><td>0</td><td>0.697575</td><td>19</td><td>8.933005</td><td>10.460844</td><td>-0.610191</td><td>258</td><td>83</td><td>0.062016</td><td>33</td></tr><tr><td>1923</td><td>0</td><td>0.657661</td><td>61</td><td>10.057367</td><td>11.3972</td><td>-0.597056</td><td>258</td><td>83</td><td>0.062016</td><td>33</td></tr><tr><td>&hellip;</td><td>&hellip;</td><td>&hellip;</td><td>&hellip;</td><td>&hellip;</td><td>&hellip;</td><td>&hellip;</td><td>&hellip;</td><td>&hellip;</td><td>&hellip;</td><td>&hellip;</td></tr><tr><td>142969</td><td>149997</td><td>0.10444</td><td>24</td><td>6.919684</td><td>8.373554</td><td>-0.550485</td><td>284</td><td>117</td><td>0.052817</td><td>117</td></tr><tr><td>51243</td><td>149997</td><td>0.103798</td><td>49</td><td>8.25062</td><td>9.622119</td><td>-0.577156</td><td>284</td><td>117</td><td>0.052817</td><td>117</td></tr><tr><td>171377</td><td>149997</td><td>0.103651</td><td>32</td><td>4.70048</td><td>6.287859</td><td>-0.655738</td><td>284</td><td>117</td><td>0.052817</td><td>117</td></tr><tr><td>151462</td><td>149997</td><td>0.102778</td><td>40</td><td>7.084226</td><td>8.654169</td><td>-0.719712</td><td>284</td><td>117</td><td>0.052817</td><td>117</td></tr><tr><td>161602</td><td>149997</td><td>0.102078</td><td>41</td><td>5.605802</td><td>7.04316</td><td>-0.49004</td><td>284</td><td>117</td><td>0.052817</td><td>117</td></tr></tbody></table></div>"
      ],
      "text/plain": [
       "shape: (7_027_400, 11)\n",
       "┌────────┬────────┬───────────┬──────────┬───┬─────────────┬─────────────┬────────────┬────────────┐\n",
       "│ node   ┆ cookie ┆ als_score ┆ category ┆ … ┆ user_total_ ┆ user_unique ┆ user_conta ┆ user_recen │\n",
       "│ ---    ┆ ---    ┆ ---       ┆ ---      ┆   ┆ interaction ┆ _nodes      ┆ ct_ratio   ┆ t_interact │\n",
       "│ i64    ┆ i64    ┆ f64       ┆ i64      ┆   ┆ s           ┆ ---         ┆ ---        ┆ ions       │\n",
       "│        ┆        ┆           ┆          ┆   ┆ ---         ┆ u32         ┆ f64        ┆ ---        │\n",
       "│        ┆        ┆           ┆          ┆   ┆ u32         ┆             ┆            ┆ u32        │\n",
       "╞════════╪════════╪═══════════╪══════════╪═══╪═════════════╪═════════════╪════════════╪════════════╡\n",
       "│ 115834 ┆ 0      ┆ 0.847133  ┆ 19       ┆ … ┆ 258         ┆ 83          ┆ 0.062016   ┆ 33         │\n",
       "│ 214235 ┆ 0      ┆ 0.746747  ┆ 37       ┆ … ┆ 258         ┆ 83          ┆ 0.062016   ┆ 33         │\n",
       "│ 214234 ┆ 0      ┆ 0.712815  ┆ 37       ┆ … ┆ 258         ┆ 83          ┆ 0.062016   ┆ 33         │\n",
       "│ 115713 ┆ 0      ┆ 0.697575  ┆ 19       ┆ … ┆ 258         ┆ 83          ┆ 0.062016   ┆ 33         │\n",
       "│ 1923   ┆ 0      ┆ 0.657661  ┆ 61       ┆ … ┆ 258         ┆ 83          ┆ 0.062016   ┆ 33         │\n",
       "│ …      ┆ …      ┆ …         ┆ …        ┆ … ┆ …           ┆ …           ┆ …          ┆ …          │\n",
       "│ 142969 ┆ 149997 ┆ 0.10444   ┆ 24       ┆ … ┆ 284         ┆ 117         ┆ 0.052817   ┆ 117        │\n",
       "│ 51243  ┆ 149997 ┆ 0.103798  ┆ 49       ┆ … ┆ 284         ┆ 117         ┆ 0.052817   ┆ 117        │\n",
       "│ 171377 ┆ 149997 ┆ 0.103651  ┆ 32       ┆ … ┆ 284         ┆ 117         ┆ 0.052817   ┆ 117        │\n",
       "│ 151462 ┆ 149997 ┆ 0.102778  ┆ 40       ┆ … ┆ 284         ┆ 117         ┆ 0.052817   ┆ 117        │\n",
       "│ 161602 ┆ 149997 ┆ 0.102078  ┆ 41       ┆ … ┆ 284         ┆ 117         ┆ 0.052817   ┆ 117        │\n",
       "└────────┴────────┴───────────┴──────────┴───┴─────────────┴─────────────┴────────────┴────────────┘"
      ]
     },
     "execution_count": 40,
     "metadata": {},
     "output_type": "execute_result"
    }
   ],
   "source": [
    "test_data_for_boosting"
   ]
  },
  {
   "cell_type": "code",
   "execution_count": 41,
   "id": "0ef82bba",
   "metadata": {},
   "outputs": [],
   "source": [
    "test_data = Pool(test_data_for_boosting.select(feature_cols).to_pandas(), cat_features=cat_cols, group_id=test_data_for_boosting[\"cookie\"].to_list())"
   ]
  },
  {
   "cell_type": "code",
   "execution_count": 47,
   "id": "ddc9c58f",
   "metadata": {},
   "outputs": [],
   "source": [
    "df_pred_catboost = (\n",
    "    pl.DataFrame(\n",
    "        {\n",
    "            \"node\": test_data_for_boosting[\"node\"],\n",
    "            \"cookie\": test_data_for_boosting[\"cookie\"],\n",
    "            \"catboost_score\": model.predict(test_data),\n",
    "        }\n",
    "    )\n",
    "    .sort(by=[\"cookie\", \"catboost_score\"], descending=[False, True])\n",
    "    .group_by(\"cookie\")\n",
    "    .head(100)\n",
    ")"
   ]
  },
  {
   "cell_type": "code",
   "execution_count": 48,
   "id": "4fee03da",
   "metadata": {},
   "outputs": [],
   "source": [
    "# df_pred_catboost[[\"cookie\", \"node\"]].write_csv(\"../data/predict/baseline_als_catboost_v1.0.csv\")"
   ]
  },
  {
   "cell_type": "code",
   "execution_count": 49,
   "id": "d5456ca6",
   "metadata": {},
   "outputs": [],
   "source": [
    "# sorted(df_pred_catboost[\"cookie\"].unique().to_list()) == sorted(test_users)"
   ]
  },
  {
   "cell_type": "code",
   "execution_count": 50,
   "id": "48f56a96",
   "metadata": {},
   "outputs": [
    {
     "data": {
      "text/html": [
       "<div><style>\n",
       ".dataframe > thead > tr,\n",
       ".dataframe > tbody > tr {\n",
       "  text-align: right;\n",
       "  white-space: pre-wrap;\n",
       "}\n",
       "</style>\n",
       "<small>shape: (74_771, 3)</small><table border=\"1\" class=\"dataframe\"><thead><tr><th>cookie</th><th>node</th><th>event</th></tr><tr><td>i64</td><td>u32</td><td>i64</td></tr></thead><tbody><tr><td>62567</td><td>214290</td><td>10</td></tr><tr><td>125487</td><td>31674</td><td>14</td></tr><tr><td>67774</td><td>290456</td><td>10</td></tr><tr><td>124555</td><td>222392</td><td>15</td></tr><tr><td>128032</td><td>214262</td><td>10</td></tr><tr><td>&hellip;</td><td>&hellip;</td><td>&hellip;</td></tr><tr><td>18916</td><td>237525</td><td>10</td></tr><tr><td>30705</td><td>303222</td><td>13</td></tr><tr><td>46155</td><td>271546</td><td>10</td></tr><tr><td>45911</td><td>130615</td><td>10</td></tr><tr><td>125843</td><td>170538</td><td>10</td></tr></tbody></table></div>"
      ],
      "text/plain": [
       "shape: (74_771, 3)\n",
       "┌────────┬────────┬───────┐\n",
       "│ cookie ┆ node   ┆ event │\n",
       "│ ---    ┆ ---    ┆ ---   │\n",
       "│ i64    ┆ u32    ┆ i64   │\n",
       "╞════════╪════════╪═══════╡\n",
       "│ 62567  ┆ 214290 ┆ 10    │\n",
       "│ 125487 ┆ 31674  ┆ 14    │\n",
       "│ 67774  ┆ 290456 ┆ 10    │\n",
       "│ 124555 ┆ 222392 ┆ 15    │\n",
       "│ 128032 ┆ 214262 ┆ 10    │\n",
       "│ …      ┆ …      ┆ …     │\n",
       "│ 18916  ┆ 237525 ┆ 10    │\n",
       "│ 30705  ┆ 303222 ┆ 13    │\n",
       "│ 46155  ┆ 271546 ┆ 10    │\n",
       "│ 45911  ┆ 130615 ┆ 10    │\n",
       "│ 125843 ┆ 170538 ┆ 10    │\n",
       "└────────┴────────┴───────┘"
      ]
     },
     "execution_count": 50,
     "metadata": {},
     "output_type": "execute_result"
    }
   ],
   "source": [
    "df_valid_eval_reranker"
   ]
  },
  {
   "cell_type": "code",
   "execution_count": 51,
   "id": "97c8f442",
   "metadata": {},
   "outputs": [
    {
     "name": "stdout",
     "output_type": "stream",
     "text": [
      "\n",
      "Результаты ALS модели на тестовом наборе:\n",
      "ALS_recall@10: 0.0679\n",
      "CatBoost_recall@10: 0.0737\n",
      "ALS_recall@20: 0.1035\n",
      "CatBoost_recall@20: 0.1129\n",
      "ALS_recall@30: 0.1297\n",
      "CatBoost_recall@30: 0.1429\n",
      "ALS_recall@40: 0.1519\n",
      "CatBoost_recall@40: 0.1672\n",
      "ALS_recall@60: 0.1872\n",
      "CatBoost_recall@60: 0.2044\n",
      "ALS_recall@70: 0.2029\n",
      "CatBoost_recall@70: 0.2195\n",
      "ALS_recall@100: 0.2419\n",
      "CatBoost_recall@100: 0.2575\n"
     ]
    }
   ],
   "source": [
    "test_als_results = evaluate_models(\n",
    "    df_valid_eval_reranker, test_als_pred, df_pred_catboost, k_values=[10, 20, 30, 40, 60, 70, 100]\n",
    ")\n",
    "print(\"\\nРезультаты ALS модели на тестовом наборе:\")\n",
    "for metric, value in test_als_results.items():\n",
    "    print(f\"{metric}: {value:.4f}\")"
   ]
  },
  {
   "cell_type": "code",
   "execution_count": null,
   "id": "af0d13c5",
   "metadata": {},
   "outputs": [],
   "source": []
  }
 ],
 "metadata": {
  "kernelspec": {
   "display_name": ".venv",
   "language": "python",
   "name": "python3"
  },
  "language_info": {
   "codemirror_mode": {
    "name": "ipython",
    "version": 3
   },
   "file_extension": ".py",
   "mimetype": "text/x-python",
   "name": "python",
   "nbconvert_exporter": "python",
   "pygments_lexer": "ipython3",
   "version": "3.12.10"
  }
 },
 "nbformat": 4,
 "nbformat_minor": 5
}
