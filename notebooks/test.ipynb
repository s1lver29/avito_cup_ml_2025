{
 "cells": [
  {
   "cell_type": "code",
   "execution_count": 1,
   "id": "50c55da4",
   "metadata": {},
   "outputs": [
    {
     "data": {
      "application/javascript": "IPython.notebook.set_autosave_interval(60000)"
     },
     "metadata": {},
     "output_type": "display_data"
    },
    {
     "name": "stdout",
     "output_type": "stream",
     "text": [
      "Autosaving every 60 seconds\n"
     ]
    }
   ],
   "source": [
    "%autosave 60\n",
    "%reload_ext autoreload\n",
    "%autoreload 2\n",
    "\n",
    "import sys\n",
    "\n",
    "sys.path.insert(0, \"..\")"
   ]
  },
  {
   "cell_type": "code",
   "execution_count": 2,
   "id": "4714a882",
   "metadata": {},
   "outputs": [],
   "source": [
    "import hydra\n",
    "from omegaconf import DictConfig\n",
    "from hydra import compose, initialize\n",
    "\n",
    "\n",
    "import polars as pl\n",
    "from tools.retrievers import PopularItemsRetriever"
   ]
  },
  {
   "cell_type": "code",
   "execution_count": 3,
   "id": "e7f733a6",
   "metadata": {},
   "outputs": [],
   "source": [
    "def main(config_path, config_name):\n",
    "    with initialize(config_path=config_path, version_base=None):\n",
    "        cfg = compose(config_name=config_name)\n",
    "\n",
    "        return cfg"
   ]
  },
  {
   "cell_type": "code",
   "execution_count": 4,
   "id": "c7fff809",
   "metadata": {},
   "outputs": [],
   "source": [
    "test = main(\"../configs/retrieval_models\", \"popular\")"
   ]
  },
  {
   "cell_type": "code",
   "execution_count": 5,
   "id": "23344f7e",
   "metadata": {},
   "outputs": [],
   "source": [
    "from pathlib import Path\n",
    "\n",
    "DATA_DIR = Path.cwd().parent / \"data\" / \"avito_ml_cup\"\n",
    "\n",
    "df_test_users = pl.read_parquet(f\"{DATA_DIR}/test_users.pq\")\n",
    "df_clickstream = pl.read_parquet(f\"{DATA_DIR}/clickstream.pq\", n_rows=100_000)\n",
    "\n",
    "df_cat_features = pl.read_parquet(f\"{DATA_DIR}/cat_features.pq\", n_rows=100_000)\n",
    "df_text_features = pl.read_parquet(f\"{DATA_DIR}/text_features.pq\", n_rows=100_000)\n",
    "df_event = pl.read_parquet(f\"{DATA_DIR}/events.pq\")"
   ]
  },
  {
   "cell_type": "code",
   "execution_count": 6,
   "id": "088b00bc",
   "metadata": {},
   "outputs": [],
   "source": [
    "popul_items_retriever = PopularItemsRetriever(test)"
   ]
  },
  {
   "cell_type": "code",
   "execution_count": 7,
   "id": "9b045c88",
   "metadata": {},
   "outputs": [],
   "source": [
    "popul_items_retriever.set_data(df_clickstream, df_cat_features)"
   ]
  },
  {
   "cell_type": "code",
   "execution_count": 8,
   "id": "0f6f81fe",
   "metadata": {},
   "outputs": [],
   "source": [
    "test_df = popul_items_retriever.recommend(df_test_users.head(10)[\"cookie\"].to_list())"
   ]
  },
  {
   "cell_type": "code",
   "execution_count": 97,
   "id": "a4aa74be",
   "metadata": {},
   "outputs": [
    {
     "data": {
      "text/html": [
       "<div><style>\n",
       ".dataframe > thead > tr,\n",
       ".dataframe > tbody > tr {\n",
       "  text-align: right;\n",
       "  white-space: pre-wrap;\n",
       "}\n",
       "</style>\n",
       "<small>shape: (5, 5)</small><table border=\"1\" class=\"dataframe\"><thead><tr><th>cookie</th><th>node</th><th>score_popular_items_1d</th><th>score_popular_items_by_category_2d</th><th>score_popular_items_by_category_7d</th></tr><tr><td>i64</td><td>i64</td><td>f64</td><td>f64</td><td>f64</td></tr></thead><tbody><tr><td>66590</td><td>130592</td><td>0.702788</td><td>0.946395</td><td>1.0</td></tr><tr><td>105000</td><td>147620</td><td>0.427663</td><td>0.885622</td><td>null</td></tr><tr><td>143535</td><td>71524</td><td>0.52444</td><td>0.658265</td><td>0.648548</td></tr><tr><td>111026</td><td>158112</td><td>null</td><td>null</td><td>0.315465</td></tr><tr><td>129902</td><td>155666</td><td>0.496328</td><td>1.0</td><td>1.0</td></tr></tbody></table></div>"
      ],
      "text/plain": [
       "shape: (5, 5)\n",
       "┌────────┬────────┬────────────────────────┬───────────────────────────┬───────────────────────────┐\n",
       "│ cookie ┆ node   ┆ score_popular_items_1d ┆ score_popular_items_by_ca ┆ score_popular_items_by_ca │\n",
       "│ ---    ┆ ---    ┆ ---                    ┆ tegor…                    ┆ tegor…                    │\n",
       "│ i64    ┆ i64    ┆ f64                    ┆ ---                       ┆ ---                       │\n",
       "│        ┆        ┆                        ┆ f64                       ┆ f64                       │\n",
       "╞════════╪════════╪════════════════════════╪═══════════════════════════╪═══════════════════════════╡\n",
       "│ 66590  ┆ 130592 ┆ 0.702788               ┆ 0.946395                  ┆ 1.0                       │\n",
       "│ 105000 ┆ 147620 ┆ 0.427663               ┆ 0.885622                  ┆ null                      │\n",
       "│ 143535 ┆ 71524  ┆ 0.52444                ┆ 0.658265                  ┆ 0.648548                  │\n",
       "│ 111026 ┆ 158112 ┆ null                   ┆ null                      ┆ 0.315465                  │\n",
       "│ 129902 ┆ 155666 ┆ 0.496328               ┆ 1.0                       ┆ 1.0                       │\n",
       "└────────┴────────┴────────────────────────┴───────────────────────────┴───────────────────────────┘"
      ]
     },
     "execution_count": 97,
     "metadata": {},
     "output_type": "execute_result"
    }
   ],
   "source": [
    "test_df.sort(\"score_popular_items_by_category_7d\", nulls_last=True, descending=True).sample(5)"
   ]
  },
  {
   "cell_type": "code",
   "execution_count": 11,
   "id": "e361598b",
   "metadata": {},
   "outputs": [
    {
     "data": {
      "text/plain": [
       "[{'id': 'popular_items_1d', 'function': 'get_popular_items', 'output_column': 'score_popular_items_1d', 'params': {'days': 1, 'top_k': 200, 'use_cache': True}}, {'id': 'popular_items_2d', 'function': 'get_popular_items_by_category', 'output_column': 'score_popular_items_by_category_2d', 'params': {'days': 2, 'top_k': 10, 'use_cache': True}}]"
      ]
     },
     "execution_count": 11,
     "metadata": {},
     "output_type": "execute_result"
    }
   ],
   "source": [
    "test[\"methods\"]"
   ]
  },
  {
   "cell_type": "code",
   "execution_count": 28,
   "id": "69f6f84f",
   "metadata": {},
   "outputs": [],
   "source": [
    "import json\n",
    "from collections import defaultdict\n",
    "from tqdm import tqdm"
   ]
  },
  {
   "cell_type": "code",
   "execution_count": 31,
   "id": "8e4c4838",
   "metadata": {},
   "outputs": [
    {
     "name": "stderr",
     "output_type": "stream",
     "text": [
      "  0%|          | 0/100000 [00:00<?, ?it/s]"
     ]
    },
    {
     "name": "stderr",
     "output_type": "stream",
     "text": [
      "100%|██████████| 100000/100000 [00:00<00:00, 122579.14it/s]\n"
     ]
    }
   ],
   "source": [
    "attrs_items = defaultdict(set)\n",
    "\n",
    "for data_json in tqdm(df_cat_features[\"clean_params\"]):\n",
    "    for items in json.loads(data_json):\n",
    "        attrs_items.setdefault(items[\"attr\"], set()).add(items[\"value\"])"
   ]
  },
  {
   "cell_type": "code",
   "execution_count": 43,
   "id": "b8de7572",
   "metadata": {},
   "outputs": [
    {
     "data": {
      "text/html": [
       "<div><style>\n",
       ".dataframe > thead > tr,\n",
       ".dataframe > tbody > tr {\n",
       "  text-align: right;\n",
       "  white-space: pre-wrap;\n",
       "}\n",
       "</style>\n",
       "<small>shape: (22_849, 2)</small><table border=\"1\" class=\"dataframe\"><thead><tr><th>node</th><th>location</th></tr><tr><td>u32</td><td>u32</td></tr></thead><tbody><tr><td>170538</td><td>2066</td></tr><tr><td>151453</td><td>1377</td></tr><tr><td>71514</td><td>849</td></tr><tr><td>71511</td><td>603</td></tr><tr><td>71546</td><td>584</td></tr><tr><td>&hellip;</td><td>&hellip;</td></tr><tr><td>272618</td><td>1</td></tr><tr><td>356631</td><td>1</td></tr><tr><td>70475</td><td>1</td></tr><tr><td>234893</td><td>1</td></tr><tr><td>179804</td><td>1</td></tr></tbody></table></div>"
      ],
      "text/plain": [
       "shape: (22_849, 2)\n",
       "┌────────┬──────────┐\n",
       "│ node   ┆ location │\n",
       "│ ---    ┆ ---      │\n",
       "│ u32    ┆ u32      │\n",
       "╞════════╪══════════╡\n",
       "│ 170538 ┆ 2066     │\n",
       "│ 151453 ┆ 1377     │\n",
       "│ 71514  ┆ 849      │\n",
       "│ 71511  ┆ 603      │\n",
       "│ 71546  ┆ 584      │\n",
       "│ …      ┆ …        │\n",
       "│ 272618 ┆ 1        │\n",
       "│ 356631 ┆ 1        │\n",
       "│ 70475  ┆ 1        │\n",
       "│ 234893 ┆ 1        │\n",
       "│ 179804 ┆ 1        │\n",
       "└────────┴──────────┘"
      ]
     },
     "execution_count": 43,
     "metadata": {},
     "output_type": "execute_result"
    }
   ],
   "source": [
    "df_cat_features.group_by(\"node\").agg(\n",
    "    pl.col(\"location\").len()\n",
    ").sort(\"location\", descending=True)"
   ]
  },
  {
   "cell_type": "code",
   "execution_count": 14,
   "id": "fc1ca911",
   "metadata": {},
   "outputs": [
    {
     "data": {
      "text/html": [
       "<div><style>\n",
       ".dataframe > thead > tr,\n",
       ".dataframe > tbody > tr {\n",
       "  text-align: right;\n",
       "  white-space: pre-wrap;\n",
       "}\n",
       "</style>\n",
       "<small>shape: (22_849, 2)</small><table border=\"1\" class=\"dataframe\"><thead><tr><th>node</th><th>category</th></tr><tr><td>u32</td><td>i64</td></tr></thead><tbody><tr><td>7</td><td>30</td></tr><tr><td>8</td><td>30</td></tr><tr><td>9</td><td>30</td></tr><tr><td>10</td><td>30</td></tr><tr><td>11</td><td>30</td></tr><tr><td>&hellip;</td><td>&hellip;</td></tr><tr><td>423206</td><td>51</td></tr><tr><td>423237</td><td>51</td></tr><tr><td>423278</td><td>51</td></tr><tr><td>423445</td><td>51</td></tr><tr><td>424014</td><td>51</td></tr></tbody></table></div>"
      ],
      "text/plain": [
       "shape: (22_849, 2)\n",
       "┌────────┬──────────┐\n",
       "│ node   ┆ category │\n",
       "│ ---    ┆ ---      │\n",
       "│ u32    ┆ i64      │\n",
       "╞════════╪══════════╡\n",
       "│ 7      ┆ 30       │\n",
       "│ 8      ┆ 30       │\n",
       "│ 9      ┆ 30       │\n",
       "│ 10     ┆ 30       │\n",
       "│ 11     ┆ 30       │\n",
       "│ …      ┆ …        │\n",
       "│ 423206 ┆ 51       │\n",
       "│ 423237 ┆ 51       │\n",
       "│ 423278 ┆ 51       │\n",
       "│ 423445 ┆ 51       │\n",
       "│ 424014 ┆ 51       │\n",
       "└────────┴──────────┘"
      ]
     },
     "execution_count": 14,
     "metadata": {},
     "output_type": "execute_result"
    }
   ],
   "source": [
    "df_cat_features[[\"node\", \"category\"]].unique().sort(\"node\")"
   ]
  }
 ],
 "metadata": {
  "kernelspec": {
   "display_name": ".venv",
   "language": "python",
   "name": "python3"
  },
  "language_info": {
   "codemirror_mode": {
    "name": "ipython",
    "version": 3
   },
   "file_extension": ".py",
   "mimetype": "text/x-python",
   "name": "python",
   "nbconvert_exporter": "python",
   "pygments_lexer": "ipython3",
   "version": "3.12.10"
  }
 },
 "nbformat": 4,
 "nbformat_minor": 5
}
