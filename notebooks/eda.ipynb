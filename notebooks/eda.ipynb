{
 "cells": [
  {
   "cell_type": "code",
   "execution_count": 29,
   "id": "326ac7ff",
   "metadata": {},
   "outputs": [],
   "source": [
    "import polars as pl\n",
    "\n",
    "from pathlib import Path\n",
    "import os\n",
    "import json"
   ]
  },
  {
   "cell_type": "code",
   "execution_count": 2,
   "id": "13db41cd",
   "metadata": {},
   "outputs": [],
   "source": [
    "DATA_DIR = Path.cwd().parent / \"data\" / \"avito_ml_cup\""
   ]
  },
  {
   "cell_type": "markdown",
   "id": "ed4d5053",
   "metadata": {},
   "source": [
    "# Просмотр данных"
   ]
  },
  {
   "cell_type": "markdown",
   "id": "65b946c7",
   "metadata": {},
   "source": [
    "**clickstream.pq**\n",
    "- *cookie* - id пользователя [int64]\n",
    "- *item* - id объявления [int64]\n",
    "- *event* - id тип события [int64]. Например “клик”, “показать телефон”, “написать в мессенджер”\n",
    "- *event_date* - время, когда пользователь провзаимодействовал с айтемом datetime[ns]\n",
    "- *surface*  - экран, с которого было взаимодействие. Например пользователь может взаимодействовать с айтемом на поисковой выдаче, во вкладке “Избранное” [int64]\n",
    "- *platform* -  тип устройства, с которого пользователь совершил действие. Например - android, ios, desktop, браузер в телефоне [int64]\n",
    "- *node* - id группы товара. Сущность , которую необходимо предсказать [int64]"
   ]
  },
  {
   "cell_type": "code",
   "execution_count": 3,
   "id": "3a566b34",
   "metadata": {},
   "outputs": [
    {
     "name": "stdout",
     "output_type": "stream",
     "text": [
      "(1000000, 7)\n"
     ]
    },
    {
     "data": {
      "text/html": [
       "<div><style>\n",
       ".dataframe > thead > tr,\n",
       ".dataframe > tbody > tr {\n",
       "  text-align: right;\n",
       "  white-space: pre-wrap;\n",
       "}\n",
       "</style>\n",
       "<small>shape: (5, 7)</small><table border=\"1\" class=\"dataframe\"><thead><tr><th>cookie</th><th>item</th><th>event</th><th>event_date</th><th>platform</th><th>surface</th><th>node</th></tr><tr><td>i64</td><td>i64</td><td>i64</td><td>datetime[ns]</td><td>i64</td><td>i64</td><td>u32</td></tr></thead><tbody><tr><td>0</td><td>19915558</td><td>17</td><td>2025-02-05 02:30:59</td><td>3</td><td>2</td><td>115659</td></tr><tr><td>0</td><td>2680232</td><td>17</td><td>2025-01-24 21:16:57</td><td>3</td><td>2</td><td>115829</td></tr><tr><td>1</td><td>4247649</td><td>17</td><td>2025-01-29 23:00:58</td><td>2</td><td>2</td><td>7</td></tr><tr><td>1</td><td>4247649</td><td>17</td><td>2025-02-17 14:55:17</td><td>2</td><td>2</td><td>7</td></tr><tr><td>1</td><td>2171135</td><td>17</td><td>2025-01-17 19:23:29</td><td>2</td><td>2</td><td>214458</td></tr></tbody></table></div>"
      ],
      "text/plain": [
       "shape: (5, 7)\n",
       "┌────────┬──────────┬───────┬─────────────────────┬──────────┬─────────┬────────┐\n",
       "│ cookie ┆ item     ┆ event ┆ event_date          ┆ platform ┆ surface ┆ node   │\n",
       "│ ---    ┆ ---      ┆ ---   ┆ ---                 ┆ ---      ┆ ---     ┆ ---    │\n",
       "│ i64    ┆ i64      ┆ i64   ┆ datetime[ns]        ┆ i64      ┆ i64     ┆ u32    │\n",
       "╞════════╪══════════╪═══════╪═════════════════════╪══════════╪═════════╪════════╡\n",
       "│ 0      ┆ 19915558 ┆ 17    ┆ 2025-02-05 02:30:59 ┆ 3        ┆ 2       ┆ 115659 │\n",
       "│ 0      ┆ 2680232  ┆ 17    ┆ 2025-01-24 21:16:57 ┆ 3        ┆ 2       ┆ 115829 │\n",
       "│ 1      ┆ 4247649  ┆ 17    ┆ 2025-01-29 23:00:58 ┆ 2        ┆ 2       ┆ 7      │\n",
       "│ 1      ┆ 4247649  ┆ 17    ┆ 2025-02-17 14:55:17 ┆ 2        ┆ 2       ┆ 7      │\n",
       "│ 1      ┆ 2171135  ┆ 17    ┆ 2025-01-17 19:23:29 ┆ 2        ┆ 2       ┆ 214458 │\n",
       "└────────┴──────────┴───────┴─────────────────────┴──────────┴─────────┴────────┘"
      ]
     },
     "execution_count": 3,
     "metadata": {},
     "output_type": "execute_result"
    }
   ],
   "source": [
    "df_clickstream = pl.read_parquet(f'{DATA_DIR}/clickstream.pq', n_rows=1_000_000)\n",
    "\n",
    "print(df_clickstream.shape)\n",
    "df_clickstream.head()"
   ]
  },
  {
   "cell_type": "code",
   "execution_count": 68,
   "id": "7a8113c1",
   "metadata": {},
   "outputs": [
    {
     "data": {
      "text/html": [
       "<div><style>\n",
       ".dataframe > thead > tr,\n",
       ".dataframe > tbody > tr {\n",
       "  text-align: right;\n",
       "  white-space: pre-wrap;\n",
       "}\n",
       "</style>\n",
       "<small>shape: (10, 2)</small><table border=\"1\" class=\"dataframe\"><thead><tr><th>event</th><th>count</th></tr><tr><td>i64</td><td>u32</td></tr></thead><tbody><tr><td>17</td><td>888775</td></tr><tr><td>11</td><td>62748</td></tr><tr><td>12</td><td>12209</td></tr><tr><td>10</td><td>11896</td></tr><tr><td>15</td><td>4851</td></tr><tr><td>3</td><td>4246</td></tr><tr><td>5</td><td>4178</td></tr><tr><td>19</td><td>2785</td></tr><tr><td>8</td><td>2291</td></tr><tr><td>4</td><td>1868</td></tr></tbody></table></div>"
      ],
      "text/plain": [
       "shape: (10, 2)\n",
       "┌───────┬────────┐\n",
       "│ event ┆ count  │\n",
       "│ ---   ┆ ---    │\n",
       "│ i64   ┆ u32    │\n",
       "╞═══════╪════════╡\n",
       "│ 17    ┆ 888775 │\n",
       "│ 11    ┆ 62748  │\n",
       "│ 12    ┆ 12209  │\n",
       "│ 10    ┆ 11896  │\n",
       "│ 15    ┆ 4851   │\n",
       "│ 3     ┆ 4246   │\n",
       "│ 5     ┆ 4178   │\n",
       "│ 19    ┆ 2785   │\n",
       "│ 8     ┆ 2291   │\n",
       "│ 4     ┆ 1868   │\n",
       "└───────┴────────┘"
      ]
     },
     "execution_count": 68,
     "metadata": {},
     "output_type": "execute_result"
    }
   ],
   "source": [
    "df_clickstream[\"event\"].n_unique()\n",
    "df_clickstream[\"event\"].value_counts().sort(by=\"count\", descending=True).head(10)"
   ]
  },
  {
   "cell_type": "code",
   "execution_count": 12,
   "id": "50a7306d",
   "metadata": {},
   "outputs": [
    {
     "data": {
      "text/html": [
       "<div><style>\n",
       ".dataframe > thead > tr,\n",
       ".dataframe > tbody > tr {\n",
       "  text-align: right;\n",
       "  white-space: pre-wrap;\n",
       "}\n",
       "</style>\n",
       "<small>shape: (10, 2)</small><table border=\"1\" class=\"dataframe\"><thead><tr><th>surface</th><th>count</th></tr><tr><td>i64</td><td>u32</td></tr></thead><tbody><tr><td>2</td><td>481762</td></tr><tr><td>11</td><td>298096</td></tr><tr><td>3</td><td>58409</td></tr><tr><td>5</td><td>58024</td></tr><tr><td>15</td><td>40741</td></tr><tr><td>8</td><td>28916</td></tr><tr><td>17</td><td>16016</td></tr><tr><td>14</td><td>13520</td></tr><tr><td>4</td><td>1241</td></tr><tr><td>10</td><td>1088</td></tr></tbody></table></div>"
      ],
      "text/plain": [
       "shape: (10, 2)\n",
       "┌─────────┬────────┐\n",
       "│ surface ┆ count  │\n",
       "│ ---     ┆ ---    │\n",
       "│ i64     ┆ u32    │\n",
       "╞═════════╪════════╡\n",
       "│ 2       ┆ 481762 │\n",
       "│ 11      ┆ 298096 │\n",
       "│ 3       ┆ 58409  │\n",
       "│ 5       ┆ 58024  │\n",
       "│ 15      ┆ 40741  │\n",
       "│ 8       ┆ 28916  │\n",
       "│ 17      ┆ 16016  │\n",
       "│ 14      ┆ 13520  │\n",
       "│ 4       ┆ 1241   │\n",
       "│ 10      ┆ 1088   │\n",
       "└─────────┴────────┘"
      ]
     },
     "execution_count": 12,
     "metadata": {},
     "output_type": "execute_result"
    }
   ],
   "source": [
    "df_clickstream[\"surface\"].value_counts().sort(by=\"count\", descending=True).head(10)"
   ]
  },
  {
   "cell_type": "code",
   "execution_count": 16,
   "id": "b66a647b",
   "metadata": {},
   "outputs": [
    {
     "data": {
      "text/html": [
       "<div><style>\n",
       ".dataframe > thead > tr,\n",
       ".dataframe > tbody > tr {\n",
       "  text-align: right;\n",
       "  white-space: pre-wrap;\n",
       "}\n",
       "</style>\n",
       "<small>shape: (6, 2)</small><table border=\"1\" class=\"dataframe\"><thead><tr><th>platform</th><th>count</th></tr><tr><td>i64</td><td>u32</td></tr></thead><tbody><tr><td>2</td><td>587621</td></tr><tr><td>3</td><td>350551</td></tr><tr><td>0</td><td>32648</td></tr><tr><td>5</td><td>28955</td></tr><tr><td>1</td><td>141</td></tr><tr><td>4</td><td>84</td></tr></tbody></table></div>"
      ],
      "text/plain": [
       "shape: (6, 2)\n",
       "┌──────────┬────────┐\n",
       "│ platform ┆ count  │\n",
       "│ ---      ┆ ---    │\n",
       "│ i64      ┆ u32    │\n",
       "╞══════════╪════════╡\n",
       "│ 2        ┆ 587621 │\n",
       "│ 3        ┆ 350551 │\n",
       "│ 0        ┆ 32648  │\n",
       "│ 5        ┆ 28955  │\n",
       "│ 1        ┆ 141    │\n",
       "│ 4        ┆ 84     │\n",
       "└──────────┴────────┘"
      ]
     },
     "execution_count": 16,
     "metadata": {},
     "output_type": "execute_result"
    }
   ],
   "source": [
    "df_clickstream[\"platform\"].value_counts().sort(by=\"count\", descending=True)"
   ]
  },
  {
   "cell_type": "code",
   "execution_count": 17,
   "id": "0d10710e",
   "metadata": {},
   "outputs": [
    {
     "data": {
      "text/plain": [
       "73227"
      ]
     },
     "execution_count": 17,
     "metadata": {},
     "output_type": "execute_result"
    }
   ],
   "source": [
    "df_clickstream[\"node\"].n_unique()"
   ]
  },
  {
   "cell_type": "markdown",
   "id": "2be4f217",
   "metadata": {},
   "source": [
    "**cat_features.pq**\n",
    "- *item* -  id объявления [int64]\n",
    "- *location* - id локации айтема.  [int64]\n",
    "- *category* - id категории товара. [int64]\n",
    "- *clean_params* - параметры объявления. В примере [{\"attr\":859,\"value\":653982} …]  attr - это id атрибута, value - это id значения атрибута [str]\n",
    "- *node* - id группы товара. Сущность , которую необходимо предсказать [int64]"
   ]
  },
  {
   "cell_type": "code",
   "execution_count": 18,
   "id": "7d23edd6",
   "metadata": {},
   "outputs": [
    {
     "data": {
      "text/html": [
       "<div><style>\n",
       ".dataframe > thead > tr,\n",
       ".dataframe > tbody > tr {\n",
       "  text-align: right;\n",
       "  white-space: pre-wrap;\n",
       "}\n",
       "</style>\n",
       "<small>shape: (5, 5)</small><table border=\"1\" class=\"dataframe\"><thead><tr><th>item</th><th>location</th><th>category</th><th>clean_params</th><th>node</th></tr><tr><td>i64</td><td>i64</td><td>i64</td><td>str</td><td>u32</td></tr></thead><tbody><tr><td>9</td><td>8385</td><td>57</td><td>&quot;[{&quot;attr&quot;:1157,&quot;value&quot;:664427},…</td><td>194747</td></tr><tr><td>17</td><td>2707</td><td>35</td><td>&quot;[{&quot;attr&quot;:2140,&quot;value&quot;:501466},…</td><td>352905</td></tr><tr><td>144</td><td>8383</td><td>8</td><td>&quot;[{&quot;attr&quot;:802,&quot;value&quot;:35791},{&quot;…</td><td>17188</td></tr><tr><td>202</td><td>5397</td><td>57</td><td>&quot;[{&quot;attr&quot;:1157,&quot;value&quot;:490527},…</td><td>194766</td></tr><tr><td>236</td><td>2105</td><td>64</td><td>&quot;[{&quot;attr&quot;:112,&quot;value&quot;:420797},{…</td><td>153951</td></tr></tbody></table></div>"
      ],
      "text/plain": [
       "shape: (5, 5)\n",
       "┌──────┬──────────┬──────────┬─────────────────────────────────┬────────┐\n",
       "│ item ┆ location ┆ category ┆ clean_params                    ┆ node   │\n",
       "│ ---  ┆ ---      ┆ ---      ┆ ---                             ┆ ---    │\n",
       "│ i64  ┆ i64      ┆ i64      ┆ str                             ┆ u32    │\n",
       "╞══════╪══════════╪══════════╪═════════════════════════════════╪════════╡\n",
       "│ 9    ┆ 8385     ┆ 57       ┆ [{\"attr\":1157,\"value\":664427},… ┆ 194747 │\n",
       "│ 17   ┆ 2707     ┆ 35       ┆ [{\"attr\":2140,\"value\":501466},… ┆ 352905 │\n",
       "│ 144  ┆ 8383     ┆ 8        ┆ [{\"attr\":802,\"value\":35791},{\"… ┆ 17188  │\n",
       "│ 202  ┆ 5397     ┆ 57       ┆ [{\"attr\":1157,\"value\":490527},… ┆ 194766 │\n",
       "│ 236  ┆ 2105     ┆ 64       ┆ [{\"attr\":112,\"value\":420797},{… ┆ 153951 │\n",
       "└──────┴──────────┴──────────┴─────────────────────────────────┴────────┘"
      ]
     },
     "execution_count": 18,
     "metadata": {},
     "output_type": "execute_result"
    }
   ],
   "source": [
    "df_cat_features = pl.read_parquet(f'{DATA_DIR}/cat_features.pq', n_rows=1_000_000)\n",
    "\n",
    "df_cat_features.head()"
   ]
  },
  {
   "cell_type": "code",
   "execution_count": 49,
   "id": "2a9120e5",
   "metadata": {},
   "outputs": [
    {
     "data": {
      "text/plain": [
       "16"
      ]
     },
     "execution_count": 49,
     "metadata": {},
     "output_type": "execute_result"
    }
   ],
   "source": [
    "json_feature = json.loads(df_cat_features[\"clean_params\"].sample(1)[0])\n",
    "\n",
    "len(json_feature)"
   ]
  },
  {
   "cell_type": "code",
   "execution_count": null,
   "id": "646d64ea",
   "metadata": {},
   "outputs": [
    {
     "data": {
      "text/plain": [
       "3688"
      ]
     },
     "execution_count": 52,
     "metadata": {},
     "output_type": "execute_result"
    }
   ],
   "source": [
    "df_cat_features[\"location\"].n_unique()"
   ]
  },
  {
   "cell_type": "code",
   "execution_count": 54,
   "id": "22ed3dc2",
   "metadata": {},
   "outputs": [
    {
     "data": {
      "text/html": [
       "<div><style>\n",
       ".dataframe > thead > tr,\n",
       ".dataframe > tbody > tr {\n",
       "  text-align: right;\n",
       "  white-space: pre-wrap;\n",
       "}\n",
       "</style>\n",
       "<small>shape: (10, 2)</small><table border=\"1\" class=\"dataframe\"><thead><tr><th>category</th><th>count</th></tr><tr><td>i64</td><td>u32</td></tr></thead><tbody><tr><td>35</td><td>162936</td></tr><tr><td>51</td><td>103040</td></tr><tr><td>19</td><td>56689</td></tr><tr><td>24</td><td>50747</td></tr><tr><td>40</td><td>49328</td></tr><tr><td>7</td><td>43318</td></tr><tr><td>37</td><td>41374</td></tr><tr><td>57</td><td>40553</td></tr><tr><td>46</td><td>40488</td></tr><tr><td>52</td><td>35708</td></tr></tbody></table></div>"
      ],
      "text/plain": [
       "shape: (10, 2)\n",
       "┌──────────┬────────┐\n",
       "│ category ┆ count  │\n",
       "│ ---      ┆ ---    │\n",
       "│ i64      ┆ u32    │\n",
       "╞══════════╪════════╡\n",
       "│ 35       ┆ 162936 │\n",
       "│ 51       ┆ 103040 │\n",
       "│ 19       ┆ 56689  │\n",
       "│ 24       ┆ 50747  │\n",
       "│ 40       ┆ 49328  │\n",
       "│ 7        ┆ 43318  │\n",
       "│ 37       ┆ 41374  │\n",
       "│ 57       ┆ 40553  │\n",
       "│ 46       ┆ 40488  │\n",
       "│ 52       ┆ 35708  │\n",
       "└──────────┴────────┘"
      ]
     },
     "execution_count": 54,
     "metadata": {},
     "output_type": "execute_result"
    }
   ],
   "source": [
    "df_cat_features[\"category\"].value_counts().sort(by=\"count\", descending=True).head(10)"
   ]
  },
  {
   "cell_type": "code",
   "execution_count": 55,
   "id": "96548fbb",
   "metadata": {},
   "outputs": [
    {
     "data": {
      "text/plain": [
       "101173"
      ]
     },
     "execution_count": 55,
     "metadata": {},
     "output_type": "execute_result"
    }
   ],
   "source": [
    "df_cat_features[\"node\"].n_unique()"
   ]
  },
  {
   "cell_type": "markdown",
   "id": "d9827148",
   "metadata": {},
   "source": [
    "**text_features.pq**\n",
    "- *item*  - id объявления [int64]\n",
    "- *title_projection* - вектор тайтла объявления array[int8, 64]. Чем выше скалярное произведение между 2-мя векторами, тем более похожи заголовки объявлений"
   ]
  },
  {
   "cell_type": "code",
   "execution_count": 56,
   "id": "a957d2e9",
   "metadata": {},
   "outputs": [
    {
     "data": {
      "text/html": [
       "<div><style>\n",
       ".dataframe > thead > tr,\n",
       ".dataframe > tbody > tr {\n",
       "  text-align: right;\n",
       "  white-space: pre-wrap;\n",
       "}\n",
       "</style>\n",
       "<small>shape: (5, 2)</small><table border=\"1\" class=\"dataframe\"><thead><tr><th>item</th><th>title_projection</th></tr><tr><td>i64</td><td>array[i8, 64]</td></tr></thead><tbody><tr><td>9</td><td>[-128, 90, … -36]</td></tr><tr><td>17</td><td>[-128, 127, … -3]</td></tr><tr><td>144</td><td>[-128, 97, … 18]</td></tr><tr><td>202</td><td>[-128, 127, … 15]</td></tr><tr><td>236</td><td>[-128, 29, … -128]</td></tr></tbody></table></div>"
      ],
      "text/plain": [
       "shape: (5, 2)\n",
       "┌──────┬────────────────────┐\n",
       "│ item ┆ title_projection   │\n",
       "│ ---  ┆ ---                │\n",
       "│ i64  ┆ array[i8, 64]      │\n",
       "╞══════╪════════════════════╡\n",
       "│ 9    ┆ [-128, 90, … -36]  │\n",
       "│ 17   ┆ [-128, 127, … -3]  │\n",
       "│ 144  ┆ [-128, 97, … 18]   │\n",
       "│ 202  ┆ [-128, 127, … 15]  │\n",
       "│ 236  ┆ [-128, 29, … -128] │\n",
       "└──────┴────────────────────┘"
      ]
     },
     "execution_count": 56,
     "metadata": {},
     "output_type": "execute_result"
    }
   ],
   "source": [
    "df_text_features = pl.read_parquet(f'{DATA_DIR}/text_features.pq', n_rows=100_000)\n",
    "\n",
    "df_text_features.head()"
   ]
  },
  {
   "cell_type": "markdown",
   "id": "5fe0c371",
   "metadata": {},
   "source": [
    "**events.pq**\n",
    "- *event* - id типы события [int64]\n",
    "- *is_contact* - 0 или 1. Является ли событие контактным [int64]"
   ]
  },
  {
   "cell_type": "code",
   "execution_count": 71,
   "id": "2a213502",
   "metadata": {},
   "outputs": [
    {
     "data": {
      "text/html": [
       "<div><style>\n",
       ".dataframe > thead > tr,\n",
       ".dataframe > tbody > tr {\n",
       "  text-align: right;\n",
       "  white-space: pre-wrap;\n",
       "}\n",
       "</style>\n",
       "<small>shape: (5, 2)</small><table border=\"1\" class=\"dataframe\"><thead><tr><th>event</th><th>is_contact</th></tr><tr><td>i64</td><td>i64</td></tr></thead><tbody><tr><td>0</td><td>1</td></tr><tr><td>11</td><td>0</td></tr><tr><td>4</td><td>1</td></tr><tr><td>16</td><td>0</td></tr><tr><td>15</td><td>1</td></tr></tbody></table></div>"
      ],
      "text/plain": [
       "shape: (5, 2)\n",
       "┌───────┬────────────┐\n",
       "│ event ┆ is_contact │\n",
       "│ ---   ┆ ---        │\n",
       "│ i64   ┆ i64        │\n",
       "╞═══════╪════════════╡\n",
       "│ 0     ┆ 1          │\n",
       "│ 11    ┆ 0          │\n",
       "│ 4     ┆ 1          │\n",
       "│ 16    ┆ 0          │\n",
       "│ 15    ┆ 1          │\n",
       "└───────┴────────────┘"
      ]
     },
     "execution_count": 71,
     "metadata": {},
     "output_type": "execute_result"
    }
   ],
   "source": [
    "df_events = pl.read_parquet(f'{DATA_DIR}/events.pq')\n",
    "\n",
    "df_events.head()"
   ]
  },
  {
   "cell_type": "code",
   "execution_count": 78,
   "id": "2020c68a",
   "metadata": {},
   "outputs": [
    {
     "data": {
      "text/html": [
       "<div><style>\n",
       ".dataframe > thead > tr,\n",
       ".dataframe > tbody > tr {\n",
       "  text-align: right;\n",
       "  white-space: pre-wrap;\n",
       "}\n",
       "</style>\n",
       "<small>shape: (19, 2)</small><table border=\"1\" class=\"dataframe\"><thead><tr><th>event</th><th>is_contact</th></tr><tr><td>i64</td><td>i64</td></tr></thead><tbody><tr><td>0</td><td>1</td></tr><tr><td>4</td><td>1</td></tr><tr><td>15</td><td>1</td></tr><tr><td>18</td><td>1</td></tr><tr><td>5</td><td>1</td></tr><tr><td>&hellip;</td><td>&hellip;</td></tr><tr><td>16</td><td>0</td></tr><tr><td>3</td><td>0</td></tr><tr><td>12</td><td>0</td></tr><tr><td>8</td><td>0</td></tr><tr><td>17</td><td>0</td></tr></tbody></table></div>"
      ],
      "text/plain": [
       "shape: (19, 2)\n",
       "┌───────┬────────────┐\n",
       "│ event ┆ is_contact │\n",
       "│ ---   ┆ ---        │\n",
       "│ i64   ┆ i64        │\n",
       "╞═══════╪════════════╡\n",
       "│ 0     ┆ 1          │\n",
       "│ 4     ┆ 1          │\n",
       "│ 15    ┆ 1          │\n",
       "│ 18    ┆ 1          │\n",
       "│ 5     ┆ 1          │\n",
       "│ …     ┆ …          │\n",
       "│ 16    ┆ 0          │\n",
       "│ 3     ┆ 0          │\n",
       "│ 12    ┆ 0          │\n",
       "│ 8     ┆ 0          │\n",
       "│ 17    ┆ 0          │\n",
       "└───────┴────────────┘"
      ]
     },
     "execution_count": 78,
     "metadata": {},
     "output_type": "execute_result"
    }
   ],
   "source": [
    "df_events.sort(\"is_contact\", descending=True)"
   ]
  }
 ],
 "metadata": {
  "kernelspec": {
   "display_name": ".venv",
   "language": "python",
   "name": "python3"
  },
  "language_info": {
   "codemirror_mode": {
    "name": "ipython",
    "version": 3
   },
   "file_extension": ".py",
   "mimetype": "text/x-python",
   "name": "python",
   "nbconvert_exporter": "python",
   "pygments_lexer": "ipython3",
   "version": "3.12.9"
  }
 },
 "nbformat": 4,
 "nbformat_minor": 5
}
